{
 "cells": [
  {
   "cell_type": "markdown",
   "id": "bd8d3879-e783-4f71-862d-275fba82efcb",
   "metadata": {},
   "source": [
    "Exercise 1"
   ]
  },
  {
   "cell_type": "code",
   "execution_count": 73,
   "id": "a00db1ec-bfe2-4fce-bb0d-ada287c73270",
   "metadata": {},
   "outputs": [
    {
     "name": "stdin",
     "output_type": "stream",
     "text": [
      " abuse aboba abb ab a abc\n"
     ]
    },
    {
     "name": "stdout",
     "output_type": "stream",
     "text": [
      "'abuse' does not match\n",
      "'aboba' does not match\n",
      "'abb' matches\n",
      "'ab' matches\n",
      "'a' matches\n",
      "'abc' does not match\n"
     ]
    }
   ],
   "source": [
    "import re\n",
    "txt=input()\n",
    "matching = r\"ab*\"\n",
    "words=txt.split()\n",
    "for word in words:\n",
    "    if re.fullmatch(matching, word):\n",
    "        print(f\"'{word}' matches\")\n",
    "    else:\n",
    "        print(f\"'{word}' does not match\") #код чтобы проверить на matching каждое слово в тексте используя fullmatch\n",
    "\n",
    "#import re\n",
    "#txt=input()\n",
    "#matching = r\"ab*\"\n",
    "#words=txt.split()\n",
    "#for word in words:\n",
    "#    if re.findall(matching, word):\n",
    "#        print(f\"'{word}' matches\")\n",
    "#    else:\n",
    "#        print(f\"'{word}' does not match\") \"\"\" #код чтобы найти те словах в которых элементы подходят"
   ]
  },
  {
   "cell_type": "markdown",
   "id": "a8217998-03be-4912-bc72-7fe5d36d2f8c",
   "metadata": {},
   "source": [
    "Exercise 2"
   ]
  },
  {
   "cell_type": "code",
   "execution_count": 75,
   "id": "bc1d69bb-4285-4be0-96bd-188a63a03b07",
   "metadata": {},
   "outputs": [
    {
     "name": "stdin",
     "output_type": "stream",
     "text": [
      " abbb abc abb abobabbb\n"
     ]
    },
    {
     "name": "stdout",
     "output_type": "stream",
     "text": [
      "'abbb' matches\n",
      "'abc' does not match\n",
      "'abb' matches\n",
      "'abobabbb' does not match\n"
     ]
    }
   ],
   "source": [
    "import re\n",
    "txt=input()\n",
    "matching = r\"ab{2,3}$\"\n",
    "words=txt.split()\n",
    "for word in words:\n",
    "    if re.fullmatch(matching, word):\n",
    "        print(f\"'{word}' matches\")\n",
    "    else:\n",
    "        print(f\"'{word}' does not match\") #код чтобы проверить на matching каждое слово в тексте используя fullmatch\n",
    "\n",
    "#import re\n",
    "#txt=input()\n",
    "#matching = r\"ab{2,3}\"\n",
    "#words=txt.split()\n",
    "#for word in words:\n",
    "#    if re.findall(matching, word):\n",
    "#        print(f\"'{word}' matches\")\n",
    "#    else:\n",
    "#        print(f\"'{word}' does not match\") #код чтобы найти те словах в которых элементы подходят используя findall'''\n",
    "\n",
    "#'''import re\n",
    "#txt=input()\n",
    "#matching = r\"ab{2,3}$\"\n",
    "#words=txt.split()\n",
    "#for word in words:\n",
    "#    if re.fullmatch(matching, word):\n",
    "#        print(f\"'{word}' matches\")\n",
    "#    else:\n",
    "#        print(f\"'{word}' does not match\")'''"
   ]
  },
  {
   "cell_type": "markdown",
   "id": "8bddacec-23c9-449c-80a4-1007ef4ccc52",
   "metadata": {},
   "source": [
    "Exercise 3"
   ]
  },
  {
   "cell_type": "code",
   "execution_count": 105,
   "id": "d7187bc5-3769-4d71-a7b2-5921668ec0ff",
   "metadata": {},
   "outputs": [
    {
     "name": "stdin",
     "output_type": "stream",
     "text": [
      " hello_world it_is_me My_Name_Is i_am_dameli\n"
     ]
    },
    {
     "name": "stdout",
     "output_type": "stream",
     "text": [
      "['hello_world']\n"
     ]
    }
   ],
   "source": [
    "import re\n",
    "txt = input()\n",
    "x = r\"\\b[a-z]+_[a-z]+\\b\"\n",
    "sequence = re.findall(x, txt)\n",
    "print(sequence)"
   ]
  },
  {
   "cell_type": "markdown",
   "id": "323f1f6c-d908-4086-badb-34405d4f6bcf",
   "metadata": {},
   "source": [
    "Exercise 4"
   ]
  },
  {
   "cell_type": "code",
   "execution_count": 100,
   "id": "c808784f-cd63-4b8b-a5b7-a309d5fd9bae",
   "metadata": {},
   "outputs": [
    {
     "name": "stdin",
     "output_type": "stream",
     "text": [
      " HELLO World my NAME is Dameli\n"
     ]
    },
    {
     "name": "stdout",
     "output_type": "stream",
     "text": [
      "['World', 'Dameli']\n"
     ]
    }
   ],
   "source": [
    "import re\n",
    "txt=input()\n",
    "x=r\"\\b[A-Z]+[a-z]+\\b\"\n",
    "sequence=re.findall(x,txt)\n",
    "print(sequence)"
   ]
  },
  {
   "cell_type": "markdown",
   "id": "d8132f42-e927-48da-b814-d2fc9d4b4d73",
   "metadata": {},
   "source": [
    "Exercise 5"
   ]
  },
  {
   "cell_type": "code",
   "execution_count": 109,
   "id": "20ae36b6-3e3b-4d08-95f9-9f22e3be7aca",
   "metadata": {
    "scrolled": true
   },
   "outputs": [
    {
     "name": "stdin",
     "output_type": "stream",
     "text": [
      " abc abb alongsentencewithb\n"
     ]
    },
    {
     "name": "stdout",
     "output_type": "stream",
     "text": [
      "'abc' does not match\n",
      "'abb' matches\n",
      "'alongsentencewithb' matches\n"
     ]
    }
   ],
   "source": [
    "import re\n",
    "txt=input()\n",
    "x=r\"a+[a-z]*b+\"\n",
    "words=txt.split()\n",
    "for word in words:\n",
    "    if re.fullmatch(x, word):\n",
    "        print(f\"'{word}' matches\")\n",
    "    else:\n",
    "        print(f\"'{word}' does not match\")"
   ]
  },
  {
   "cell_type": "markdown",
   "id": "5ca0f123-e964-4ced-a700-7cb08161f67b",
   "metadata": {},
   "source": [
    "Exercise 6"
   ]
  },
  {
   "cell_type": "code",
   "execution_count": 114,
   "id": "e188c9f3-1578-4953-aa48-4e6a0f4f22c0",
   "metadata": {},
   "outputs": [
    {
     "name": "stdin",
     "output_type": "stream",
     "text": [
      " hello,everyone. My name is Dameli, I study in KBTU\n"
     ]
    },
    {
     "name": "stdout",
     "output_type": "stream",
     "text": [
      "hello:everyone::My:name:is:Dameli::I:study:in:KBTU\n"
     ]
    }
   ],
   "source": [
    "import re\n",
    "txt=input()\n",
    "x=re.sub(r\"[\\s,\\.]\", \":\", txt)\n",
    "print(x)"
   ]
  },
  {
   "cell_type": "markdown",
   "id": "04bb7d6c-ed04-449a-8781-cad344155f45",
   "metadata": {},
   "source": [
    "Exercise 7"
   ]
  },
  {
   "cell_type": "code",
   "execution_count": 131,
   "id": "159d1a85-0892-446e-94ba-5fff2d834f13",
   "metadata": {},
   "outputs": [
    {
     "name": "stdin",
     "output_type": "stream",
     "text": [
      " hello_my_name_is_dameli\n"
     ]
    },
    {
     "name": "stdout",
     "output_type": "stream",
     "text": [
      "helloMyNameIsDameli\n"
     ]
    }
   ],
   "source": [
    "import re\n",
    "txt=input()\n",
    "new = \"\"\n",
    "i=0\n",
    "while i<len(txt):\n",
    "    if txt[i] == \"_\":\n",
    "        new += txt[i + 1].upper()\n",
    "        txt = txt[:i] + txt[i+1:]\n",
    "    else:\n",
    "        new += txt[i]\n",
    "    i+=1\n",
    "print(new)"
   ]
  },
  {
   "cell_type": "markdown",
   "id": "1a49c649-c6d5-4924-92f5-9a8561c50886",
   "metadata": {},
   "source": [
    "Exercise 8"
   ]
  },
  {
   "cell_type": "code",
   "execution_count": 136,
   "id": "5fde6026-4b59-4068-8dd0-17addda106eb",
   "metadata": {},
   "outputs": [
    {
     "name": "stdin",
     "output_type": "stream",
     "text": [
      " helloPythonWorld\n"
     ]
    },
    {
     "name": "stdout",
     "output_type": "stream",
     "text": [
      "['hello', 'Python', 'World']\n"
     ]
    }
   ],
   "source": [
    "import re\n",
    "txt=input()\n",
    "result = re.findall(r'[a-z]+|[A-Z][a-z]*', txt)\n",
    "print(result)"
   ]
  },
  {
   "cell_type": "markdown",
   "id": "ed1daafd-d233-4dd0-b77a-160234302a4d",
   "metadata": {},
   "source": [
    "Exercise 9"
   ]
  },
  {
   "cell_type": "code",
   "execution_count": 143,
   "id": "e30af723-66d0-4040-8668-4ecf7a544a75",
   "metadata": {},
   "outputs": [
    {
     "name": "stdin",
     "output_type": "stream",
     "text": [
      " helloPythonWorld\n"
     ]
    },
    {
     "name": "stdout",
     "output_type": "stream",
     "text": [
      "hello Python World\n"
     ]
    }
   ],
   "source": [
    "import re\n",
    "txt=input()\n",
    "result=re.sub(r'([a-z])([A-Z])', r'\\1 \\2',  txt)\n",
    "print(result)"
   ]
  },
  {
   "cell_type": "markdown",
   "id": "04da7e59-511b-4e56-a0e1-9f05f39cfe6c",
   "metadata": {},
   "source": [
    "Exercise 10"
   ]
  },
  {
   "cell_type": "code",
   "execution_count": 150,
   "id": "d904454e-ad86-48aa-82bb-9b7a27696ef5",
   "metadata": {},
   "outputs": [
    {
     "name": "stdin",
     "output_type": "stream",
     "text": [
      " Hello World\n"
     ]
    },
    {
     "name": "stdout",
     "output_type": "stream",
     "text": [
      "_hello _world\n"
     ]
    }
   ],
   "source": [
    "a=input()\n",
    "i=0\n",
    "result=\"\"\n",
    "while i<len(a):\n",
    "    if (a[i].isupper()):\n",
    "        result+=\"_\"\n",
    "        result+=a[i].lower()\n",
    "    else:\n",
    "        result+=a[i]\n",
    "    i+=1\n",
    "\n",
    "print(result)"
   ]
  }
 ],
 "metadata": {
  "kernelspec": {
   "display_name": "Python [conda env:base] *",
   "language": "python",
   "name": "conda-base-py"
  },
  "language_info": {
   "codemirror_mode": {
    "name": "ipython",
    "version": 3
   },
   "file_extension": ".py",
   "mimetype": "text/x-python",
   "name": "python",
   "nbconvert_exporter": "python",
   "pygments_lexer": "ipython3",
   "version": "3.12.7"
  }
 },
 "nbformat": 4,
 "nbformat_minor": 5
}
