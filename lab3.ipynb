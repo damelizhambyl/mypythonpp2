{
 "cells": [
  {
   "cell_type": "markdown",
   "id": "d9e29e6b-9a42-4d4a-ac2b-9c9c79073585",
   "metadata": {},
   "source": [
    "Exercise 1.function1"
   ]
  },
  {
   "cell_type": "code",
   "execution_count": 21,
   "id": "93adc986-9ca8-4953-aebf-f3541d76e3df",
   "metadata": {},
   "outputs": [
    {
     "name": "stdin",
     "output_type": "stream",
     "text": [
      " 45\n"
     ]
    },
    {
     "name": "stdout",
     "output_type": "stream",
     "text": [
      "1275.7285395\n"
     ]
    }
   ],
   "source": [
    "def myfunc():\n",
    "    grams=int(input())\n",
    "    ounces = 28.3495231 * grams\n",
    "    print(float(ounces))\n",
    "myfunc()"
   ]
  },
  {
   "cell_type": "markdown",
   "id": "91c701e5-d2d7-4ba0-8120-da2d572a19fe",
   "metadata": {},
   "source": [
    "Exercise2.function1"
   ]
  },
  {
   "cell_type": "code",
   "execution_count": 2,
   "id": "db949219-f0f2-47f5-8e7c-cd458957bdcd",
   "metadata": {},
   "outputs": [
    {
     "name": "stdin",
     "output_type": "stream",
     "text": [
      " 237\n"
     ]
    },
    {
     "name": "stdout",
     "output_type": "stream",
     "text": [
      "113.8888888888889\n"
     ]
    }
   ],
   "source": [
    "\n",
    "def myfunc():\n",
    "    F = int(input())\n",
    "    C = (5 / 9) * (F - 32)\n",
    "    print(C)\n",
    "myfunc()"
   ]
  },
  {
   "cell_type": "markdown",
   "id": "3b846b5f-66af-4837-af69-f2350fc65c5f",
   "metadata": {},
   "source": [
    "Exercise3.function1"
   ]
  },
  {
   "cell_type": "code",
   "execution_count": 26,
   "id": "9e9fe770-1069-4b8c-bac0-51ab230340ee",
   "metadata": {},
   "outputs": [
    {
     "name": "stdout",
     "output_type": "stream",
     "text": [
      "chickens: 23 rabbits: 12\n"
     ]
    }
   ],
   "source": [
    "def solve(numheads, numlegs):\n",
    "    rabbits=(numlegs - 2 * numheads) // 2\n",
    "    chickens = numheads - rabbits\n",
    "    if rabbits<0 or chickens<0 or (2 * chickens + 4 * rabbits) != numlegs:\n",
    "        return \"No sulution!\"\n",
    "    return chickens, rabbits\n",
    "numheads=35\n",
    "numlegs=94\n",
    "result=solve(numheads, numlegs)\n",
    "print(\"chickens:\",result[0], \"rabbits:\", result[1])"
   ]
  },
  {
   "cell_type": "markdown",
   "id": "dd403d18-58eb-4258-8139-d668d57b7a7e",
   "metadata": {},
   "source": [
    "Exercise4.function1"
   ]
  },
  {
   "cell_type": "code",
   "execution_count": 177,
   "id": "2d9a838d-ba15-4f5b-8ad1-bbeb2c607479",
   "metadata": {},
   "outputs": [
    {
     "name": "stdin",
     "output_type": "stream",
     "text": [
      " 4 33 17 19 8\n"
     ]
    },
    {
     "name": "stdout",
     "output_type": "stream",
     "text": [
      "[17, 19]\n"
     ]
    }
   ],
   "source": [
    "def fltr_prm(nums):\n",
    "    p = []\n",
    "    for i in nums:\n",
    "        if i < 2:\n",
    "            continue\n",
    "        else:\n",
    "            cnt = 0\n",
    "            for j in range(1, i + 1):\n",
    "                if i % j == 0:\n",
    "                    cnt += 1\n",
    "            if cnt == 2:\n",
    "                p.append(i)\n",
    "    if len(p) == 0:\n",
    "        return \"There are no primes here\"\n",
    "    return p\n",
    "            \n",
    "\n",
    "nums = list(map(int, input().split()))\n",
    "\n",
    "prime_nums = fltr_prm(nums)\n",
    "\n",
    "print(prime_nums)"
   ]
  },
  {
   "cell_type": "markdown",
   "id": "a07f6684-88dd-42ed-ac8c-c3b79359e63a",
   "metadata": {},
   "source": [
    "Exercise5.function1"
   ]
  },
  {
   "cell_type": "code",
   "execution_count": 175,
   "id": "4470c6cb-5ca8-4340-946a-81bd5c60da54",
   "metadata": {},
   "outputs": [
    {
     "name": "stdin",
     "output_type": "stream",
     "text": [
      "Enter the word:  abc\n"
     ]
    },
    {
     "name": "stdout",
     "output_type": "stream",
     "text": [
      "abc\n",
      "acb\n",
      "bac\n",
      "bca\n",
      "cab\n",
      "cba\n"
     ]
    }
   ],
   "source": [
    "def permute(s, answer=\"\"):\n",
    "    if len(s) == 0:\n",
    "        print(answer)\n",
    "        return\n",
    "    for i in range(len(s)):\n",
    "        permute(s[:i] + s[i+1:], answer + s[i])\n",
    "\n",
    "w = input(\"Enter the word: \")\n",
    "permute(w)"
   ]
  },
  {
   "cell_type": "markdown",
   "id": "252a9dfd-ea28-4964-b7ce-303b058c4b73",
   "metadata": {},
   "source": [
    "Exercise6.function1"
   ]
  },
  {
   "cell_type": "code",
   "execution_count": 87,
   "id": "7d790514-8b12-471b-a1c1-62208215a55c",
   "metadata": {},
   "outputs": [
    {
     "name": "stdin",
     "output_type": "stream",
     "text": [
      " hello everyone\n"
     ]
    },
    {
     "name": "stdout",
     "output_type": "stream",
     "text": [
      "everyone hello\n"
     ]
    }
   ],
   "source": [
    "def myreverse(s):\n",
    "    return \" \".join(s.split()[::-1])\n",
    "\n",
    "mysentence=input()\n",
    "print(myreverse(mysentence))"
   ]
  },
  {
   "cell_type": "markdown",
   "id": "623abddd-aaa0-45fe-bc02-28028288c30c",
   "metadata": {},
   "source": [
    "Exercise7.function1"
   ]
  },
  {
   "cell_type": "code",
   "execution_count": 135,
   "id": "525e1a83-de9b-4906-982d-da20314ee505",
   "metadata": {},
   "outputs": [
    {
     "name": "stdin",
     "output_type": "stream",
     "text": [
      " 3 3 4 \n"
     ]
    },
    {
     "name": "stdout",
     "output_type": "stream",
     "text": [
      "True\n"
     ]
    }
   ],
   "source": [
    "def myfunc(nums):\n",
    "    cnt=0\n",
    "    for i in range(0, len(nums)-1):\n",
    "        if(nums[i] == 3 and nums[i+1] == 3):\n",
    "            return True\n",
    "        else:\n",
    "            return False\n",
    "mynums = list(map(int, input().split()))\n",
    "print(myfunc(mynums))"
   ]
  },
  {
   "cell_type": "markdown",
   "id": "ceb4c5b9-affa-4a7c-acb1-f572d4cc3879",
   "metadata": {},
   "source": [
    "Exercise8.function1"
   ]
  },
  {
   "cell_type": "code",
   "execution_count": 128,
   "id": "f415dd4b-b6b1-490e-a1f0-511622de0605",
   "metadata": {},
   "outputs": [
    {
     "name": "stdin",
     "output_type": "stream",
     "text": [
      " 0 0 7 8 9\n"
     ]
    },
    {
     "name": "stdout",
     "output_type": "stream",
     "text": [
      "True\n"
     ]
    }
   ],
   "source": [
    "def myfunc(nums):\n",
    "    for i in range(0, len(nums)-2):\n",
    "        if (nums[i]==0 and nums[i+1]==0 and nums[i+2]==7):\n",
    "            return True\n",
    "        else:\n",
    "            return False\n",
    "\n",
    "mynums=list(map(int, input().split()))\n",
    "print(myfunc(mynums))"
   ]
  },
  {
   "cell_type": "markdown",
   "id": "d652ecea-940c-4a69-83d0-ab913a8c9109",
   "metadata": {},
   "source": [
    "Exercise9.function1"
   ]
  },
  {
   "cell_type": "code",
   "execution_count": 133,
   "id": "026accca-7522-4abf-b924-8c0f08cfc692",
   "metadata": {},
   "outputs": [
    {
     "name": "stdin",
     "output_type": "stream",
     "text": [
      " 5\n"
     ]
    },
    {
     "name": "stdout",
     "output_type": "stream",
     "text": [
      "523.3333333333334\n"
     ]
    }
   ],
   "source": [
    "def myfunc():\n",
    "    r=int(input())\n",
    "    p=3.14\n",
    "    v=4/3*p*(r**3)\n",
    "    print(v)\n",
    "myfunc()"
   ]
  },
  {
   "cell_type": "markdown",
   "id": "13f6000e-e6b1-4087-8c9c-30d86131010a",
   "metadata": {},
   "source": [
    "Exercise10.function1"
   ]
  },
  {
   "cell_type": "code",
   "execution_count": 146,
   "id": "fe56c98f-2256-4ca1-9911-c212b7870b6a",
   "metadata": {},
   "outputs": [
    {
     "name": "stdin",
     "output_type": "stream",
     "text": [
      " 3 4 2 2 5 6 7 7 8\n"
     ]
    },
    {
     "name": "stdout",
     "output_type": "stream",
     "text": [
      "[3, 4, 2, 5, 6, 7, 8]\n"
     ]
    }
   ],
   "source": [
    "def myfunc(thislist):\n",
    "    newlist=[]\n",
    "    for x in thislist:\n",
    "        if x not in newlist:\n",
    "            newlist.append(x)\n",
    "    return newlist\n",
    "mylist=list(map(int, input().split()))\n",
    "print(myfunc(mylist))"
   ]
  },
  {
   "cell_type": "markdown",
   "id": "a6f61500-f12b-48cf-8255-ef96b2816ba8",
   "metadata": {},
   "source": [
    "Exercise11.function1"
   ]
  },
  {
   "cell_type": "code",
   "execution_count": 179,
   "id": "b0d77b63-a36b-4696-bcc6-36e09058cd89",
   "metadata": {},
   "outputs": [
    {
     "name": "stdin",
     "output_type": "stream",
     "text": [
      "text:  madam\n"
     ]
    },
    {
     "name": "stdout",
     "output_type": "stream",
     "text": [
      "YES\n"
     ]
    }
   ],
   "source": [
    "def palindrom(text):\n",
    "    if text == text[::-1]:\n",
    "        print(\"YES\")\n",
    "    else:\n",
    "        print(\"NO\")\n",
    "\n",
    "text = input(\"text: \")\n",
    "palindrom(text)"
   ]
  },
  {
   "cell_type": "markdown",
   "id": "8071a622-0130-415e-a708-791de1a7d90b",
   "metadata": {},
   "source": [
    "Exercise12.function1"
   ]
  },
  {
   "cell_type": "code",
   "execution_count": 164,
   "id": "386717de-f482-4bc6-9b2f-f184952591e6",
   "metadata": {},
   "outputs": [
    {
     "name": "stdin",
     "output_type": "stream",
     "text": [
      " 4 9 7\n"
     ]
    },
    {
     "name": "stdout",
     "output_type": "stream",
     "text": [
      "****\n",
      "*********\n",
      "*******\n"
     ]
    }
   ],
   "source": [
    "def histogram():\n",
    "    n=list(map(int, input().split()))\n",
    "    for i in n:\n",
    "        print(\"*\"*i)\n",
    "\n",
    "histogram()"
   ]
  },
  {
   "cell_type": "markdown",
   "id": "b63e8d64-1163-47da-8818-bd38aabbae4b",
   "metadata": {},
   "source": [
    "Exercise13.function1"
   ]
  },
  {
   "cell_type": "code",
   "execution_count": 169,
   "id": "815aa6c4-4582-4329-b6c1-c77f2e9dc57d",
   "metadata": {},
   "outputs": [
    {
     "name": "stdout",
     "output_type": "stream",
     "text": [
      "Hello! What is your name?\n"
     ]
    },
    {
     "name": "stdin",
     "output_type": "stream",
     "text": [
      " kbtu\n"
     ]
    },
    {
     "name": "stdout",
     "output_type": "stream",
     "text": [
      "\n",
      "Well, kbtu, I am thinking of a number between 1 and 20.\n",
      "Take a guess.\n"
     ]
    },
    {
     "name": "stdin",
     "output_type": "stream",
     "text": [
      " 30\n"
     ]
    },
    {
     "name": "stdout",
     "output_type": "stream",
     "text": [
      "Your guess is too high.\n",
      "Take a guess.\n"
     ]
    },
    {
     "name": "stdin",
     "output_type": "stream",
     "text": [
      " 20\n"
     ]
    },
    {
     "name": "stdout",
     "output_type": "stream",
     "text": [
      "Your guess is too high.\n",
      "Take a guess.\n"
     ]
    },
    {
     "name": "stdin",
     "output_type": "stream",
     "text": [
      " 12\n"
     ]
    },
    {
     "name": "stdout",
     "output_type": "stream",
     "text": [
      "Your guess is too low.\n",
      "Take a guess.\n"
     ]
    },
    {
     "name": "stdin",
     "output_type": "stream",
     "text": [
      " 13\n"
     ]
    },
    {
     "name": "stdout",
     "output_type": "stream",
     "text": [
      "Your guess is too low.\n",
      "Take a guess.\n"
     ]
    },
    {
     "name": "stdin",
     "output_type": "stream",
     "text": [
      " 19\n"
     ]
    },
    {
     "name": "stdout",
     "output_type": "stream",
     "text": [
      "Good job, kbtu! You guessed my number in 5 guesses!\n"
     ]
    }
   ],
   "source": [
    "import random\n",
    "\n",
    "def guess_the_number():\n",
    "    print(\"Hello! What is your name?\")\n",
    "    name = input()\n",
    "\n",
    "    print(f\"\\nWell, {name}, I am thinking of a number between 1 and 20.\")\n",
    "\n",
    "    secret_number = random.randint(1, 20)\n",
    "    attempts = 0\n",
    "\n",
    "    while True:\n",
    "        print(\"Take a guess.\")\n",
    "        try:\n",
    "            guess = int(input())\n",
    "            attempts += 1\n",
    "\n",
    "            if guess < secret_number:\n",
    "                print(\"Your guess is too low.\")\n",
    "            elif guess > secret_number:\n",
    "                print(\"Your guess is too high.\")\n",
    "            else:\n",
    "                print(f\"Good job, {name}! You guessed my number in {attempts} guesses!\")\n",
    "                break\n",
    "        except ValueError:\n",
    "            print(\"Please enter a valid number between 1 and 20.\")\n",
    "\n",
    "guess_the_number()"
   ]
  },
  {
   "cell_type": "markdown",
   "id": "70d89f82-1e3a-47cf-b000-b4901ad8b164",
   "metadata": {},
   "source": [
    "Exercise1.function2"
   ]
  },
  {
   "cell_type": "code",
   "execution_count": 186,
   "id": "738d1194-36c1-49b8-a876-9f1d3bfc2a4c",
   "metadata": {},
   "outputs": [
    {
     "name": "stdin",
     "output_type": "stream",
     "text": [
      "Name:  Joking muck\n"
     ]
    },
    {
     "name": "stdout",
     "output_type": "stream",
     "text": [
      "True\n"
     ]
    }
   ],
   "source": [
    "# Dictionary of movies\n",
    "\n",
    "movies = [\n",
    "{\n",
    "\"name\": \"Usual Suspects\", \n",
    "\"imdb\": 7.0,\n",
    "\"category\": \"Thriller\"\n",
    "},\n",
    "{\n",
    "\"name\": \"Hitman\",\n",
    "\"imdb\": 6.3,\n",
    "\"category\": \"Action\"\n",
    "},\n",
    "{\n",
    "\"name\": \"Dark Knight\",\n",
    "\"imdb\": 9.0,\n",
    "\"category\": \"Adventure\"\n",
    "},\n",
    "{\n",
    "\"name\": \"The Help\",\n",
    "\"imdb\": 8.0,\n",
    "\"category\": \"Drama\"\n",
    "},\n",
    "{\n",
    "\"name\": \"The Choice\",\n",
    "\"imdb\": 6.2,\n",
    "\"category\": \"Romance\"\n",
    "},\n",
    "{\n",
    "\"name\": \"Colonia\",\n",
    "\"imdb\": 7.4,\n",
    "\"category\": \"Romance\"\n",
    "},\n",
    "{\n",
    "\"name\": \"Love\",\n",
    "\"imdb\": 6.0,\n",
    "\"category\": \"Romance\"\n",
    "},\n",
    "{\n",
    "\"name\": \"Bride Wars\",\n",
    "\"imdb\": 5.4,\n",
    "\"category\": \"Romance\"\n",
    "},\n",
    "{\n",
    "\"name\": \"AlphaJet\",\n",
    "\"imdb\": 3.2,\n",
    "\"category\": \"War\"\n",
    "},\n",
    "{\n",
    "\"name\": \"Ringing Crime\",\n",
    "\"imdb\": 4.0,\n",
    "\"category\": \"Crime\"\n",
    "},\n",
    "{\n",
    "\"name\": \"Joking muck\",\n",
    "\"imdb\": 7.2,\n",
    "\"category\": \"Comedy\"\n",
    "},\n",
    "{\n",
    "\"name\": \"What is the name\",\n",
    "\"imdb\": 9.2,\n",
    "\"category\": \"Suspense\"\n",
    "},\n",
    "{\n",
    "\"name\": \"Detective\",\n",
    "\"imdb\": 7.0,\n",
    "\"category\": \"Suspense\"\n",
    "},\n",
    "{\n",
    "\"name\": \"Exam\",\n",
    "\"imdb\": 4.2,\n",
    "\"category\": \"Thriller\"\n",
    "},\n",
    "{\n",
    "\"name\": \"We Two\",\n",
    "\"imdb\": 7.2,\n",
    "\"category\": \"Romance\"\n",
    "}\n",
    "]\n",
    "\n",
    "def imdb(movies):\n",
    "    name = input(\"Name: \")\n",
    "    for movie in movies:\n",
    "        if movie[\"name\"] == name:\n",
    "            if movie[\"imdb\"] > 5.5:\n",
    "                return True\n",
    "    return False\n",
    "\n",
    "print(imdb(movies))"
   ]
  },
  {
   "cell_type": "markdown",
   "id": "bc10f4a3-0e96-435c-b2a0-71703dca641c",
   "metadata": {},
   "source": [
    "Exercise2.function2"
   ]
  },
  {
   "cell_type": "code",
   "execution_count": 189,
   "id": "98b35f44-cd27-4252-8ca2-364591675227",
   "metadata": {},
   "outputs": [
    {
     "name": "stdout",
     "output_type": "stream",
     "text": [
      "['Usual Suspects', 'Hitman', 'Dark Knight', 'The Help', 'The Choice', 'Colonia', 'Love', 'Joking muck', 'What is the name', 'Detective', 'We Two']\n"
     ]
    }
   ],
   "source": [
    "# Dictionary of movies\n",
    "\n",
    "movies = [\n",
    "{\n",
    "\"name\": \"Usual Suspects\", \n",
    "\"imdb\": 7.0,\n",
    "\"category\": \"Thriller\"\n",
    "},\n",
    "{\n",
    "\"name\": \"Hitman\",\n",
    "\"imdb\": 6.3,\n",
    "\"category\": \"Action\"\n",
    "},\n",
    "{\n",
    "\"name\": \"Dark Knight\",\n",
    "\"imdb\": 9.0,\n",
    "\"category\": \"Adventure\"\n",
    "},\n",
    "{\n",
    "\"name\": \"The Help\",\n",
    "\"imdb\": 8.0,\n",
    "\"category\": \"Drama\"\n",
    "},\n",
    "{\n",
    "\"name\": \"The Choice\",\n",
    "\"imdb\": 6.2,\n",
    "\"category\": \"Romance\"\n",
    "},\n",
    "{\n",
    "\"name\": \"Colonia\",\n",
    "\"imdb\": 7.4,\n",
    "\"category\": \"Romance\"\n",
    "},\n",
    "{\n",
    "\"name\": \"Love\",\n",
    "\"imdb\": 6.0,\n",
    "\"category\": \"Romance\"\n",
    "},\n",
    "{\n",
    "\"name\": \"Bride Wars\",\n",
    "\"imdb\": 5.4,\n",
    "\"category\": \"Romance\"\n",
    "},\n",
    "{\n",
    "\"name\": \"AlphaJet\",\n",
    "\"imdb\": 3.2,\n",
    "\"category\": \"War\"\n",
    "},\n",
    "{\n",
    "\"name\": \"Ringing Crime\",\n",
    "\"imdb\": 4.0,\n",
    "\"category\": \"Crime\"\n",
    "},\n",
    "{\n",
    "\"name\": \"Joking muck\",\n",
    "\"imdb\": 7.2,\n",
    "\"category\": \"Comedy\"\n",
    "},\n",
    "{\n",
    "\"name\": \"What is the name\",\n",
    "\"imdb\": 9.2,\n",
    "\"category\": \"Suspense\"\n",
    "},\n",
    "{\n",
    "\"name\": \"Detective\",\n",
    "\"imdb\": 7.0,\n",
    "\"category\": \"Suspense\"\n",
    "},\n",
    "{\n",
    "\"name\": \"Exam\",\n",
    "\"imdb\": 4.2,\n",
    "\"category\": \"Thriller\"\n",
    "},\n",
    "{\n",
    "\"name\": \"We Two\",\n",
    "\"imdb\": 7.2,\n",
    "\"category\": \"Romance\"\n",
    "}\n",
    "]\n",
    "\n",
    "def score(movies):\n",
    "    result = []\n",
    "    for movie in movies:\n",
    "        if movie[\"imdb\"] > 5.5:\n",
    "            result.append(movie[\"name\"]) # or result.append(movie)\n",
    "    return result\n",
    "\n",
    "print(score(movies))"
   ]
  },
  {
   "cell_type": "markdown",
   "id": "318d79bf-d048-42a1-8c51-a19450bb6f16",
   "metadata": {},
   "source": [
    "Exercise3.function2"
   ]
  },
  {
   "cell_type": "code",
   "execution_count": 192,
   "id": "1ba2789a-0b21-436e-8353-855942b6c2b8",
   "metadata": {},
   "outputs": [
    {
     "name": "stdin",
     "output_type": "stream",
     "text": [
      "name:  Romance\n"
     ]
    },
    {
     "name": "stdout",
     "output_type": "stream",
     "text": [
      "['The Choice', 'Colonia', 'Love', 'Bride Wars', 'We Two']\n"
     ]
    }
   ],
   "source": [
    "# Dictionary of movies\n",
    "\n",
    "movies = [\n",
    "{\n",
    "\"name\": \"Usual Suspects\", \n",
    "\"imdb\": 7.0,\n",
    "\"category\": \"Thriller\"\n",
    "},\n",
    "{\n",
    "\"name\": \"Hitman\",\n",
    "\"imdb\": 6.3,\n",
    "\"category\": \"Action\"\n",
    "},\n",
    "{\n",
    "\"name\": \"Dark Knight\",\n",
    "\"imdb\": 9.0,\n",
    "\"category\": \"Adventure\"\n",
    "},\n",
    "{\n",
    "\"name\": \"The Help\",\n",
    "\"imdb\": 8.0,\n",
    "\"category\": \"Drama\"\n",
    "},\n",
    "{\n",
    "\"name\": \"The Choice\",\n",
    "\"imdb\": 6.2,\n",
    "\"category\": \"Romance\"\n",
    "},\n",
    "{\n",
    "\"name\": \"Colonia\",\n",
    "\"imdb\": 7.4,\n",
    "\"category\": \"Romance\"\n",
    "},\n",
    "{\n",
    "\"name\": \"Love\",\n",
    "\"imdb\": 6.0,\n",
    "\"category\": \"Romance\"\n",
    "},\n",
    "{\n",
    "\"name\": \"Bride Wars\",\n",
    "\"imdb\": 5.4,\n",
    "\"category\": \"Romance\"\n",
    "},\n",
    "{\n",
    "\"name\": \"AlphaJet\",\n",
    "\"imdb\": 3.2,\n",
    "\"category\": \"War\"\n",
    "},\n",
    "{\n",
    "\"name\": \"Ringing Crime\",\n",
    "\"imdb\": 4.0,\n",
    "\"category\": \"Crime\"\n",
    "},\n",
    "{\n",
    "\"name\": \"Joking muck\",\n",
    "\"imdb\": 7.2,\n",
    "\"category\": \"Comedy\"\n",
    "},\n",
    "{\n",
    "\"name\": \"What is the name\",\n",
    "\"imdb\": 9.2,\n",
    "\"category\": \"Suspense\"\n",
    "},\n",
    "{\n",
    "\"name\": \"Detective\",\n",
    "\"imdb\": 7.0,\n",
    "\"category\": \"Suspense\"\n",
    "},\n",
    "{\n",
    "\"name\": \"Exam\",\n",
    "\"imdb\": 4.2,\n",
    "\"category\": \"Thriller\"\n",
    "},\n",
    "{\n",
    "\"name\": \"We Two\",\n",
    "\"imdb\": 7.2,\n",
    "\"category\": \"Romance\"\n",
    "}\n",
    "]\n",
    "\n",
    "name = str(input(\"name: \"))\n",
    "def category(movies):\n",
    "    result = []\n",
    "    for movie in movies:  \n",
    "        if movie[\"category\"] == name:\n",
    "            result.append(movie[\"name\"]) # or result.append(movie)\n",
    "    return result\n",
    "\n",
    "print(category(movies))"
   ]
  },
  {
   "cell_type": "markdown",
   "id": "cf23e6c3-912c-4d2e-841a-2d152ddffe7c",
   "metadata": {},
   "source": [
    "Exercise4.function2"
   ]
  },
  {
   "cell_type": "code",
   "execution_count": 195,
   "id": "850d6508-b001-493f-8439-f7df47556d93",
   "metadata": {},
   "outputs": [
    {
     "name": "stdout",
     "output_type": "stream",
     "text": [
      "6.486666666666666\n"
     ]
    }
   ],
   "source": [
    "# Dictionary of movies\n",
    "\n",
    "movies = [\n",
    "{\n",
    "\"name\": \"Usual Suspects\", \n",
    "\"imdb\": 7.0,\n",
    "\"category\": \"Thriller\"\n",
    "},\n",
    "{\n",
    "\"name\": \"Hitman\",\n",
    "\"imdb\": 6.3,\n",
    "\"category\": \"Action\"\n",
    "},\n",
    "{\n",
    "\"name\": \"Dark Knight\",\n",
    "\"imdb\": 9.0,\n",
    "\"category\": \"Adventure\"\n",
    "},\n",
    "{\n",
    "\"name\": \"The Help\",\n",
    "\"imdb\": 8.0,\n",
    "\"category\": \"Drama\"\n",
    "},\n",
    "{\n",
    "\"name\": \"The Choice\",\n",
    "\"imdb\": 6.2,\n",
    "\"category\": \"Romance\"\n",
    "},\n",
    "{\n",
    "\"name\": \"Colonia\",\n",
    "\"imdb\": 7.4,\n",
    "\"category\": \"Romance\"\n",
    "},\n",
    "{\n",
    "\"name\": \"Love\",\n",
    "\"imdb\": 6.0,\n",
    "\"category\": \"Romance\"\n",
    "},\n",
    "{\n",
    "\"name\": \"Bride Wars\",\n",
    "\"imdb\": 5.4,\n",
    "\"category\": \"Romance\"\n",
    "},\n",
    "{\n",
    "\"name\": \"AlphaJet\",\n",
    "\"imdb\": 3.2,\n",
    "\"category\": \"War\"\n",
    "},\n",
    "{\n",
    "\"name\": \"Ringing Crime\",\n",
    "\"imdb\": 4.0,\n",
    "\"category\": \"Crime\"\n",
    "},\n",
    "{\n",
    "\"name\": \"Joking muck\",\n",
    "\"imdb\": 7.2,\n",
    "\"category\": \"Comedy\"\n",
    "},\n",
    "{\n",
    "\"name\": \"What is the name\",\n",
    "\"imdb\": 9.2,\n",
    "\"category\": \"Suspense\"\n",
    "},\n",
    "{\n",
    "\"name\": \"Detective\",\n",
    "\"imdb\": 7.0,\n",
    "\"category\": \"Suspense\"\n",
    "},\n",
    "{\n",
    "\"name\": \"Exam\",\n",
    "\"imdb\": 4.2,\n",
    "\"category\": \"Thriller\"\n",
    "},\n",
    "{\n",
    "\"name\": \"We Two\",\n",
    "\"imdb\": 7.2,\n",
    "\"category\": \"Romance\"\n",
    "}\n",
    "]\n",
    "\n",
    "def avg(movies):\n",
    "    total = sum(movie[\"imdb\"] for movie in movies)\n",
    "    return total / len(movies) \n",
    "\n",
    "print(avg(movies))"
   ]
  },
  {
   "cell_type": "markdown",
   "id": "89b02b40-3a04-4848-aa19-e232a680dea1",
   "metadata": {},
   "source": [
    "Exercise5.function2"
   ]
  },
  {
   "cell_type": "code",
   "execution_count": 199,
   "id": "62ff1b62-0815-493e-8f06-ebeb3be86f75",
   "metadata": {},
   "outputs": [
    {
     "name": "stdin",
     "output_type": "stream",
     "text": [
      "Category:  Thriller\n"
     ]
    },
    {
     "name": "stdout",
     "output_type": "stream",
     "text": [
      "5.6\n"
     ]
    }
   ],
   "source": [
    "# Dictionary of movies\n",
    "\n",
    "movies = [\n",
    "{\n",
    "\"name\": \"Usual Suspects\", \n",
    "\"imdb\": 7.0,\n",
    "\"category\": \"Thriller\"\n",
    "},\n",
    "{\n",
    "\"name\": \"Hitman\",\n",
    "\"imdb\": 6.3,\n",
    "\"category\": \"Action\"\n",
    "},\n",
    "{\n",
    "\"name\": \"Dark Knight\",\n",
    "\"imdb\": 9.0,\n",
    "\"category\": \"Adventure\"\n",
    "},\n",
    "{\n",
    "\"name\": \"The Help\",\n",
    "\"imdb\": 8.0,\n",
    "\"category\": \"Drama\"\n",
    "},\n",
    "{\n",
    "\"name\": \"The Choice\",\n",
    "\"imdb\": 6.2,\n",
    "\"category\": \"Romance\"\n",
    "},\n",
    "{\n",
    "\"name\": \"Colonia\",\n",
    "\"imdb\": 7.4,\n",
    "\"category\": \"Romance\"\n",
    "},\n",
    "{\n",
    "\"name\": \"Love\",\n",
    "\"imdb\": 6.0,\n",
    "\"category\": \"Romance\"\n",
    "},\n",
    "{\n",
    "\"name\": \"Bride Wars\",\n",
    "\"imdb\": 5.4,\n",
    "\"category\": \"Romance\"\n",
    "},\n",
    "{\n",
    "\"name\": \"AlphaJet\",\n",
    "\"imdb\": 3.2,\n",
    "\"category\": \"War\"\n",
    "},\n",
    "{\n",
    "\"name\": \"Ringing Crime\",\n",
    "\"imdb\": 4.0,\n",
    "\"category\": \"Crime\"\n",
    "},\n",
    "{\n",
    "\"name\": \"Joking muck\",\n",
    "\"imdb\": 7.2,\n",
    "\"category\": \"Comedy\"\n",
    "},\n",
    "{\n",
    "\"name\": \"What is the name\",\n",
    "\"imdb\": 9.2,\n",
    "\"category\": \"Suspense\"\n",
    "},\n",
    "{\n",
    "\"name\": \"Detective\",\n",
    "\"imdb\": 7.0,\n",
    "\"category\": \"Suspense\"\n",
    "},\n",
    "{\n",
    "\"name\": \"Exam\",\n",
    "\"imdb\": 4.2,\n",
    "\"category\": \"Thriller\"\n",
    "},\n",
    "{\n",
    "\"name\": \"We Two\",\n",
    "\"imdb\": 7.2,\n",
    "\"category\": \"Romance\"\n",
    "}\n",
    "]\n",
    "\n",
    "def avg(movies, category):\n",
    "    filtr_mov = [movie[\"imdb\"] for movie in movies if movie[\"category\"] == category]  \n",
    "    return sum(filtr_mov) / len(filtr_mov) \n",
    "\n",
    "c = input(\"Category: \")\n",
    "print(avg(movies, c))"
   ]
  },
  {
   "cell_type": "markdown",
   "id": "0b740d94-e0ee-40e0-bd9c-a769c4601abe",
   "metadata": {},
   "source": [
    "Exercise1.classes"
   ]
  },
  {
   "cell_type": "code",
   "execution_count": 204,
   "id": "40522d9d-26c3-4aba-a397-6d5d8346909f",
   "metadata": {},
   "outputs": [
    {
     "name": "stdin",
     "output_type": "stream",
     "text": [
      " mom\n"
     ]
    },
    {
     "name": "stdout",
     "output_type": "stream",
     "text": [
      "MOM\n"
     ]
    }
   ],
   "source": [
    "class myclass:\n",
    "    x=input()\n",
    "\n",
    "getstring=myclass()\n",
    "print(getstring.x.upper())"
   ]
  },
  {
   "cell_type": "markdown",
   "id": "8a1ae76f-17fc-42ab-ad7a-ddae2314873a",
   "metadata": {},
   "source": [
    "Exercise2.classes"
   ]
  },
  {
   "cell_type": "code",
   "execution_count": 208,
   "id": "4e10c429-99aa-4338-bf2d-08f379738b92",
   "metadata": {},
   "outputs": [
    {
     "name": "stdin",
     "output_type": "stream",
     "text": [
      "Length:  14\n"
     ]
    },
    {
     "name": "stdout",
     "output_type": "stream",
     "text": [
      "Square area: 196.0\n",
      "Shape area: 0\n"
     ]
    }
   ],
   "source": [
    "class Shape:\n",
    "    def area(self):\n",
    "        return 0\n",
    "\n",
    "class Square(Shape):\n",
    "    def __init__(self, length):\n",
    "        self.length = length\n",
    "\n",
    "    def area(self):\n",
    "        return self.length ** 2\n",
    "\n",
    "a = float(input(\"Length: \"))\n",
    "mysquare = Square(a)\n",
    "print(\"Square area:\", mysquare.area())\n",
    "\n",
    "myshape = Shape()\n",
    "print(\"Shape area:\", myshape.area())"
   ]
  },
  {
   "cell_type": "markdown",
   "id": "15861b7c-00ff-45f8-8815-424d3995f03d",
   "metadata": {},
   "source": [
    "Exercise3.classes"
   ]
  },
  {
   "cell_type": "code",
   "execution_count": 211,
   "id": "93299a32-2869-4d95-8f3f-3e3cf113d8db",
   "metadata": {},
   "outputs": [
    {
     "name": "stdin",
     "output_type": "stream",
     "text": [
      "Length:  55\n",
      "Width:  40\n"
     ]
    },
    {
     "name": "stdout",
     "output_type": "stream",
     "text": [
      "Area of the rectangle: 2200.0\n"
     ]
    }
   ],
   "source": [
    "class Shape:\n",
    "    def area(self):\n",
    "        return 0\n",
    "\n",
    "class Rectangle(Shape):\n",
    "    def __init__(self, length, width):\n",
    "        self.length = length\n",
    "        self.width = width\n",
    "\n",
    "    def area(self):\n",
    "        return self.length * self.width\n",
    "\n",
    "length = float(input(\"Length: \"))\n",
    "width = float(input(\"Width: \"))\n",
    "audan = Rectangle(length, width)\n",
    "print(\"Area of the rectangle:\", audan.area())"
   ]
  },
  {
   "cell_type": "markdown",
   "id": "9938f444-3715-46a1-8c55-1d2805672457",
   "metadata": {},
   "source": [
    "Exercise4.classes"
   ]
  },
  {
   "cell_type": "code",
   "execution_count": 214,
   "id": "d518762b-be0e-47bb-b8b3-bb32b463f48f",
   "metadata": {},
   "outputs": [
    {
     "name": "stdin",
     "output_type": "stream",
     "text": [
      "x:  4\n",
      "y:  5\n",
      "x2:  8\n",
      "y2:  10\n"
     ]
    },
    {
     "name": "stdout",
     "output_type": "stream",
     "text": [
      "Coordinates: (4.0, 5.0)\n"
     ]
    },
    {
     "name": "stdin",
     "output_type": "stream",
     "text": [
      "x1:  6\n",
      "y1:  7\n"
     ]
    },
    {
     "name": "stdout",
     "output_type": "stream",
     "text": [
      "Coordinates: (6.0, 7.0)\n",
      "Distance: 3.605551275463989\n"
     ]
    }
   ],
   "source": [
    "import math\n",
    "\n",
    "class Point:\n",
    "    def __init__(self, x, y):\n",
    "        self.x = x\n",
    "        self.y = y\n",
    "\n",
    "    def show(self):\n",
    "        print(f\"Coordinates: ({self.x}, {self.y})\")\n",
    "\n",
    "    def move(self, x1, y1):\n",
    "        self.x = x1\n",
    "        self.y = y1\n",
    "\n",
    "    def dist(self, point2):\n",
    "        dx = self.x - point2.x\n",
    "        dy = self.y - point2.y\n",
    "        distance = math.sqrt(dx**2 + dy**2)\n",
    "        return distance\n",
    "\n",
    "a = float(input(\"x: \"))\n",
    "b = float(input(\"y: \"))\n",
    "point1 = Point(a, b)\n",
    "\n",
    "a2 = float(input(\"x2: \"))\n",
    "b2 = float(input(\"y2: \"))\n",
    "point2 = Point(a2, b2)\n",
    "\n",
    "point1.show()\n",
    "\n",
    "k = float(input(\"x1: \"))\n",
    "p = float(input(\"y1: \"))\n",
    "point1.move(k, p)\n",
    "point1.show()\n",
    "\n",
    "distance = point1.dist(point2)\n",
    "print(f\"Distance: {distance}\")"
   ]
  },
  {
   "cell_type": "markdown",
   "id": "98f55187-fc88-4a06-8b8a-88a4a874c0e5",
   "metadata": {},
   "source": [
    "Exercise5.classes"
   ]
  },
  {
   "cell_type": "code",
   "execution_count": 217,
   "id": "a763ac6e-5734-44f5-ac0e-ef5c4c36b95c",
   "metadata": {},
   "outputs": [
    {
     "name": "stdout",
     "output_type": "stream",
     "text": [
      "1000\n",
      "Chanel\n",
      "You have deposited 1000.\n",
      "Insufficient funds.\n",
      "You're balance: 0, and you withdrew 2000.\n"
     ]
    }
   ],
   "source": [
    "class Bank:\n",
    "    def __init__(self, owner, balance):\n",
    "        self.owner = owner\n",
    "        self.balance = balance\n",
    "\n",
    "    def deposit(self, amount):\n",
    "        self.balance += amount\n",
    "        return f\"You have deposited {amount}.\"\n",
    "\n",
    "    def withdraw(self, amount):\n",
    "        if amount > self.balance:\n",
    "            return \"Insufficient funds.\"\n",
    "        else:\n",
    "            self.balance -= amount\n",
    "            return f\"You're balance: {self.balance}, and you withdrew {amount}.\"\n",
    "\n",
    "    def get_balance(self):\n",
    "        return self.balance\n",
    "\n",
    "    def get_owner(self):\n",
    "        return self.owner\n",
    "\n",
    "bank = Bank(\"Chanel\", 1000)\n",
    "\n",
    "print(bank.get_balance())\n",
    "print(bank.get_owner())\n",
    "print(bank.deposit(1000))\n",
    "print(bank.withdraw(3000))\n",
    "print(bank.withdraw(2000))"
   ]
  },
  {
   "cell_type": "markdown",
   "id": "3cc1dc55-1285-44f9-8b2c-645a7e18c2fe",
   "metadata": {},
   "source": [
    "Exercise6.classes"
   ]
  },
  {
   "cell_type": "code",
   "execution_count": 220,
   "id": "573aa89e-e036-437a-9d27-61e037bdec69",
   "metadata": {},
   "outputs": [
    {
     "name": "stdin",
     "output_type": "stream",
     "text": [
      "n:  8\n",
      "number:  4\n",
      "number:  6\n",
      "number:  3\n",
      "number:  9\n",
      "number:  4\n",
      "number:  3\n",
      "number:  2\n",
      "number:  7\n"
     ]
    },
    {
     "name": "stdout",
     "output_type": "stream",
     "text": [
      "[3, 3, 2, 7]\n"
     ]
    }
   ],
   "source": [
    "class Prime:\n",
    "    def __init__(self, numbers):\n",
    "        self.numbers = numbers\n",
    "\n",
    "    def is_prime(self, num):\n",
    "        if num < 2:\n",
    "            return False\n",
    "        for i in range(2, int(num**0.5) + 1):\n",
    "            if num % i == 0:\n",
    "                return False\n",
    "        return True\n",
    "\n",
    "    def filter_prime_numbers(self):\n",
    "        return list(filter(lambda x: self.is_prime(x), self.numbers))\n",
    "\n",
    "n = int(input(\"n: \"))\n",
    "mylist = []\n",
    "for i in range(n):\n",
    "    number = int(input(\"number: \"))\n",
    "    mylist.append(number)\n",
    "\n",
    "prime_filter = Prime(mylist)\n",
    "print(prime_filter.filter_prime_numbers())"
   ]
  }
 ],
 "metadata": {
  "kernelspec": {
   "display_name": "Python [conda env:base] *",
   "language": "python",
   "name": "conda-base-py"
  },
  "language_info": {
   "codemirror_mode": {
    "name": "ipython",
    "version": 3
   },
   "file_extension": ".py",
   "mimetype": "text/x-python",
   "name": "python",
   "nbconvert_exporter": "python",
   "pygments_lexer": "ipython3",
   "version": "3.12.7"
  }
 },
 "nbformat": 4,
 "nbformat_minor": 5
}
