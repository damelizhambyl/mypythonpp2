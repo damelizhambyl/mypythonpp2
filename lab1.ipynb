{
 "cells": [
  {
   "cell_type": "markdown",
   "id": "8bb86be3-4a9d-46cb-a7ac-f5fb4e13893a",
   "metadata": {},
   "source": [
    "Example"
   ]
  },
  {
   "cell_type": "code",
   "execution_count": 155,
   "id": "753a748d-ee5d-4138-841c-e7df694f2842",
   "metadata": {},
   "outputs": [
    {
     "name": "stdout",
     "output_type": "stream",
     "text": [
      "Hello, World!\n"
     ]
    }
   ],
   "source": [
    "print(\"Hello, World!\")"
   ]
  },
  {
   "cell_type": "markdown",
   "id": "3ce9571a-23c2-43c6-9317-27e432ac57f7",
   "metadata": {},
   "source": [
    "Example 2"
   ]
  },
  {
   "cell_type": "code",
   "execution_count": 158,
   "id": "0aff0d10-73b4-45b3-8538-b51204737ffc",
   "metadata": {},
   "outputs": [
    {
     "name": "stdout",
     "output_type": "stream",
     "text": [
      "3.12.7 | packaged by Anaconda, Inc. | (main, Oct  4 2024, 08:22:19) [Clang 14.0.6 ]\n"
     ]
    }
   ],
   "source": [
    "import sys\n",
    "\n",
    "print(sys.version)"
   ]
  },
  {
   "cell_type": "markdown",
   "id": "86c246b1-fd7c-42b9-b165-f9636cab1f58",
   "metadata": {},
   "source": [
    "Example 3"
   ]
  },
  {
   "cell_type": "code",
   "execution_count": 161,
   "id": "07108d93-1c5f-41de-9e69-870d8888578c",
   "metadata": {},
   "outputs": [
    {
     "name": "stdout",
     "output_type": "stream",
     "text": [
      "Five is greater than 2!\n"
     ]
    }
   ],
   "source": [
    "if 5 > 2:\n",
    "    print(\"Five is greater than 2!\")"
   ]
  },
  {
   "cell_type": "markdown",
   "id": "b05f5ced-7df2-418f-8595-2adad988025e",
   "metadata": {},
   "source": [
    "Syntax Error"
   ]
  },
  {
   "cell_type": "code",
   "execution_count": 164,
   "id": "e52a85ab-ec85-428c-b823-8654755896d6",
   "metadata": {},
   "outputs": [
    {
     "ename": "IndentationError",
     "evalue": "expected an indented block after 'if' statement on line 1 (338612021.py, line 2)",
     "output_type": "error",
     "traceback": [
      "\u001b[0;36m  Cell \u001b[0;32mIn[164], line 2\u001b[0;36m\u001b[0m\n\u001b[0;31m    print(\"Five is greater than 2!\")\u001b[0m\n\u001b[0m    ^\u001b[0m\n\u001b[0;31mIndentationError\u001b[0m\u001b[0;31m:\u001b[0m expected an indented block after 'if' statement on line 1\n"
     ]
    }
   ],
   "source": [
    "if 5>2:\n",
    "print(\"Five is greater than 2!\")    "
   ]
  },
  {
   "cell_type": "markdown",
   "id": "7a14f7f2-c0da-4586-a2d8-a99cec00b169",
   "metadata": {},
   "source": [
    "Variables in Python:"
   ]
  },
  {
   "cell_type": "code",
   "execution_count": 31,
   "id": "79eecf6c-0e19-4ff4-b470-adb8e859aa32",
   "metadata": {},
   "outputs": [],
   "source": [
    "x = 5\n",
    "y = \"Hello, World!\""
   ]
  },
  {
   "cell_type": "markdown",
   "id": "30850d4d-691d-4412-a4f8-35533f0271bf",
   "metadata": {},
   "source": [
    "Comments in Python, example 1:"
   ]
  },
  {
   "cell_type": "code",
   "execution_count": 21,
   "id": "42e6414d-8544-4b37-a0a2-85ab38df4c90",
   "metadata": {},
   "outputs": [
    {
     "name": "stdout",
     "output_type": "stream",
     "text": [
      "Hello, World!\n"
     ]
    }
   ],
   "source": [
    "#This is a comment.\n",
    "print(\"Hello, World!\")"
   ]
  },
  {
   "cell_type": "markdown",
   "id": "5d0c1a8b-5ae9-4bee-88b2-8ce8eb6b64a5",
   "metadata": {},
   "source": [
    "Comments in Python, example 2:"
   ]
  },
  {
   "cell_type": "code",
   "execution_count": 24,
   "id": "bc34a17e-2cb0-41a1-8f2f-78afe783eb62",
   "metadata": {},
   "outputs": [
    {
     "name": "stdout",
     "output_type": "stream",
     "text": [
      "Hello, World!\n"
     ]
    }
   ],
   "source": [
    "print(\"Hello, World!\") #This is a comment"
   ]
  },
  {
   "cell_type": "markdown",
   "id": "6f82a73b-9306-4058-8376-add1832d38e0",
   "metadata": {},
   "source": [
    "Multiline Comments example 1:"
   ]
  },
  {
   "cell_type": "code",
   "execution_count": 26,
   "id": "4ac271e8-0d4e-4ca7-bb5f-698df47a21bd",
   "metadata": {},
   "outputs": [
    {
     "name": "stdout",
     "output_type": "stream",
     "text": [
      "Hello, World!\n"
     ]
    }
   ],
   "source": [
    "#This is a comment\n",
    "#written in\n",
    "#more than just one line\n",
    "print(\"Hello, World!\")"
   ]
  },
  {
   "cell_type": "markdown",
   "id": "e5dd39e2-7e5f-4d5d-84b4-59942ab4d09f",
   "metadata": {},
   "source": [
    "Multiline Comments example 2 (triple quotes):"
   ]
  },
  {
   "cell_type": "code",
   "execution_count": 29,
   "id": "76bb3bd6-dfa9-4d7b-8489-9bd8e2b0548f",
   "metadata": {},
   "outputs": [
    {
     "name": "stdout",
     "output_type": "stream",
     "text": [
      "Hello, World!\n"
     ]
    }
   ],
   "source": [
    "\"\"\"\n",
    "This is a comment\n",
    "written in\n",
    "more than just one line\n",
    "\"\"\"\n",
    "print(\"Hello, World!\")"
   ]
  },
  {
   "cell_type": "markdown",
   "id": "32e15e95-c67f-4c84-8019-e41b0bfcfc24",
   "metadata": {},
   "source": [
    "Creating Variables"
   ]
  },
  {
   "cell_type": "code",
   "execution_count": 34,
   "id": "a65ab739-a78e-457a-942f-87daf77789fc",
   "metadata": {},
   "outputs": [
    {
     "name": "stdout",
     "output_type": "stream",
     "text": [
      "5\n",
      "John\n"
     ]
    }
   ],
   "source": [
    "x = 5\n",
    "y = \"John\"\n",
    "print(x)\n",
    "print(y)"
   ]
  },
  {
   "cell_type": "markdown",
   "id": "7e3ba0e2-7644-41be-86ba-e72e74c3bb8a",
   "metadata": {},
   "source": [
    "Change type after it has been set."
   ]
  },
  {
   "cell_type": "code",
   "execution_count": 37,
   "id": "4a3ac5f5-a468-4433-966d-c7f44a144830",
   "metadata": {},
   "outputs": [
    {
     "name": "stdout",
     "output_type": "stream",
     "text": [
      "Sally\n"
     ]
    }
   ],
   "source": [
    "x = 4       # x is of type int\n",
    "x = \"Sally\" # x is now of type str\n",
    "print(x)"
   ]
  },
  {
   "cell_type": "markdown",
   "id": "3d87fe89-8ad8-474e-87e2-c8f888db3f15",
   "metadata": {},
   "source": [
    "Specify the data type of a variable"
   ]
  },
  {
   "cell_type": "code",
   "execution_count": 44,
   "id": "5a2644b0-98d8-4fc8-bdae-b14e996418e6",
   "metadata": {},
   "outputs": [
    {
     "name": "stdout",
     "output_type": "stream",
     "text": [
      "3\n",
      "3\n",
      "3.0\n"
     ]
    }
   ],
   "source": [
    "x = str(3)    # x will be '3'\n",
    "y = int(3)    # y will be 3\n",
    "z = float(3)  # z will be 3.0\n",
    "print(x)\n",
    "print(y)\n",
    "print(z)"
   ]
  },
  {
   "cell_type": "markdown",
   "id": "29d786ce-fcf0-49ea-85de-8fa9a17edf9c",
   "metadata": {},
   "source": [
    "Get the data type"
   ]
  },
  {
   "cell_type": "code",
   "execution_count": 47,
   "id": "7ce0c5e3-c100-4f6a-b1de-38ad5ad5950b",
   "metadata": {},
   "outputs": [
    {
     "name": "stdout",
     "output_type": "stream",
     "text": [
      "<class 'int'>\n",
      "<class 'str'>\n"
     ]
    }
   ],
   "source": [
    "x = 5\n",
    "y = \"John\"\n",
    "print(type(x))\n",
    "print(type(y))\n"
   ]
  },
  {
   "cell_type": "markdown",
   "id": "f19d25a4-3800-4128-950d-6e9d479fdcb5",
   "metadata": {},
   "source": [
    "Single or Double Quotes?"
   ]
  },
  {
   "cell_type": "code",
   "execution_count": 49,
   "id": "7a45b08a-5e2c-43a2-97a2-47161c011569",
   "metadata": {},
   "outputs": [],
   "source": [
    "x = \"John\"\n",
    "# is the same as\n",
    "x = 'John'"
   ]
  },
  {
   "cell_type": "markdown",
   "id": "da4049e3-8118-4ff5-a19b-e957fe3f8569",
   "metadata": {},
   "source": [
    "Case-Sensitive"
   ]
  },
  {
   "cell_type": "code",
   "execution_count": 51,
   "id": "4d1ca358-bad1-4736-b94d-45d613159b80",
   "metadata": {},
   "outputs": [
    {
     "name": "stdout",
     "output_type": "stream",
     "text": [
      "4\n",
      "Sally\n"
     ]
    }
   ],
   "source": [
    "a = 4\n",
    "A = \"Sally\"\n",
    "#A will not overwrite a\n",
    "print(a)\n",
    "print(A)"
   ]
  },
  {
   "cell_type": "markdown",
   "id": "79a110c1-ed5e-4905-a0d5-5638e32b4c93",
   "metadata": {},
   "source": [
    "Legal variable names:"
   ]
  },
  {
   "cell_type": "code",
   "execution_count": 53,
   "id": "a4ad854b-6f37-410b-a6d5-1edb861d662a",
   "metadata": {},
   "outputs": [
    {
     "name": "stdout",
     "output_type": "stream",
     "text": [
      "John\n",
      "John\n",
      "John\n",
      "John\n",
      "John\n",
      "John\n"
     ]
    }
   ],
   "source": [
    "myvar = \"John\"\n",
    "my_var = \"John\"\n",
    "_my_var = \"John\"\n",
    "myVar = \"John\"\n",
    "MYVAR = \"John\"\n",
    "myvar2 = \"John\"\n",
    "\n",
    "print(myvar)\n",
    "print(my_var)\n",
    "print(_my_var)\n",
    "print(myVar)\n",
    "print(MYVAR)\n",
    "print(myvar2)\n"
   ]
  },
  {
   "cell_type": "markdown",
   "id": "cd8446e4-d476-44cc-bc6e-e2717433302b",
   "metadata": {},
   "source": [
    "Illegal variable names:"
   ]
  },
  {
   "cell_type": "code",
   "execution_count": 55,
   "id": "d4f6c83f-e85f-4119-b493-de98f7af7d42",
   "metadata": {},
   "outputs": [
    {
     "ename": "SyntaxError",
     "evalue": "invalid decimal literal (2185399839.py, line 1)",
     "output_type": "error",
     "traceback": [
      "\u001b[0;36m  Cell \u001b[0;32mIn[55], line 1\u001b[0;36m\u001b[0m\n\u001b[0;31m    2myvar = \"John\"\u001b[0m\n\u001b[0m    ^\u001b[0m\n\u001b[0;31mSyntaxError\u001b[0m\u001b[0;31m:\u001b[0m invalid decimal literal\n"
     ]
    }
   ],
   "source": [
    "2myvar = \"John\"\n",
    "my-var = \"John\"\n",
    "my var = \"John\""
   ]
  },
  {
   "cell_type": "markdown",
   "id": "a404863a-e36c-4893-a096-1115acbf42a5",
   "metadata": {},
   "source": [
    "Many Values to Multiple Variables\n"
   ]
  },
  {
   "cell_type": "code",
   "execution_count": 57,
   "id": "15fcabb1-a9f3-4ad7-b6a7-bebf11f7a2e4",
   "metadata": {},
   "outputs": [
    {
     "name": "stdout",
     "output_type": "stream",
     "text": [
      "Orange\n",
      "Banana\n",
      "Cherry\n"
     ]
    }
   ],
   "source": [
    "x, y, z = \"Orange\", \"Banana\", \"Cherry\"\n",
    "print(x)\n",
    "print(y)\n",
    "print(z)"
   ]
  },
  {
   "cell_type": "markdown",
   "id": "a4e028e6-17d7-4da0-a0ef-0b69d3baa13e",
   "metadata": {},
   "source": [
    "One Value to Multiple Variables"
   ]
  },
  {
   "cell_type": "code",
   "execution_count": 59,
   "id": "c396be88-0813-43f4-964a-4eb2b14b5b8a",
   "metadata": {},
   "outputs": [
    {
     "name": "stdout",
     "output_type": "stream",
     "text": [
      "Orange\n",
      "Orange\n",
      "Orange\n"
     ]
    }
   ],
   "source": [
    "x = y = z = \"Orange\"\n",
    "print(x)\n",
    "print(y)\n",
    "print(z)"
   ]
  },
  {
   "cell_type": "markdown",
   "id": "bb09615e-ce91-49b7-b07f-1c712a95cfba",
   "metadata": {},
   "source": [
    "Unpack a Collection"
   ]
  },
  {
   "cell_type": "code",
   "execution_count": 61,
   "id": "b9453976-33ba-47c2-b251-0ec06ea48f06",
   "metadata": {},
   "outputs": [
    {
     "name": "stdout",
     "output_type": "stream",
     "text": [
      "apple\n",
      "banana\n",
      "cherry\n"
     ]
    }
   ],
   "source": [
    "fruits = [\"apple\", \"banana\", \"cherry\"]\n",
    "x, y, z = fruits\n",
    "print(x)\n",
    "print(y)\n",
    "print(z)"
   ]
  },
  {
   "cell_type": "markdown",
   "id": "206a0f3f-b5e3-4658-a8ab-1508593a77c6",
   "metadata": {},
   "source": [
    "Output Variables example 1:"
   ]
  },
  {
   "cell_type": "code",
   "execution_count": 63,
   "id": "fcaae3b5-9d17-4128-bf3e-5685133fe615",
   "metadata": {},
   "outputs": [
    {
     "name": "stdout",
     "output_type": "stream",
     "text": [
      "Python is awesome\n"
     ]
    }
   ],
   "source": [
    "x = \"Python is awesome\"\n",
    "print(x)"
   ]
  },
  {
   "cell_type": "markdown",
   "id": "c192c73c-d530-4529-a4c2-8340cf3701d8",
   "metadata": {},
   "source": [
    "Output Variables example 2:"
   ]
  },
  {
   "cell_type": "code",
   "execution_count": 67,
   "id": "910d0d7d-f271-4a38-a467-a24b6f66e7a0",
   "metadata": {},
   "outputs": [
    {
     "name": "stdout",
     "output_type": "stream",
     "text": [
      "Python is awesome\n"
     ]
    }
   ],
   "source": [
    "x = \"Python\"\n",
    "y = \"is\"\n",
    "z = \"awesome\"\n",
    "print(x, y, z)"
   ]
  },
  {
   "cell_type": "markdown",
   "id": "d3dd35c1-beb0-4623-9ad5-8e77aac89b98",
   "metadata": {},
   "source": [
    "Mathematical operator:\n"
   ]
  },
  {
   "cell_type": "code",
   "execution_count": 69,
   "id": "0b1afa05-50c0-41e1-a1c0-02a327e6de39",
   "metadata": {},
   "outputs": [
    {
     "name": "stdout",
     "output_type": "stream",
     "text": [
      "15\n"
     ]
    }
   ],
   "source": [
    "x = 5\n",
    "y = 10\n",
    "print(x + y)"
   ]
  },
  {
   "cell_type": "markdown",
   "id": "6d4764cf-7430-48bb-b74c-b93307a5a230",
   "metadata": {},
   "source": [
    "Error in combining strind and number in mathematical operator"
   ]
  },
  {
   "cell_type": "code",
   "execution_count": 71,
   "id": "b270f4ea-637d-4689-b556-b27876b57391",
   "metadata": {},
   "outputs": [
    {
     "ename": "TypeError",
     "evalue": "unsupported operand type(s) for +: 'int' and 'str'",
     "output_type": "error",
     "traceback": [
      "\u001b[0;31m---------------------------------------------------------------------------\u001b[0m",
      "\u001b[0;31mTypeError\u001b[0m                                 Traceback (most recent call last)",
      "Cell \u001b[0;32mIn[71], line 3\u001b[0m\n\u001b[1;32m      1\u001b[0m x \u001b[38;5;241m=\u001b[39m \u001b[38;5;241m5\u001b[39m\n\u001b[1;32m      2\u001b[0m y \u001b[38;5;241m=\u001b[39m \u001b[38;5;124m\"\u001b[39m\u001b[38;5;124mJohn\u001b[39m\u001b[38;5;124m\"\u001b[39m\n\u001b[0;32m----> 3\u001b[0m \u001b[38;5;28mprint\u001b[39m(x \u001b[38;5;241m+\u001b[39m y)\n",
      "\u001b[0;31mTypeError\u001b[0m: unsupported operand type(s) for +: 'int' and 'str'"
     ]
    }
   ],
   "source": [
    "x = 5\n",
    "y = \"John\"\n",
    "print(x + y)"
   ]
  },
  {
   "cell_type": "markdown",
   "id": "12b68af6-5b04-46bd-8e32-7ea2270f69ef",
   "metadata": {},
   "source": [
    "Global Variables"
   ]
  },
  {
   "cell_type": "code",
   "execution_count": 97,
   "id": "2f9f6554-6529-43a3-a2ec-e0b4949a2b83",
   "metadata": {},
   "outputs": [
    {
     "name": "stdout",
     "output_type": "stream",
     "text": [
      "Python is awesome\n"
     ]
    }
   ],
   "source": [
    "x = \"awesome\"\n",
    "\n",
    "def myfunc():\n",
    "  print(\"Python is \" + x)\n",
    "\n",
    "myfunc()"
   ]
  },
  {
   "cell_type": "markdown",
   "id": "e50b0269-f870-4bb8-b711-5c74cdc61c43",
   "metadata": {},
   "source": [
    "Variable with the same name inside a function, this variable will be local, and can only be used inside the function."
   ]
  },
  {
   "cell_type": "code",
   "execution_count": 75,
   "id": "9684d575-b77c-48f9-af7f-97e126aeea0f",
   "metadata": {},
   "outputs": [
    {
     "name": "stdout",
     "output_type": "stream",
     "text": [
      "Python is fantastic\n",
      "Python is awesome\n"
     ]
    }
   ],
   "source": [
    "x = \"awesome\"\n",
    "\n",
    "def myfunc():\n",
    "  x = \"fantastic\"\n",
    "  print(\"Python is \" + x)\n",
    "\n",
    "myfunc()\n",
    "\n",
    "print(\"Python is \" + x)"
   ]
  },
  {
   "cell_type": "markdown",
   "id": "17cc51ef-cfcb-41c9-b6cb-260cecaaedd3",
   "metadata": {},
   "source": [
    "The global Keyword"
   ]
  },
  {
   "cell_type": "code",
   "execution_count": 77,
   "id": "92d7ed04-1efa-41d6-bdfc-7d984506bf70",
   "metadata": {},
   "outputs": [
    {
     "name": "stdout",
     "output_type": "stream",
     "text": [
      "Python is fantastic\n"
     ]
    }
   ],
   "source": [
    "def myfunc():\n",
    "  global x\n",
    "  x = \"fantastic\"\n",
    "\n",
    "myfunc()\n",
    "\n",
    "print(\"Python is \" + x)"
   ]
  },
  {
   "cell_type": "markdown",
   "id": "0ba27e30-ab84-4dea-a8c0-138352237a61",
   "metadata": {},
   "source": [
    "Use the global keyword if you want to change a global variable inside a function."
   ]
  },
  {
   "cell_type": "code",
   "execution_count": 79,
   "id": "4414f60b-a87f-4c8f-a06b-8f8404dcdb3b",
   "metadata": {},
   "outputs": [
    {
     "name": "stdout",
     "output_type": "stream",
     "text": [
      "Python is fantastic\n"
     ]
    }
   ],
   "source": [
    "x = \"awesome\"\n",
    "\n",
    "def myfunc():\n",
    "  global x\n",
    "  x = \"fantastic\"\n",
    "\n",
    "myfunc()\n",
    "\n",
    "print(\"Python is \" + x)"
   ]
  },
  {
   "cell_type": "markdown",
   "id": "9328ba1d-06c9-41f3-a006-18a046caebfd",
   "metadata": {},
   "source": [
    "Getting the Data Type int"
   ]
  },
  {
   "cell_type": "code",
   "execution_count": 81,
   "id": "9d1cdfc1-1a96-466b-9733-adc81823e01e",
   "metadata": {},
   "outputs": [
    {
     "name": "stdout",
     "output_type": "stream",
     "text": [
      "<class 'int'>\n"
     ]
    }
   ],
   "source": [
    "x = 5\n",
    "print(type(x))"
   ]
  },
  {
   "cell_type": "markdown",
   "id": "69a32346-f8f9-4606-999c-00872f8e82a7",
   "metadata": {},
   "source": [
    "Setting the Specific Data Type str:"
   ]
  },
  {
   "cell_type": "code",
   "execution_count": 84,
   "id": "718d0249-54fd-46b6-8a28-0f17e0266827",
   "metadata": {},
   "outputs": [
    {
     "name": "stdout",
     "output_type": "stream",
     "text": [
      "Hello World\n",
      "<class 'str'>\n"
     ]
    }
   ],
   "source": [
    "x = str(\"Hello World\")\n",
    "\n",
    "#display x:\n",
    "print(x)\n",
    "\n",
    "#display the data type of x:\n",
    "print(type(x)) \n"
   ]
  },
  {
   "cell_type": "markdown",
   "id": "29e9b7f5-01f0-41d7-92e5-7beb4a81e21d",
   "metadata": {},
   "source": [
    "Setting the Specific Data Type float:"
   ]
  },
  {
   "cell_type": "code",
   "execution_count": 86,
   "id": "f388f750-60dd-4c97-b7ba-fa0c350c7f5f",
   "metadata": {},
   "outputs": [
    {
     "name": "stdout",
     "output_type": "stream",
     "text": [
      "20.5\n",
      "<class 'float'>\n"
     ]
    }
   ],
   "source": [
    "x = float(20.5)\n",
    "\n",
    "#display x:\n",
    "print(x)\n",
    "\n",
    "#display the data type of x:\n",
    "print(type(x)) \n"
   ]
  },
  {
   "cell_type": "markdown",
   "id": "f583d891-396e-4d7a-b9ef-cc8641848e20",
   "metadata": {},
   "source": [
    "Setting the Specific Data Type complex:"
   ]
  },
  {
   "cell_type": "code",
   "execution_count": 89,
   "id": "851cad9b-f407-44c2-86c4-5a926302bcb5",
   "metadata": {},
   "outputs": [
    {
     "name": "stdout",
     "output_type": "stream",
     "text": [
      "1j\n",
      "<class 'complex'>\n"
     ]
    }
   ],
   "source": [
    "x = complex(1j)\n",
    "\n",
    "#display x:\n",
    "print(x)\n",
    "\n",
    "#display the data type of x:\n",
    "print(type(x)) \n"
   ]
  },
  {
   "cell_type": "markdown",
   "id": "86ccc515-5fd0-4c60-8a3b-c451e2f0582a",
   "metadata": {},
   "source": [
    "Setting the Specific Data Type list:"
   ]
  },
  {
   "cell_type": "code",
   "execution_count": 121,
   "id": "e583775e-c0e4-484f-bc29-845f1cc698ef",
   "metadata": {},
   "outputs": [
    {
     "name": "stdout",
     "output_type": "stream",
     "text": [
      "['apple', 'banana', 'cherry']\n",
      "<class 'list'>\n"
     ]
    }
   ],
   "source": [
    "x = list((\"apple\", \"banana\", \"cherry\"))\n",
    "\n",
    "#display x:\n",
    "print(x)\n",
    "\n",
    "#display the data type of x:\n",
    "print(type(x)) "
   ]
  },
  {
   "cell_type": "markdown",
   "id": "21ed6565-b9a0-4399-a1fd-06cff3556eb4",
   "metadata": {},
   "source": [
    "Setting the Data Type tuple:"
   ]
  },
  {
   "cell_type": "code",
   "execution_count": 124,
   "id": "9d193450-66e3-46ba-be97-e4782232f794",
   "metadata": {},
   "outputs": [
    {
     "name": "stdout",
     "output_type": "stream",
     "text": [
      "('apple', 'banana', 'cherry')\n",
      "<class 'tuple'>\n"
     ]
    }
   ],
   "source": [
    "x = (\"apple\", \"banana\", \"cherry\")\n",
    "\n",
    "#display x:\n",
    "print(x)\n",
    "\n",
    "#display the data type of x:\n",
    "print(type(x)) "
   ]
  },
  {
   "cell_type": "markdown",
   "id": "3331986e-891b-430d-8e7c-e77d70156fc3",
   "metadata": {},
   "source": [
    "Setting the Data Type range:"
   ]
  },
  {
   "cell_type": "code",
   "execution_count": 128,
   "id": "e6e0344e-4951-4513-93d7-b25521152ee8",
   "metadata": {},
   "outputs": [
    {
     "name": "stdout",
     "output_type": "stream",
     "text": [
      "range(0, 6)\n",
      "<class 'range'>\n"
     ]
    }
   ],
   "source": [
    "x = range(6)\n",
    "\n",
    "#display x:\n",
    "print(x)\n",
    "\n",
    "#display the data type of x:\n",
    "print(type(x)) \n"
   ]
  },
  {
   "cell_type": "markdown",
   "id": "77a74011-6ea1-4f0d-b9f0-9c57df14aa83",
   "metadata": {},
   "source": [
    "Setting the Data Type dict:"
   ]
  },
  {
   "cell_type": "code",
   "execution_count": 131,
   "id": "b900cc97-c878-40b5-b8be-e5cdb5e7550f",
   "metadata": {},
   "outputs": [
    {
     "name": "stdout",
     "output_type": "stream",
     "text": [
      "{'name': 'John', 'age': 36}\n",
      "<class 'dict'>\n"
     ]
    }
   ],
   "source": [
    "x = {\"name\" : \"John\", \"age\" : 36}\n",
    "\n",
    "#display x:\n",
    "print(x)\n",
    "\n",
    "#display the data type of x:\n",
    "print(type(x)) \n"
   ]
  },
  {
   "cell_type": "markdown",
   "id": "bf59d81d-2fcd-432e-8c6c-c9f01625216f",
   "metadata": {},
   "source": [
    "Setting the Data Type set:"
   ]
  },
  {
   "cell_type": "code",
   "execution_count": 134,
   "id": "afe87505-2ebf-48a3-a7da-92d51992748f",
   "metadata": {},
   "outputs": [
    {
     "name": "stdout",
     "output_type": "stream",
     "text": [
      "{'cherry', 'apple', 'banana'}\n",
      "<class 'set'>\n"
     ]
    }
   ],
   "source": [
    "x = {\"apple\", \"banana\", \"cherry\"}\n",
    "\n",
    "#display x:\n",
    "print(x)\n",
    "\n",
    "#display the data type of x:\n",
    "print(type(x)) \n"
   ]
  },
  {
   "cell_type": "markdown",
   "id": "22af8a8f-bea7-477a-928b-2af12b481a1d",
   "metadata": {},
   "source": [
    "Setting the Data Type frozenset:"
   ]
  },
  {
   "cell_type": "code",
   "execution_count": 139,
   "id": "8dd4d3e8-fac8-4068-8a2f-ffe6cf8a3adc",
   "metadata": {},
   "outputs": [
    {
     "name": "stdout",
     "output_type": "stream",
     "text": [
      "frozenset({'cherry', 'apple', 'banana'})\n",
      "<class 'frozenset'>\n"
     ]
    }
   ],
   "source": [
    "x = frozenset({\"apple\", \"banana\", \"cherry\"})\n",
    "\n",
    "#display x:\n",
    "print(x)\n",
    "\n",
    "#display the data type of x:\n",
    "print(type(x)) \n"
   ]
  },
  {
   "cell_type": "markdown",
   "id": "c7fa42ec-7ead-4a84-a363-217830bcd36b",
   "metadata": {},
   "source": [
    "Setting the Data Type bool:"
   ]
  },
  {
   "cell_type": "code",
   "execution_count": 142,
   "id": "259e4d05-8293-4c33-878d-fb0bb6dbbb61",
   "metadata": {},
   "outputs": [
    {
     "name": "stdout",
     "output_type": "stream",
     "text": [
      "True\n",
      "<class 'bool'>\n"
     ]
    }
   ],
   "source": [
    "x = bool(5)\n",
    "\n",
    "#display x:\n",
    "print(x)\n",
    "\n",
    "#display the data type of x:\n",
    "print(type(x)) \n"
   ]
  },
  {
   "cell_type": "markdown",
   "id": "e4f5f728-85d7-41e4-8f5b-91c86f3f7141",
   "metadata": {},
   "source": [
    "Setting the Data Type bytes:"
   ]
  },
  {
   "cell_type": "code",
   "execution_count": 147,
   "id": "9a594fca-e52f-455e-90ec-315d9a239e34",
   "metadata": {},
   "outputs": [
    {
     "name": "stdout",
     "output_type": "stream",
     "text": [
      "b'\\x00\\x00\\x00\\x00\\x00'\n",
      "<class 'bytes'>\n"
     ]
    }
   ],
   "source": [
    "x = bytes(5)\n",
    "\n",
    "#display x:\n",
    "print(x)\n",
    "\n",
    "#display the data type of x:\n",
    "print(type(x)) \n"
   ]
  },
  {
   "cell_type": "markdown",
   "id": "0f867d9b-6959-41c1-ba01-68edc9547488",
   "metadata": {},
   "source": [
    "Setting the Data Type bytearray:"
   ]
  },
  {
   "cell_type": "code",
   "execution_count": 151,
   "id": "ffd370c6-0d9a-48c1-ad5b-a981cf4fb120",
   "metadata": {},
   "outputs": [
    {
     "name": "stdout",
     "output_type": "stream",
     "text": [
      "bytearray(b'\\x00\\x00\\x00\\x00\\x00')\n",
      "<class 'bytearray'>\n"
     ]
    }
   ],
   "source": [
    "x = bytearray(5)\n",
    "\n",
    "#display x:\n",
    "print(x)\n",
    "\n",
    "#display the data type of x:\n",
    "print(type(x)) \n"
   ]
  },
  {
   "cell_type": "markdown",
   "id": "c62a61b1-419c-4aa7-a640-10551b9c5d5a",
   "metadata": {},
   "source": [
    "Setting the Data Type memoryview:"
   ]
  },
  {
   "cell_type": "code",
   "execution_count": 168,
   "id": "38839f9f-c388-430e-aeb1-b9a671891b59",
   "metadata": {},
   "outputs": [
    {
     "name": "stdout",
     "output_type": "stream",
     "text": [
      "<memory at 0x15448db40>\n",
      "<class 'memoryview'>\n"
     ]
    }
   ],
   "source": [
    "x = memoryview(bytes(5))\n",
    "\n",
    "#display x:\n",
    "print(x)\n",
    "\n",
    "#display the data type of x:\n",
    "print(type(x)) \n"
   ]
  },
  {
   "cell_type": "markdown",
   "id": "ddf6f53b-02fb-41a2-992e-384adc14dd04",
   "metadata": {},
   "source": [
    "Python Numbers"
   ]
  },
  {
   "cell_type": "code",
   "execution_count": 171,
   "id": "80a23376-acee-4a05-98ce-1dc69d1cd30e",
   "metadata": {},
   "outputs": [
    {
     "name": "stdout",
     "output_type": "stream",
     "text": [
      "<class 'int'>\n",
      "<class 'float'>\n",
      "<class 'complex'>\n"
     ]
    }
   ],
   "source": [
    "x = 1    # int\n",
    "y = 2.8  # float\n",
    "z = 1j   # complex\n",
    "print(type(x))\n",
    "print(type(y))\n",
    "print(type(z))"
   ]
  },
  {
   "cell_type": "markdown",
   "id": "b1b44b3c-d2de-4d49-8513-3a5776b22588",
   "metadata": {},
   "source": [
    "Int\n",
    "Int, or integer, is a whole number, positive or negative, without decimals, of unlimited length."
   ]
  },
  {
   "cell_type": "code",
   "execution_count": 174,
   "id": "78692d64-b6f6-4ec4-9252-4f3e2c9b49f5",
   "metadata": {},
   "outputs": [
    {
     "name": "stdout",
     "output_type": "stream",
     "text": [
      "<class 'int'>\n",
      "<class 'int'>\n",
      "<class 'int'>\n"
     ]
    }
   ],
   "source": [
    "x = 1\n",
    "y = 35656222554887711\n",
    "z = -3255522\n",
    "\n",
    "print(type(x))\n",
    "print(type(y))\n",
    "print(type(z))"
   ]
  },
  {
   "cell_type": "markdown",
   "id": "64203806-d136-4dab-9331-3e2771806c6e",
   "metadata": {},
   "source": [
    "Float\n",
    "Float, or \"floating point number\" is a number, positive or negative, containing one or more decimals."
   ]
  },
  {
   "cell_type": "code",
   "execution_count": 177,
   "id": "a7336a36-d3a6-42b0-9a95-78b7973f60dc",
   "metadata": {},
   "outputs": [
    {
     "name": "stdout",
     "output_type": "stream",
     "text": [
      "<class 'float'>\n",
      "<class 'float'>\n",
      "<class 'float'>\n"
     ]
    }
   ],
   "source": [
    "x = 1.10\n",
    "y = 1.0\n",
    "z = -35.59\n",
    "\n",
    "print(type(x))\n",
    "print(type(y))\n",
    "print(type(z))\n"
   ]
  },
  {
   "cell_type": "markdown",
   "id": "46c05ba8-012e-440d-93c9-2799dfa59909",
   "metadata": {},
   "source": [
    "Float can also be scientific numbers with an \"e\" to indicate the power of 10.\n",
    "\n"
   ]
  },
  {
   "cell_type": "code",
   "execution_count": 180,
   "id": "ba7cc587-940a-4394-a414-69e96aac5eef",
   "metadata": {},
   "outputs": [
    {
     "name": "stdout",
     "output_type": "stream",
     "text": [
      "<class 'float'>\n",
      "<class 'float'>\n",
      "<class 'float'>\n"
     ]
    }
   ],
   "source": [
    "x = 35e3\n",
    "y = 12E4\n",
    "z = -87.7e100\n",
    "\n",
    "print(type(x))\n",
    "print(type(y))\n",
    "print(type(z))\n"
   ]
  },
  {
   "cell_type": "markdown",
   "id": "67cdffaa-2a20-442e-a313-18d45ffe69c1",
   "metadata": {},
   "source": [
    "Complex\n",
    "Complex numbers are written with a \"j\" as the imaginary part:\n",
    "\n"
   ]
  },
  {
   "cell_type": "code",
   "execution_count": 183,
   "id": "3cd28b9e-be3f-49ff-b292-29cfaa5d745a",
   "metadata": {},
   "outputs": [
    {
     "name": "stdout",
     "output_type": "stream",
     "text": [
      "<class 'complex'>\n",
      "<class 'complex'>\n",
      "<class 'complex'>\n"
     ]
    }
   ],
   "source": [
    "x = 3+5j\n",
    "y = 5j\n",
    "z = -5j\n",
    "\n",
    "print(type(x))\n",
    "print(type(y))\n",
    "print(type(z))\n"
   ]
  },
  {
   "cell_type": "markdown",
   "id": "ceeff07a-dcd2-408b-9177-91c07b0c6f7f",
   "metadata": {},
   "source": [
    "Type Conversion"
   ]
  },
  {
   "cell_type": "code",
   "execution_count": 186,
   "id": "baac963e-3345-42c3-9e10-9371daba8e46",
   "metadata": {},
   "outputs": [
    {
     "name": "stdout",
     "output_type": "stream",
     "text": [
      "1.0\n",
      "2\n",
      "(1+0j)\n",
      "<class 'float'>\n",
      "<class 'int'>\n",
      "<class 'complex'>\n"
     ]
    }
   ],
   "source": [
    "#convert from int to float:\n",
    "x = float(1)\n",
    "\n",
    "#convert from float to int:\n",
    "y = int(2.8)\n",
    "\n",
    "#convert from int to complex:\n",
    "z = complex(1)\n",
    "\n",
    "print(x)\n",
    "print(y)\n",
    "print(z)\n",
    "\n",
    "print(type(x))\n",
    "print(type(y))\n",
    "print(type(z))\n",
    "#You cannot convert complex numbers into another number type."
   ]
  },
  {
   "cell_type": "markdown",
   "id": "0498f6a1-c612-405b-8f1a-e12d14ab1cbc",
   "metadata": {},
   "source": [
    "Random Number"
   ]
  },
  {
   "cell_type": "code",
   "execution_count": 189,
   "id": "324b440e-f80b-41eb-a1d3-328cb509c9a0",
   "metadata": {},
   "outputs": [
    {
     "name": "stdout",
     "output_type": "stream",
     "text": [
      "1\n"
     ]
    }
   ],
   "source": [
    "import random\n",
    "\n",
    "print(random.randrange(1, 10))\n"
   ]
  },
  {
   "cell_type": "markdown",
   "id": "a35f4499-fdda-4c8e-a958-505fa0fc2e99",
   "metadata": {},
   "source": [
    "Python Casting"
   ]
  },
  {
   "cell_type": "code",
   "execution_count": null,
   "id": "eb85fab1-721f-424f-b9b8-af7791a1a13e",
   "metadata": {},
   "outputs": [],
   "source": []
  }
 ],
 "metadata": {
  "kernelspec": {
   "display_name": "Python [conda env:base] *",
   "language": "python",
   "name": "conda-base-py"
  },
  "language_info": {
   "codemirror_mode": {
    "name": "ipython",
    "version": 3
   },
   "file_extension": ".py",
   "mimetype": "text/x-python",
   "name": "python",
   "nbconvert_exporter": "python",
   "pygments_lexer": "ipython3",
   "version": "3.12.7"
  }
 },
 "nbformat": 4,
 "nbformat_minor": 5
}
