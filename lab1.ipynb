{
 "cells": [
  {
   "cell_type": "markdown",
   "id": "8bb86be3-4a9d-46cb-a7ac-f5fb4e13893a",
   "metadata": {},
   "source": [
    "Example"
   ]
  },
  {
   "cell_type": "code",
   "execution_count": 155,
   "id": "753a748d-ee5d-4138-841c-e7df694f2842",
   "metadata": {},
   "outputs": [
    {
     "name": "stdout",
     "output_type": "stream",
     "text": [
      "Hello, World!\n"
     ]
    }
   ],
   "source": [
    "print(\"Hello, World!\")"
   ]
  },
  {
   "cell_type": "markdown",
   "id": "3ce9571a-23c2-43c6-9317-27e432ac57f7",
   "metadata": {},
   "source": [
    "Example 2"
   ]
  },
  {
   "cell_type": "code",
   "execution_count": 158,
   "id": "0aff0d10-73b4-45b3-8538-b51204737ffc",
   "metadata": {},
   "outputs": [
    {
     "name": "stdout",
     "output_type": "stream",
     "text": [
      "3.12.7 | packaged by Anaconda, Inc. | (main, Oct  4 2024, 08:22:19) [Clang 14.0.6 ]\n"
     ]
    }
   ],
   "source": [
    "import sys\n",
    "\n",
    "print(sys.version)"
   ]
  },
  {
   "cell_type": "markdown",
   "id": "86c246b1-fd7c-42b9-b165-f9636cab1f58",
   "metadata": {},
   "source": [
    "Example 3"
   ]
  },
  {
   "cell_type": "code",
   "execution_count": 161,
   "id": "07108d93-1c5f-41de-9e69-870d8888578c",
   "metadata": {},
   "outputs": [
    {
     "name": "stdout",
     "output_type": "stream",
     "text": [
      "Five is greater than 2!\n"
     ]
    }
   ],
   "source": [
    "if 5 > 2:\n",
    "    print(\"Five is greater than 2!\")"
   ]
  },
  {
   "cell_type": "markdown",
   "id": "b05f5ced-7df2-418f-8595-2adad988025e",
   "metadata": {},
   "source": [
    "Syntax Error"
   ]
  },
  {
   "cell_type": "code",
   "execution_count": 164,
   "id": "e52a85ab-ec85-428c-b823-8654755896d6",
   "metadata": {},
   "outputs": [
    {
     "ename": "IndentationError",
     "evalue": "expected an indented block after 'if' statement on line 1 (338612021.py, line 2)",
     "output_type": "error",
     "traceback": [
      "\u001b[0;36m  Cell \u001b[0;32mIn[164], line 2\u001b[0;36m\u001b[0m\n\u001b[0;31m    print(\"Five is greater than 2!\")\u001b[0m\n\u001b[0m    ^\u001b[0m\n\u001b[0;31mIndentationError\u001b[0m\u001b[0;31m:\u001b[0m expected an indented block after 'if' statement on line 1\n"
     ]
    }
   ],
   "source": [
    "if 5>2:\n",
    "print(\"Five is greater than 2!\")    "
   ]
  },
  {
   "cell_type": "markdown",
   "id": "7a14f7f2-c0da-4586-a2d8-a99cec00b169",
   "metadata": {},
   "source": [
    "Variables in Python:"
   ]
  },
  {
   "cell_type": "code",
   "execution_count": 31,
   "id": "79eecf6c-0e19-4ff4-b470-adb8e859aa32",
   "metadata": {},
   "outputs": [],
   "source": [
    "x = 5\n",
    "y = \"Hello, World!\""
   ]
  },
  {
   "cell_type": "markdown",
   "id": "30850d4d-691d-4412-a4f8-35533f0271bf",
   "metadata": {},
   "source": [
    "Comments in Python, example 1:"
   ]
  },
  {
   "cell_type": "code",
   "execution_count": 21,
   "id": "42e6414d-8544-4b37-a0a2-85ab38df4c90",
   "metadata": {},
   "outputs": [
    {
     "name": "stdout",
     "output_type": "stream",
     "text": [
      "Hello, World!\n"
     ]
    }
   ],
   "source": [
    "#This is a comment.\n",
    "print(\"Hello, World!\")"
   ]
  },
  {
   "cell_type": "markdown",
   "id": "5d0c1a8b-5ae9-4bee-88b2-8ce8eb6b64a5",
   "metadata": {},
   "source": [
    "Comments in Python, example 2:"
   ]
  },
  {
   "cell_type": "code",
   "execution_count": 24,
   "id": "bc34a17e-2cb0-41a1-8f2f-78afe783eb62",
   "metadata": {},
   "outputs": [
    {
     "name": "stdout",
     "output_type": "stream",
     "text": [
      "Hello, World!\n"
     ]
    }
   ],
   "source": [
    "print(\"Hello, World!\") #This is a comment"
   ]
  },
  {
   "cell_type": "markdown",
   "id": "6f82a73b-9306-4058-8376-add1832d38e0",
   "metadata": {},
   "source": [
    "Multiline Comments example 1:"
   ]
  },
  {
   "cell_type": "code",
   "execution_count": 26,
   "id": "4ac271e8-0d4e-4ca7-bb5f-698df47a21bd",
   "metadata": {},
   "outputs": [
    {
     "name": "stdout",
     "output_type": "stream",
     "text": [
      "Hello, World!\n"
     ]
    }
   ],
   "source": [
    "#This is a comment\n",
    "#written in\n",
    "#more than just one line\n",
    "print(\"Hello, World!\")"
   ]
  },
  {
   "cell_type": "markdown",
   "id": "e5dd39e2-7e5f-4d5d-84b4-59942ab4d09f",
   "metadata": {},
   "source": [
    "Multiline Comments example 2 (triple quotes):"
   ]
  },
  {
   "cell_type": "code",
   "execution_count": 29,
   "id": "76bb3bd6-dfa9-4d7b-8489-9bd8e2b0548f",
   "metadata": {},
   "outputs": [
    {
     "name": "stdout",
     "output_type": "stream",
     "text": [
      "Hello, World!\n"
     ]
    }
   ],
   "source": [
    "\"\"\"\n",
    "This is a comment\n",
    "written in\n",
    "more than just one line\n",
    "\"\"\"\n",
    "print(\"Hello, World!\")"
   ]
  },
  {
   "cell_type": "markdown",
   "id": "32e15e95-c67f-4c84-8019-e41b0bfcfc24",
   "metadata": {},
   "source": [
    "Creating Variables"
   ]
  },
  {
   "cell_type": "code",
   "execution_count": 34,
   "id": "a65ab739-a78e-457a-942f-87daf77789fc",
   "metadata": {},
   "outputs": [
    {
     "name": "stdout",
     "output_type": "stream",
     "text": [
      "5\n",
      "John\n"
     ]
    }
   ],
   "source": [
    "x = 5\n",
    "y = \"John\"\n",
    "print(x)\n",
    "print(y)"
   ]
  },
  {
   "cell_type": "markdown",
   "id": "7e3ba0e2-7644-41be-86ba-e72e74c3bb8a",
   "metadata": {},
   "source": [
    "Change type after it has been set."
   ]
  },
  {
   "cell_type": "code",
   "execution_count": 37,
   "id": "4a3ac5f5-a468-4433-966d-c7f44a144830",
   "metadata": {},
   "outputs": [
    {
     "name": "stdout",
     "output_type": "stream",
     "text": [
      "Sally\n"
     ]
    }
   ],
   "source": [
    "x = 4       # x is of type int\n",
    "x = \"Sally\" # x is now of type str\n",
    "print(x)"
   ]
  },
  {
   "cell_type": "markdown",
   "id": "3d87fe89-8ad8-474e-87e2-c8f888db3f15",
   "metadata": {},
   "source": [
    "Specify the data type of a variable"
   ]
  },
  {
   "cell_type": "code",
   "execution_count": 44,
   "id": "5a2644b0-98d8-4fc8-bdae-b14e996418e6",
   "metadata": {},
   "outputs": [
    {
     "name": "stdout",
     "output_type": "stream",
     "text": [
      "3\n",
      "3\n",
      "3.0\n"
     ]
    }
   ],
   "source": [
    "x = str(3)    # x will be '3'\n",
    "y = int(3)    # y will be 3\n",
    "z = float(3)  # z will be 3.0\n",
    "print(x)\n",
    "print(y)\n",
    "print(z)"
   ]
  },
  {
   "cell_type": "markdown",
   "id": "29d786ce-fcf0-49ea-85de-8fa9a17edf9c",
   "metadata": {},
   "source": [
    "Get the data type"
   ]
  },
  {
   "cell_type": "code",
   "execution_count": 47,
   "id": "7ce0c5e3-c100-4f6a-b1de-38ad5ad5950b",
   "metadata": {},
   "outputs": [
    {
     "name": "stdout",
     "output_type": "stream",
     "text": [
      "<class 'int'>\n",
      "<class 'str'>\n"
     ]
    }
   ],
   "source": [
    "x = 5\n",
    "y = \"John\"\n",
    "print(type(x))\n",
    "print(type(y))\n"
   ]
  },
  {
   "cell_type": "markdown",
   "id": "f19d25a4-3800-4128-950d-6e9d479fdcb5",
   "metadata": {},
   "source": [
    "Single or Double Quotes?"
   ]
  },
  {
   "cell_type": "code",
   "execution_count": 49,
   "id": "7a45b08a-5e2c-43a2-97a2-47161c011569",
   "metadata": {},
   "outputs": [],
   "source": [
    "x = \"John\"\n",
    "# is the same as\n",
    "x = 'John'"
   ]
  },
  {
   "cell_type": "markdown",
   "id": "da4049e3-8118-4ff5-a19b-e957fe3f8569",
   "metadata": {},
   "source": [
    "Case-Sensitive"
   ]
  },
  {
   "cell_type": "code",
   "execution_count": 51,
   "id": "4d1ca358-bad1-4736-b94d-45d613159b80",
   "metadata": {},
   "outputs": [
    {
     "name": "stdout",
     "output_type": "stream",
     "text": [
      "4\n",
      "Sally\n"
     ]
    }
   ],
   "source": [
    "a = 4\n",
    "A = \"Sally\"\n",
    "#A will not overwrite a\n",
    "print(a)\n",
    "print(A)"
   ]
  },
  {
   "cell_type": "markdown",
   "id": "79a110c1-ed5e-4905-a0d5-5638e32b4c93",
   "metadata": {},
   "source": [
    "Legal variable names:"
   ]
  },
  {
   "cell_type": "code",
   "execution_count": 53,
   "id": "a4ad854b-6f37-410b-a6d5-1edb861d662a",
   "metadata": {},
   "outputs": [
    {
     "name": "stdout",
     "output_type": "stream",
     "text": [
      "John\n",
      "John\n",
      "John\n",
      "John\n",
      "John\n",
      "John\n"
     ]
    }
   ],
   "source": [
    "myvar = \"John\"\n",
    "my_var = \"John\"\n",
    "_my_var = \"John\"\n",
    "myVar = \"John\"\n",
    "MYVAR = \"John\"\n",
    "myvar2 = \"John\"\n",
    "\n",
    "print(myvar)\n",
    "print(my_var)\n",
    "print(_my_var)\n",
    "print(myVar)\n",
    "print(MYVAR)\n",
    "print(myvar2)\n"
   ]
  },
  {
   "cell_type": "markdown",
   "id": "cd8446e4-d476-44cc-bc6e-e2717433302b",
   "metadata": {},
   "source": [
    "Illegal variable names:"
   ]
  },
  {
   "cell_type": "code",
   "execution_count": 55,
   "id": "d4f6c83f-e85f-4119-b493-de98f7af7d42",
   "metadata": {},
   "outputs": [
    {
     "ename": "SyntaxError",
     "evalue": "invalid decimal literal (2185399839.py, line 1)",
     "output_type": "error",
     "traceback": [
      "\u001b[0;36m  Cell \u001b[0;32mIn[55], line 1\u001b[0;36m\u001b[0m\n\u001b[0;31m    2myvar = \"John\"\u001b[0m\n\u001b[0m    ^\u001b[0m\n\u001b[0;31mSyntaxError\u001b[0m\u001b[0;31m:\u001b[0m invalid decimal literal\n"
     ]
    }
   ],
   "source": [
    "2myvar = \"John\"\n",
    "my-var = \"John\"\n",
    "my var = \"John\""
   ]
  },
  {
   "cell_type": "markdown",
   "id": "a404863a-e36c-4893-a096-1115acbf42a5",
   "metadata": {},
   "source": [
    "Many Values to Multiple Variables\n"
   ]
  },
  {
   "cell_type": "code",
   "execution_count": 57,
   "id": "15fcabb1-a9f3-4ad7-b6a7-bebf11f7a2e4",
   "metadata": {},
   "outputs": [
    {
     "name": "stdout",
     "output_type": "stream",
     "text": [
      "Orange\n",
      "Banana\n",
      "Cherry\n"
     ]
    }
   ],
   "source": [
    "x, y, z = \"Orange\", \"Banana\", \"Cherry\"\n",
    "print(x)\n",
    "print(y)\n",
    "print(z)"
   ]
  },
  {
   "cell_type": "markdown",
   "id": "a4e028e6-17d7-4da0-a0ef-0b69d3baa13e",
   "metadata": {},
   "source": [
    "One Value to Multiple Variables"
   ]
  },
  {
   "cell_type": "code",
   "execution_count": 59,
   "id": "c396be88-0813-43f4-964a-4eb2b14b5b8a",
   "metadata": {},
   "outputs": [
    {
     "name": "stdout",
     "output_type": "stream",
     "text": [
      "Orange\n",
      "Orange\n",
      "Orange\n"
     ]
    }
   ],
   "source": [
    "x = y = z = \"Orange\"\n",
    "print(x)\n",
    "print(y)\n",
    "print(z)"
   ]
  },
  {
   "cell_type": "markdown",
   "id": "bb09615e-ce91-49b7-b07f-1c712a95cfba",
   "metadata": {},
   "source": [
    "Unpack a Collection"
   ]
  },
  {
   "cell_type": "code",
   "execution_count": 61,
   "id": "b9453976-33ba-47c2-b251-0ec06ea48f06",
   "metadata": {},
   "outputs": [
    {
     "name": "stdout",
     "output_type": "stream",
     "text": [
      "apple\n",
      "banana\n",
      "cherry\n"
     ]
    }
   ],
   "source": [
    "fruits = [\"apple\", \"banana\", \"cherry\"]\n",
    "x, y, z = fruits\n",
    "print(x)\n",
    "print(y)\n",
    "print(z)"
   ]
  },
  {
   "cell_type": "markdown",
   "id": "206a0f3f-b5e3-4658-a8ab-1508593a77c6",
   "metadata": {},
   "source": [
    "Output Variables example 1:"
   ]
  },
  {
   "cell_type": "code",
   "execution_count": 63,
   "id": "fcaae3b5-9d17-4128-bf3e-5685133fe615",
   "metadata": {},
   "outputs": [
    {
     "name": "stdout",
     "output_type": "stream",
     "text": [
      "Python is awesome\n"
     ]
    }
   ],
   "source": [
    "x = \"Python is awesome\"\n",
    "print(x)"
   ]
  },
  {
   "cell_type": "markdown",
   "id": "c192c73c-d530-4529-a4c2-8340cf3701d8",
   "metadata": {},
   "source": [
    "Output Variables example 2:"
   ]
  },
  {
   "cell_type": "code",
   "execution_count": 67,
   "id": "910d0d7d-f271-4a38-a467-a24b6f66e7a0",
   "metadata": {},
   "outputs": [
    {
     "name": "stdout",
     "output_type": "stream",
     "text": [
      "Python is awesome\n"
     ]
    }
   ],
   "source": [
    "x = \"Python\"\n",
    "y = \"is\"\n",
    "z = \"awesome\"\n",
    "print(x, y, z)"
   ]
  },
  {
   "cell_type": "markdown",
   "id": "d3dd35c1-beb0-4623-9ad5-8e77aac89b98",
   "metadata": {},
   "source": [
    "Mathematical operator:\n"
   ]
  },
  {
   "cell_type": "code",
   "execution_count": 69,
   "id": "0b1afa05-50c0-41e1-a1c0-02a327e6de39",
   "metadata": {},
   "outputs": [
    {
     "name": "stdout",
     "output_type": "stream",
     "text": [
      "15\n"
     ]
    }
   ],
   "source": [
    "x = 5\n",
    "y = 10\n",
    "print(x + y)"
   ]
  },
  {
   "cell_type": "markdown",
   "id": "6d4764cf-7430-48bb-b74c-b93307a5a230",
   "metadata": {},
   "source": [
    "Error in combining strind and number in mathematical operator"
   ]
  },
  {
   "cell_type": "code",
   "execution_count": 71,
   "id": "b270f4ea-637d-4689-b556-b27876b57391",
   "metadata": {},
   "outputs": [
    {
     "ename": "TypeError",
     "evalue": "unsupported operand type(s) for +: 'int' and 'str'",
     "output_type": "error",
     "traceback": [
      "\u001b[0;31m---------------------------------------------------------------------------\u001b[0m",
      "\u001b[0;31mTypeError\u001b[0m                                 Traceback (most recent call last)",
      "Cell \u001b[0;32mIn[71], line 3\u001b[0m\n\u001b[1;32m      1\u001b[0m x \u001b[38;5;241m=\u001b[39m \u001b[38;5;241m5\u001b[39m\n\u001b[1;32m      2\u001b[0m y \u001b[38;5;241m=\u001b[39m \u001b[38;5;124m\"\u001b[39m\u001b[38;5;124mJohn\u001b[39m\u001b[38;5;124m\"\u001b[39m\n\u001b[0;32m----> 3\u001b[0m \u001b[38;5;28mprint\u001b[39m(x \u001b[38;5;241m+\u001b[39m y)\n",
      "\u001b[0;31mTypeError\u001b[0m: unsupported operand type(s) for +: 'int' and 'str'"
     ]
    }
   ],
   "source": [
    "x = 5\n",
    "y = \"John\"\n",
    "print(x + y)"
   ]
  },
  {
   "cell_type": "markdown",
   "id": "12b68af6-5b04-46bd-8e32-7ea2270f69ef",
   "metadata": {},
   "source": [
    "Global Variables"
   ]
  },
  {
   "cell_type": "code",
   "execution_count": 97,
   "id": "2f9f6554-6529-43a3-a2ec-e0b4949a2b83",
   "metadata": {},
   "outputs": [
    {
     "name": "stdout",
     "output_type": "stream",
     "text": [
      "Python is awesome\n"
     ]
    }
   ],
   "source": [
    "x = \"awesome\"\n",
    "\n",
    "def myfunc():\n",
    "  print(\"Python is \" + x)\n",
    "\n",
    "myfunc()"
   ]
  },
  {
   "cell_type": "markdown",
   "id": "e50b0269-f870-4bb8-b711-5c74cdc61c43",
   "metadata": {},
   "source": [
    "Variable with the same name inside a function, this variable will be local, and can only be used inside the function."
   ]
  },
  {
   "cell_type": "code",
   "execution_count": 75,
   "id": "9684d575-b77c-48f9-af7f-97e126aeea0f",
   "metadata": {},
   "outputs": [
    {
     "name": "stdout",
     "output_type": "stream",
     "text": [
      "Python is fantastic\n",
      "Python is awesome\n"
     ]
    }
   ],
   "source": [
    "x = \"awesome\"\n",
    "\n",
    "def myfunc():\n",
    "  x = \"fantastic\"\n",
    "  print(\"Python is \" + x)\n",
    "\n",
    "myfunc()\n",
    "\n",
    "print(\"Python is \" + x)"
   ]
  },
  {
   "cell_type": "markdown",
   "id": "17cc51ef-cfcb-41c9-b6cb-260cecaaedd3",
   "metadata": {},
   "source": [
    "The global Keyword"
   ]
  },
  {
   "cell_type": "code",
   "execution_count": 77,
   "id": "92d7ed04-1efa-41d6-bdfc-7d984506bf70",
   "metadata": {},
   "outputs": [
    {
     "name": "stdout",
     "output_type": "stream",
     "text": [
      "Python is fantastic\n"
     ]
    }
   ],
   "source": [
    "def myfunc():\n",
    "  global x\n",
    "  x = \"fantastic\"\n",
    "\n",
    "myfunc()\n",
    "\n",
    "print(\"Python is \" + x)"
   ]
  },
  {
   "cell_type": "markdown",
   "id": "0ba27e30-ab84-4dea-a8c0-138352237a61",
   "metadata": {},
   "source": [
    "Use the global keyword if you want to change a global variable inside a function."
   ]
  },
  {
   "cell_type": "code",
   "execution_count": 79,
   "id": "4414f60b-a87f-4c8f-a06b-8f8404dcdb3b",
   "metadata": {},
   "outputs": [
    {
     "name": "stdout",
     "output_type": "stream",
     "text": [
      "Python is fantastic\n"
     ]
    }
   ],
   "source": [
    "x = \"awesome\"\n",
    "\n",
    "def myfunc():\n",
    "  global x\n",
    "  x = \"fantastic\"\n",
    "\n",
    "myfunc()\n",
    "\n",
    "print(\"Python is \" + x)"
   ]
  },
  {
   "cell_type": "markdown",
   "id": "9328ba1d-06c9-41f3-a006-18a046caebfd",
   "metadata": {},
   "source": [
    "Getting the Data Type int"
   ]
  },
  {
   "cell_type": "code",
   "execution_count": 81,
   "id": "9d1cdfc1-1a96-466b-9733-adc81823e01e",
   "metadata": {},
   "outputs": [
    {
     "name": "stdout",
     "output_type": "stream",
     "text": [
      "<class 'int'>\n"
     ]
    }
   ],
   "source": [
    "x = 5\n",
    "print(type(x))"
   ]
  },
  {
   "cell_type": "markdown",
   "id": "69a32346-f8f9-4606-999c-00872f8e82a7",
   "metadata": {},
   "source": [
    "Setting the Specific Data Type str:"
   ]
  },
  {
   "cell_type": "code",
   "execution_count": 84,
   "id": "718d0249-54fd-46b6-8a28-0f17e0266827",
   "metadata": {},
   "outputs": [
    {
     "name": "stdout",
     "output_type": "stream",
     "text": [
      "Hello World\n",
      "<class 'str'>\n"
     ]
    }
   ],
   "source": [
    "x = str(\"Hello World\")\n",
    "\n",
    "#display x:\n",
    "print(x)\n",
    "\n",
    "#display the data type of x:\n",
    "print(type(x)) \n"
   ]
  },
  {
   "cell_type": "markdown",
   "id": "29e9b7f5-01f0-41d7-92e5-7beb4a81e21d",
   "metadata": {},
   "source": [
    "Setting the Specific Data Type float:"
   ]
  },
  {
   "cell_type": "code",
   "execution_count": 86,
   "id": "f388f750-60dd-4c97-b7ba-fa0c350c7f5f",
   "metadata": {},
   "outputs": [
    {
     "name": "stdout",
     "output_type": "stream",
     "text": [
      "20.5\n",
      "<class 'float'>\n"
     ]
    }
   ],
   "source": [
    "x = float(20.5)\n",
    "\n",
    "#display x:\n",
    "print(x)\n",
    "\n",
    "#display the data type of x:\n",
    "print(type(x)) \n"
   ]
  },
  {
   "cell_type": "markdown",
   "id": "f583d891-396e-4d7a-b9ef-cc8641848e20",
   "metadata": {},
   "source": [
    "Setting the Specific Data Type complex:"
   ]
  },
  {
   "cell_type": "code",
   "execution_count": 89,
   "id": "851cad9b-f407-44c2-86c4-5a926302bcb5",
   "metadata": {},
   "outputs": [
    {
     "name": "stdout",
     "output_type": "stream",
     "text": [
      "1j\n",
      "<class 'complex'>\n"
     ]
    }
   ],
   "source": [
    "x = complex(1j)\n",
    "\n",
    "#display x:\n",
    "print(x)\n",
    "\n",
    "#display the data type of x:\n",
    "print(type(x)) \n"
   ]
  },
  {
   "cell_type": "markdown",
   "id": "86ccc515-5fd0-4c60-8a3b-c451e2f0582a",
   "metadata": {},
   "source": [
    "Setting the Specific Data Type list:"
   ]
  },
  {
   "cell_type": "code",
   "execution_count": 121,
   "id": "e583775e-c0e4-484f-bc29-845f1cc698ef",
   "metadata": {},
   "outputs": [
    {
     "name": "stdout",
     "output_type": "stream",
     "text": [
      "['apple', 'banana', 'cherry']\n",
      "<class 'list'>\n"
     ]
    }
   ],
   "source": [
    "x = list((\"apple\", \"banana\", \"cherry\"))\n",
    "\n",
    "#display x:\n",
    "print(x)\n",
    "\n",
    "#display the data type of x:\n",
    "print(type(x)) "
   ]
  },
  {
   "cell_type": "markdown",
   "id": "21ed6565-b9a0-4399-a1fd-06cff3556eb4",
   "metadata": {},
   "source": [
    "Setting the Data Type tuple:"
   ]
  },
  {
   "cell_type": "code",
   "execution_count": 124,
   "id": "9d193450-66e3-46ba-be97-e4782232f794",
   "metadata": {},
   "outputs": [
    {
     "name": "stdout",
     "output_type": "stream",
     "text": [
      "('apple', 'banana', 'cherry')\n",
      "<class 'tuple'>\n"
     ]
    }
   ],
   "source": [
    "x = (\"apple\", \"banana\", \"cherry\")\n",
    "\n",
    "#display x:\n",
    "print(x)\n",
    "\n",
    "#display the data type of x:\n",
    "print(type(x)) "
   ]
  },
  {
   "cell_type": "markdown",
   "id": "3331986e-891b-430d-8e7c-e77d70156fc3",
   "metadata": {},
   "source": [
    "Setting the Data Type range:"
   ]
  },
  {
   "cell_type": "code",
   "execution_count": 128,
   "id": "e6e0344e-4951-4513-93d7-b25521152ee8",
   "metadata": {},
   "outputs": [
    {
     "name": "stdout",
     "output_type": "stream",
     "text": [
      "range(0, 6)\n",
      "<class 'range'>\n"
     ]
    }
   ],
   "source": [
    "x = range(6)\n",
    "\n",
    "#display x:\n",
    "print(x)\n",
    "\n",
    "#display the data type of x:\n",
    "print(type(x)) \n"
   ]
  },
  {
   "cell_type": "markdown",
   "id": "77a74011-6ea1-4f0d-b9f0-9c57df14aa83",
   "metadata": {},
   "source": [
    "Setting the Data Type dict:"
   ]
  },
  {
   "cell_type": "code",
   "execution_count": 131,
   "id": "b900cc97-c878-40b5-b8be-e5cdb5e7550f",
   "metadata": {},
   "outputs": [
    {
     "name": "stdout",
     "output_type": "stream",
     "text": [
      "{'name': 'John', 'age': 36}\n",
      "<class 'dict'>\n"
     ]
    }
   ],
   "source": [
    "x = {\"name\" : \"John\", \"age\" : 36}\n",
    "\n",
    "#display x:\n",
    "print(x)\n",
    "\n",
    "#display the data type of x:\n",
    "print(type(x)) \n"
   ]
  },
  {
   "cell_type": "markdown",
   "id": "bf59d81d-2fcd-432e-8c6c-c9f01625216f",
   "metadata": {},
   "source": [
    "Setting the Data Type set:"
   ]
  },
  {
   "cell_type": "code",
   "execution_count": 134,
   "id": "afe87505-2ebf-48a3-a7da-92d51992748f",
   "metadata": {},
   "outputs": [
    {
     "name": "stdout",
     "output_type": "stream",
     "text": [
      "{'cherry', 'apple', 'banana'}\n",
      "<class 'set'>\n"
     ]
    }
   ],
   "source": [
    "x = {\"apple\", \"banana\", \"cherry\"}\n",
    "\n",
    "#display x:\n",
    "print(x)\n",
    "\n",
    "#display the data type of x:\n",
    "print(type(x)) \n"
   ]
  },
  {
   "cell_type": "markdown",
   "id": "22af8a8f-bea7-477a-928b-2af12b481a1d",
   "metadata": {},
   "source": [
    "Setting the Data Type frozenset:"
   ]
  },
  {
   "cell_type": "code",
   "execution_count": 139,
   "id": "8dd4d3e8-fac8-4068-8a2f-ffe6cf8a3adc",
   "metadata": {},
   "outputs": [
    {
     "name": "stdout",
     "output_type": "stream",
     "text": [
      "frozenset({'cherry', 'apple', 'banana'})\n",
      "<class 'frozenset'>\n"
     ]
    }
   ],
   "source": [
    "x = frozenset({\"apple\", \"banana\", \"cherry\"})\n",
    "\n",
    "#display x:\n",
    "print(x)\n",
    "\n",
    "#display the data type of x:\n",
    "print(type(x)) \n"
   ]
  },
  {
   "cell_type": "markdown",
   "id": "c7fa42ec-7ead-4a84-a363-217830bcd36b",
   "metadata": {},
   "source": [
    "Setting the Data Type bool:"
   ]
  },
  {
   "cell_type": "code",
   "execution_count": 142,
   "id": "259e4d05-8293-4c33-878d-fb0bb6dbbb61",
   "metadata": {},
   "outputs": [
    {
     "name": "stdout",
     "output_type": "stream",
     "text": [
      "True\n",
      "<class 'bool'>\n"
     ]
    }
   ],
   "source": [
    "x = bool(5)\n",
    "\n",
    "#display x:\n",
    "print(x)\n",
    "\n",
    "#display the data type of x:\n",
    "print(type(x)) \n"
   ]
  },
  {
   "cell_type": "markdown",
   "id": "e4f5f728-85d7-41e4-8f5b-91c86f3f7141",
   "metadata": {},
   "source": [
    "Setting the Data Type bytes:"
   ]
  },
  {
   "cell_type": "code",
   "execution_count": 147,
   "id": "9a594fca-e52f-455e-90ec-315d9a239e34",
   "metadata": {},
   "outputs": [
    {
     "name": "stdout",
     "output_type": "stream",
     "text": [
      "b'\\x00\\x00\\x00\\x00\\x00'\n",
      "<class 'bytes'>\n"
     ]
    }
   ],
   "source": [
    "x = bytes(5)\n",
    "\n",
    "#display x:\n",
    "print(x)\n",
    "\n",
    "#display the data type of x:\n",
    "print(type(x)) \n"
   ]
  },
  {
   "cell_type": "markdown",
   "id": "0f867d9b-6959-41c1-ba01-68edc9547488",
   "metadata": {},
   "source": [
    "Setting the Data Type bytearray:"
   ]
  },
  {
   "cell_type": "code",
   "execution_count": 151,
   "id": "ffd370c6-0d9a-48c1-ad5b-a981cf4fb120",
   "metadata": {},
   "outputs": [
    {
     "name": "stdout",
     "output_type": "stream",
     "text": [
      "bytearray(b'\\x00\\x00\\x00\\x00\\x00')\n",
      "<class 'bytearray'>\n"
     ]
    }
   ],
   "source": [
    "x = bytearray(5)\n",
    "\n",
    "#display x:\n",
    "print(x)\n",
    "\n",
    "#display the data type of x:\n",
    "print(type(x)) \n"
   ]
  },
  {
   "cell_type": "markdown",
   "id": "c62a61b1-419c-4aa7-a640-10551b9c5d5a",
   "metadata": {},
   "source": [
    "Setting the Data Type memoryview:"
   ]
  },
  {
   "cell_type": "code",
   "execution_count": 168,
   "id": "38839f9f-c388-430e-aeb1-b9a671891b59",
   "metadata": {},
   "outputs": [
    {
     "name": "stdout",
     "output_type": "stream",
     "text": [
      "<memory at 0x15448db40>\n",
      "<class 'memoryview'>\n"
     ]
    }
   ],
   "source": [
    "x = memoryview(bytes(5))\n",
    "\n",
    "#display x:\n",
    "print(x)\n",
    "\n",
    "#display the data type of x:\n",
    "print(type(x)) \n"
   ]
  },
  {
   "cell_type": "markdown",
   "id": "ddf6f53b-02fb-41a2-992e-384adc14dd04",
   "metadata": {},
   "source": [
    "Python Numbers"
   ]
  },
  {
   "cell_type": "code",
   "execution_count": 171,
   "id": "80a23376-acee-4a05-98ce-1dc69d1cd30e",
   "metadata": {},
   "outputs": [
    {
     "name": "stdout",
     "output_type": "stream",
     "text": [
      "<class 'int'>\n",
      "<class 'float'>\n",
      "<class 'complex'>\n"
     ]
    }
   ],
   "source": [
    "x = 1    # int\n",
    "y = 2.8  # float\n",
    "z = 1j   # complex\n",
    "print(type(x))\n",
    "print(type(y))\n",
    "print(type(z))"
   ]
  },
  {
   "cell_type": "markdown",
   "id": "b1b44b3c-d2de-4d49-8513-3a5776b22588",
   "metadata": {},
   "source": [
    "Int\n",
    "Int, or integer, is a whole number, positive or negative, without decimals, of unlimited length."
   ]
  },
  {
   "cell_type": "code",
   "execution_count": 174,
   "id": "78692d64-b6f6-4ec4-9252-4f3e2c9b49f5",
   "metadata": {},
   "outputs": [
    {
     "name": "stdout",
     "output_type": "stream",
     "text": [
      "<class 'int'>\n",
      "<class 'int'>\n",
      "<class 'int'>\n"
     ]
    }
   ],
   "source": [
    "x = 1\n",
    "y = 35656222554887711\n",
    "z = -3255522\n",
    "\n",
    "print(type(x))\n",
    "print(type(y))\n",
    "print(type(z))"
   ]
  },
  {
   "cell_type": "markdown",
   "id": "64203806-d136-4dab-9331-3e2771806c6e",
   "metadata": {},
   "source": [
    "Float\n",
    "Float, or \"floating point number\" is a number, positive or negative, containing one or more decimals."
   ]
  },
  {
   "cell_type": "code",
   "execution_count": 177,
   "id": "a7336a36-d3a6-42b0-9a95-78b7973f60dc",
   "metadata": {},
   "outputs": [
    {
     "name": "stdout",
     "output_type": "stream",
     "text": [
      "<class 'float'>\n",
      "<class 'float'>\n",
      "<class 'float'>\n"
     ]
    }
   ],
   "source": [
    "x = 1.10\n",
    "y = 1.0\n",
    "z = -35.59\n",
    "\n",
    "print(type(x))\n",
    "print(type(y))\n",
    "print(type(z))\n"
   ]
  },
  {
   "cell_type": "markdown",
   "id": "46c05ba8-012e-440d-93c9-2799dfa59909",
   "metadata": {},
   "source": [
    "Float can also be scientific numbers with an \"e\" to indicate the power of 10.\n",
    "\n"
   ]
  },
  {
   "cell_type": "code",
   "execution_count": 180,
   "id": "ba7cc587-940a-4394-a414-69e96aac5eef",
   "metadata": {},
   "outputs": [
    {
     "name": "stdout",
     "output_type": "stream",
     "text": [
      "<class 'float'>\n",
      "<class 'float'>\n",
      "<class 'float'>\n"
     ]
    }
   ],
   "source": [
    "x = 35e3\n",
    "y = 12E4\n",
    "z = -87.7e100\n",
    "\n",
    "print(type(x))\n",
    "print(type(y))\n",
    "print(type(z))\n"
   ]
  },
  {
   "cell_type": "markdown",
   "id": "67cdffaa-2a20-442e-a313-18d45ffe69c1",
   "metadata": {},
   "source": [
    "Complex\n",
    "Complex numbers are written with a \"j\" as the imaginary part:\n",
    "\n"
   ]
  },
  {
   "cell_type": "code",
   "execution_count": 183,
   "id": "3cd28b9e-be3f-49ff-b292-29cfaa5d745a",
   "metadata": {},
   "outputs": [
    {
     "name": "stdout",
     "output_type": "stream",
     "text": [
      "<class 'complex'>\n",
      "<class 'complex'>\n",
      "<class 'complex'>\n"
     ]
    }
   ],
   "source": [
    "x = 3+5j\n",
    "y = 5j\n",
    "z = -5j\n",
    "\n",
    "print(type(x))\n",
    "print(type(y))\n",
    "print(type(z))\n"
   ]
  },
  {
   "cell_type": "markdown",
   "id": "ceeff07a-dcd2-408b-9177-91c07b0c6f7f",
   "metadata": {},
   "source": [
    "Type Conversion"
   ]
  },
  {
   "cell_type": "code",
   "execution_count": 186,
   "id": "baac963e-3345-42c3-9e10-9371daba8e46",
   "metadata": {},
   "outputs": [
    {
     "name": "stdout",
     "output_type": "stream",
     "text": [
      "1.0\n",
      "2\n",
      "(1+0j)\n",
      "<class 'float'>\n",
      "<class 'int'>\n",
      "<class 'complex'>\n"
     ]
    }
   ],
   "source": [
    "#convert from int to float:\n",
    "x = float(1)\n",
    "\n",
    "#convert from float to int:\n",
    "y = int(2.8)\n",
    "\n",
    "#convert from int to complex:\n",
    "z = complex(1)\n",
    "\n",
    "print(x)\n",
    "print(y)\n",
    "print(z)\n",
    "\n",
    "print(type(x))\n",
    "print(type(y))\n",
    "print(type(z))\n",
    "#You cannot convert complex numbers into another number type."
   ]
  },
  {
   "cell_type": "markdown",
   "id": "0498f6a1-c612-405b-8f1a-e12d14ab1cbc",
   "metadata": {},
   "source": [
    "Random Number"
   ]
  },
  {
   "cell_type": "code",
   "execution_count": 189,
   "id": "324b440e-f80b-41eb-a1d3-328cb509c9a0",
   "metadata": {},
   "outputs": [
    {
     "name": "stdout",
     "output_type": "stream",
     "text": [
      "1\n"
     ]
    }
   ],
   "source": [
    "import random\n",
    "\n",
    "print(random.randrange(1, 10))\n"
   ]
  },
  {
   "cell_type": "markdown",
   "id": "a35f4499-fdda-4c8e-a958-505fa0fc2e99",
   "metadata": {},
   "source": [
    "Python Casting, Specify a Variable Type (int):"
   ]
  },
  {
   "cell_type": "code",
   "execution_count": 195,
   "id": "eb85fab1-721f-424f-b9b8-af7791a1a13e",
   "metadata": {},
   "outputs": [
    {
     "name": "stdout",
     "output_type": "stream",
     "text": [
      "1\n",
      "2\n",
      "3\n"
     ]
    }
   ],
   "source": [
    "x=int(1)\n",
    "y=int(2.8)\n",
    "z=int(\"3\")\n",
    "print(x)\n",
    "print(y)\n",
    "print(z)"
   ]
  },
  {
   "cell_type": "markdown",
   "id": "57810c9c-0268-450c-972f-f4a400d0f25d",
   "metadata": {},
   "source": [
    "Python Casting, Specify a Variable Type (float):"
   ]
  },
  {
   "cell_type": "code",
   "execution_count": 212,
   "id": "a7d4d726-015f-476e-a080-9f87db7fcf83",
   "metadata": {},
   "outputs": [
    {
     "name": "stdout",
     "output_type": "stream",
     "text": [
      "1.0\n",
      "2.8\n",
      "3.0\n",
      "4.2\n"
     ]
    }
   ],
   "source": [
    "x=float(1)\n",
    "y=float(2.8)\n",
    "z=float(\"3\")\n",
    "w=float(\"4.2\")\n",
    "print(x)\n",
    "print(y)\n",
    "print(z)\n",
    "print(w)"
   ]
  },
  {
   "cell_type": "markdown",
   "id": "9eb3a660-9e88-4fd1-a0dc-0b7499c87a74",
   "metadata": {},
   "source": [
    "Python Casting, Specify a Variable Type (strings):"
   ]
  },
  {
   "cell_type": "code",
   "execution_count": 220,
   "id": "c92f7907-fcd5-4b9b-abdc-04491f9cc72a",
   "metadata": {},
   "outputs": [
    {
     "name": "stdout",
     "output_type": "stream",
     "text": [
      "s1\n",
      "2\n",
      "3.0\n"
     ]
    }
   ],
   "source": [
    "x = str(\"s1\") # x will be 's1'\n",
    "y = str(2)    # y will be '2'\n",
    "z = str(3.0)  # z will be '3.0'\n",
    "print(x)\n",
    "print(y)\n",
    "print(z)"
   ]
  },
  {
   "cell_type": "markdown",
   "id": "1a3cd171-7dbd-442b-9c56-46426a1469eb",
   "metadata": {},
   "source": [
    "Strings"
   ]
  },
  {
   "cell_type": "code",
   "execution_count": null,
   "id": "adddd380-e275-4a3e-973d-dc0e0c1cf13c",
   "metadata": {},
   "outputs": [],
   "source": [
    "print(\"Hello\")\n",
    "print('Hello')"
   ]
  },
  {
   "cell_type": "markdown",
   "id": "dbc2b753-8421-48be-ba55-fe6bad2bbf10",
   "metadata": {},
   "source": [
    "Quotes Inside Quotes"
   ]
  },
  {
   "cell_type": "code",
   "execution_count": 3,
   "id": "a39ac919-73ca-458f-9719-1c9d63c80b19",
   "metadata": {},
   "outputs": [
    {
     "name": "stdout",
     "output_type": "stream",
     "text": [
      "It's alright\n",
      "He is called 'Johnny'\n",
      "He is called \"Johnny\"\n"
     ]
    }
   ],
   "source": [
    "print(\"It's alright\")\n",
    "print(\"He is called 'Johnny'\")\n",
    "print('He is called \"Johnny\"')"
   ]
  },
  {
   "cell_type": "markdown",
   "id": "bc0110bb-d522-4c0c-ae6a-2043e1ad4e1d",
   "metadata": {},
   "source": [
    "Assign String to a Variable"
   ]
  },
  {
   "cell_type": "code",
   "execution_count": 6,
   "id": "b9b84b48-2775-43cc-844c-16531b449462",
   "metadata": {},
   "outputs": [
    {
     "name": "stdout",
     "output_type": "stream",
     "text": [
      "Hello\n"
     ]
    }
   ],
   "source": [
    "a = \"Hello\"\n",
    "print(a)"
   ]
  },
  {
   "cell_type": "markdown",
   "id": "d7acbb16-3b6a-4f07-87b8-9c3e41b6dc1b",
   "metadata": {},
   "source": [
    "Multiline Strings, three double quotes:"
   ]
  },
  {
   "cell_type": "code",
   "execution_count": 9,
   "id": "2a6ebf85-efe8-483e-bbc1-c90248ad406c",
   "metadata": {},
   "outputs": [
    {
     "name": "stdout",
     "output_type": "stream",
     "text": [
      "Lorem ipsum dolor sit amet,\n",
      "consectetur adipiscing elit,\n",
      "sed do eiusmod tempor incididunt\n",
      "ut labore et dolore magna aliqua.\n"
     ]
    }
   ],
   "source": [
    "a = \"\"\"Lorem ipsum dolor sit amet,\n",
    "consectetur adipiscing elit,\n",
    "sed do eiusmod tempor incididunt\n",
    "ut labore et dolore magna aliqua.\"\"\"\n",
    "print(a)"
   ]
  },
  {
   "cell_type": "markdown",
   "id": "5a0833de-9a79-45c8-9af6-f85d9a6714d6",
   "metadata": {},
   "source": [
    "Multiline Strings, three single quotes:"
   ]
  },
  {
   "cell_type": "code",
   "execution_count": 12,
   "id": "b11dddcd-1f0b-4146-90b0-a39df05b699c",
   "metadata": {},
   "outputs": [
    {
     "name": "stdout",
     "output_type": "stream",
     "text": [
      "Lorem ipsum dolor sit amet,\n",
      "consectetur adipiscing elit,\n",
      "sed do eiusmod tempor incididunt\n",
      "ut labore et dolore magna aliqua.\n"
     ]
    }
   ],
   "source": [
    "a = '''Lorem ipsum dolor sit amet,\n",
    "consectetur adipiscing elit,\n",
    "sed do eiusmod tempor incididunt\n",
    "ut labore et dolore magna aliqua.'''\n",
    "print(a)"
   ]
  },
  {
   "cell_type": "markdown",
   "id": "2d1a7254-f44e-4550-91e1-cae54d68d1e3",
   "metadata": {},
   "source": [
    "Strings are Arrays"
   ]
  },
  {
   "cell_type": "code",
   "execution_count": 16,
   "id": "1ef53782-ec36-4408-b718-620a6f65d045",
   "metadata": {},
   "outputs": [
    {
     "name": "stdout",
     "output_type": "stream",
     "text": [
      "e\n"
     ]
    }
   ],
   "source": [
    "a = \"Hello, World!\"\n",
    "print(a[1])\n",
    "#Get the character at position(remember that the first character has the position 0):"
   ]
  },
  {
   "cell_type": "markdown",
   "id": "c7532a68-68d0-41d3-9c5d-c6247ad654be",
   "metadata": {},
   "source": [
    "Looping Through a String"
   ]
  },
  {
   "cell_type": "code",
   "execution_count": 19,
   "id": "9e38fde4-e550-4fd7-b9a6-7551aa11655a",
   "metadata": {},
   "outputs": [
    {
     "name": "stdout",
     "output_type": "stream",
     "text": [
      "b\n",
      "a\n",
      "n\n",
      "a\n",
      "n\n",
      "a\n"
     ]
    }
   ],
   "source": [
    "for x in \"banana\":\n",
    "  print(x)"
   ]
  },
  {
   "cell_type": "markdown",
   "id": "4ae04431-a035-4ff5-99d1-0abc57206444",
   "metadata": {},
   "source": [
    "String Length\n"
   ]
  },
  {
   "cell_type": "code",
   "execution_count": 22,
   "id": "21c3b6bc-d71e-4a08-8454-a129e7a1dc76",
   "metadata": {},
   "outputs": [
    {
     "name": "stdout",
     "output_type": "stream",
     "text": [
      "13\n"
     ]
    }
   ],
   "source": [
    "a=\"Hello, World!\"\n",
    "print(len(a))"
   ]
  },
  {
   "cell_type": "markdown",
   "id": "39935d32-264d-40a7-b6e8-0f0f4e6d720f",
   "metadata": {},
   "source": [
    "Check String\n"
   ]
  },
  {
   "cell_type": "code",
   "execution_count": 25,
   "id": "c89d3117-f97e-4101-ad2b-aea95475808d",
   "metadata": {},
   "outputs": [
    {
     "name": "stdout",
     "output_type": "stream",
     "text": [
      "True\n"
     ]
    }
   ],
   "source": [
    "txt=\"The best thing in life are free!\"\n",
    "print(\"free\" in txt)"
   ]
  },
  {
   "cell_type": "markdown",
   "id": "fadd6c29-36d7-4c13-85c6-99782eab35ec",
   "metadata": {},
   "source": [
    "Using it in an if statement:"
   ]
  },
  {
   "cell_type": "code",
   "execution_count": 28,
   "id": "3279e933-aad1-450a-a48c-8f35fffa6265",
   "metadata": {},
   "outputs": [
    {
     "name": "stdout",
     "output_type": "stream",
     "text": [
      "Yes, 'free' is present\n"
     ]
    }
   ],
   "source": [
    "txt=\"The best thing in life is free\"\n",
    "if \"free\" in txt:\n",
    "    print(\"Yes, 'free' is present\")"
   ]
  },
  {
   "cell_type": "markdown",
   "id": "f8e84f5d-cf81-4da7-b060-cf357975beac",
   "metadata": {},
   "source": [
    "Check if NOT"
   ]
  },
  {
   "cell_type": "code",
   "execution_count": 37,
   "id": "35fbea06-6bac-49de-b005-51e13129584e",
   "metadata": {},
   "outputs": [
    {
     "name": "stdout",
     "output_type": "stream",
     "text": [
      "True\n"
     ]
    }
   ],
   "source": [
    "txt=\"The best thing in life is free\"\n",
    "print(\"expensive\" not in txt)"
   ]
  },
  {
   "cell_type": "markdown",
   "id": "1baf2b5d-a736-485e-8c17-f4166dfd7277",
   "metadata": {},
   "source": [
    "Using it in an if statement:"
   ]
  },
  {
   "cell_type": "code",
   "execution_count": 40,
   "id": "04b39746-39b9-4b87-ab60-7f95d1132bad",
   "metadata": {},
   "outputs": [
    {
     "name": "stdout",
     "output_type": "stream",
     "text": [
      "'Expensive' is not in txt\n"
     ]
    }
   ],
   "source": [
    "txt=\"The best thing in life is free!\"\n",
    "if \"expensive\" not in txt:\n",
    "    print(\"'Expensive' is not in txt\")"
   ]
  },
  {
   "cell_type": "markdown",
   "id": "f7a948bf-5faf-4736-8457-6f1ce9334095",
   "metadata": {},
   "source": [
    "Slicing"
   ]
  },
  {
   "cell_type": "code",
   "execution_count": 47,
   "id": "dd05df62-4fb0-45f6-a227-b915971afc39",
   "metadata": {},
   "outputs": [
    {
     "name": "stdout",
     "output_type": "stream",
     "text": [
      "llo\n"
     ]
    }
   ],
   "source": [
    "b=\"Hello, World!\"\n",
    "print(b[2:5])"
   ]
  },
  {
   "cell_type": "markdown",
   "id": "c23b8f65-a6b4-4d44-89f1-676b7e597ea2",
   "metadata": {},
   "source": [
    "Slice From the Start"
   ]
  },
  {
   "cell_type": "code",
   "execution_count": 52,
   "id": "acd43a1f-9c9b-463b-852c-dff95926a041",
   "metadata": {},
   "outputs": [
    {
     "name": "stdout",
     "output_type": "stream",
     "text": [
      "Hel\n"
     ]
    }
   ],
   "source": [
    "b=\"Hello, World!\"\n",
    "print(b[:3])"
   ]
  },
  {
   "cell_type": "markdown",
   "id": "2aa40bfe-3946-423c-9609-ee8a5f7442c4",
   "metadata": {},
   "source": [
    "Slice To the End"
   ]
  },
  {
   "cell_type": "code",
   "execution_count": 61,
   "id": "83250dc2-4495-491d-8ead-41cc9e03add8",
   "metadata": {},
   "outputs": [
    {
     "name": "stdout",
     "output_type": "stream",
     "text": [
      "orld!\n"
     ]
    }
   ],
   "source": [
    "b=\"Hello, World!\"\n",
    "print(b[8:])"
   ]
  },
  {
   "cell_type": "markdown",
   "id": "364b84b0-0da0-4977-973a-23cfd1dee8d6",
   "metadata": {},
   "source": [
    "Negative Indexing"
   ]
  },
  {
   "cell_type": "code",
   "execution_count": 64,
   "id": "85e4b9b2-b11e-4808-b8ea-1011fba71624",
   "metadata": {},
   "outputs": [
    {
     "name": "stdout",
     "output_type": "stream",
     "text": [
      "orl\n"
     ]
    }
   ],
   "source": [
    "b=\"Hello, World!\"\n",
    "print(b[-5:-2])"
   ]
  },
  {
   "cell_type": "markdown",
   "id": "9f49a4c7-63ab-44b6-88d8-466a8c7889a7",
   "metadata": {},
   "source": [
    "Upper Case"
   ]
  },
  {
   "cell_type": "code",
   "execution_count": 67,
   "id": "aa800435-3dfc-4542-ab9b-090debf40226",
   "metadata": {},
   "outputs": [
    {
     "name": "stdout",
     "output_type": "stream",
     "text": [
      "HELLO, WORLD!\n"
     ]
    }
   ],
   "source": [
    "a=\"Hello, World!\"\n",
    "print(a.upper())"
   ]
  },
  {
   "cell_type": "code",
   "execution_count": 75,
   "id": "35297143-76dc-4088-986d-a00446d3f31c",
   "metadata": {},
   "outputs": [
    {
     "name": "stdout",
     "output_type": "stream",
     "text": [
      "hello, world!\n"
     ]
    }
   ],
   "source": [
    "b=\"HELLO, WORLD!\"\n",
    "print(b.lower())"
   ]
  },
  {
   "cell_type": "markdown",
   "id": "14bee148-eab7-4344-9f85-d2a77f48c2b7",
   "metadata": {},
   "source": [
    "Remove Whitespace"
   ]
  },
  {
   "cell_type": "code",
   "execution_count": 78,
   "id": "6938fbc6-3ba9-4bd2-9264-e719220ad6da",
   "metadata": {},
   "outputs": [
    {
     "name": "stdout",
     "output_type": "stream",
     "text": [
      "Hello, World!\n"
     ]
    }
   ],
   "source": [
    "a=\" Hello, World! \"\n",
    "print(a.strip())\n",
    "#The strip() method removes any whitespace from the beginning or the end:"
   ]
  },
  {
   "cell_type": "markdown",
   "id": "c334494e-e377-4b6d-99de-f403b5639c43",
   "metadata": {},
   "source": [
    "Replace String\n"
   ]
  },
  {
   "cell_type": "code",
   "execution_count": 85,
   "id": "417b047f-456c-474c-b860-346c8b47d4ad",
   "metadata": {},
   "outputs": [
    {
     "name": "stdout",
     "output_type": "stream",
     "text": [
      "Jello, World!\n"
     ]
    }
   ],
   "source": [
    "a=\"Hello, World!\"\n",
    "print(a.replace(\"H\", \"J\"))"
   ]
  },
  {
   "cell_type": "markdown",
   "id": "18ae2d0e-99eb-475a-a496-354fa071881d",
   "metadata": {},
   "source": [
    "Split String"
   ]
  },
  {
   "cell_type": "code",
   "execution_count": 108,
   "id": "4f884b06-6728-4c52-9b43-e8e8fcf1f484",
   "metadata": {},
   "outputs": [
    {
     "name": "stdout",
     "output_type": "stream",
     "text": [
      "['Hell', ', W', 'rld!']\n"
     ]
    }
   ],
   "source": [
    "a=\"Hello, World!\"\n",
    "print(a.split(\"o\"))"
   ]
  },
  {
   "cell_type": "markdown",
   "id": "9040fe6b-ce77-4790-8b58-a4fcfa858f06",
   "metadata": {},
   "source": [
    "String Concatenation"
   ]
  },
  {
   "cell_type": "code",
   "execution_count": 111,
   "id": "299ee3b9-53e5-4f0a-8aad-8b66b6a34378",
   "metadata": {},
   "outputs": [
    {
     "name": "stdout",
     "output_type": "stream",
     "text": [
      "HelloWorld!\n"
     ]
    }
   ],
   "source": [
    "a=\"Hello\"\n",
    "b=\"World!\"\n",
    "print(a+b)\n",
    "#To concatenate, or combine, two strings you can use the + operator."
   ]
  },
  {
   "cell_type": "markdown",
   "id": "37bd8e4f-8461-4d92-92ce-c6abde2057db",
   "metadata": {},
   "source": [
    "String Concatenation with a white space"
   ]
  },
  {
   "cell_type": "code",
   "execution_count": 114,
   "id": "b6f6ad81-e7bb-429a-96b3-b1c13d7699cb",
   "metadata": {},
   "outputs": [
    {
     "name": "stdout",
     "output_type": "stream",
     "text": [
      "Hello World!\n"
     ]
    }
   ],
   "source": [
    "a=\"Hello\"\n",
    "b=\"World!\"\n",
    "print(a+\" \"+b)"
   ]
  },
  {
   "cell_type": "markdown",
   "id": "d1347363-2513-40cb-8b53-ce6d5b98ac8a",
   "metadata": {},
   "source": [
    "String Format"
   ]
  },
  {
   "cell_type": "code",
   "execution_count": 119,
   "id": "61df3e80-d550-42f2-baef-0b2392a92256",
   "metadata": {},
   "outputs": [
    {
     "name": "stdout",
     "output_type": "stream",
     "text": [
      "My name is Dameli, I'm 18\n"
     ]
    }
   ],
   "source": [
    "age=18\n",
    "txt=f\"My name is Dameli, I'm {age}\"\n",
    "print(txt)\n",
    "#To specify a string as an f-string, simply put an f in front of the string literal, and add curly brackets {} as placeholders for variables and other operations."
   ]
  },
  {
   "cell_type": "markdown",
   "id": "4bf2e009-bd14-43e9-b1ce-0cc781853731",
   "metadata": {},
   "source": [
    "combine strings and numbers like this:"
   ]
  },
  {
   "cell_type": "code",
   "execution_count": 122,
   "id": "93a6355c-5d18-43b4-9bfc-2c2c5f4ed127",
   "metadata": {},
   "outputs": [
    {
     "ename": "TypeError",
     "evalue": "can only concatenate str (not \"int\") to str",
     "output_type": "error",
     "traceback": [
      "\u001b[0;31m---------------------------------------------------------------------------\u001b[0m",
      "\u001b[0;31mTypeError\u001b[0m                                 Traceback (most recent call last)",
      "Cell \u001b[0;32mIn[122], line 2\u001b[0m\n\u001b[1;32m      1\u001b[0m age\u001b[38;5;241m=\u001b[39m\u001b[38;5;241m18\u001b[39m\n\u001b[0;32m----> 2\u001b[0m txt\u001b[38;5;241m=\u001b[39m\u001b[38;5;124m\"\u001b[39m\u001b[38;5;124mMy name is Dameli, I\u001b[39m\u001b[38;5;124m'\u001b[39m\u001b[38;5;124mm\u001b[39m\u001b[38;5;124m\"\u001b[39m \u001b[38;5;241m+\u001b[39m age\n\u001b[1;32m      3\u001b[0m \u001b[38;5;28mprint\u001b[39m(txt)\n",
      "\u001b[0;31mTypeError\u001b[0m: can only concatenate str (not \"int\") to str"
     ]
    }
   ],
   "source": [
    "age=18\n",
    "txt=\"My name is Dameli, I'm\" + age\n",
    "print(txt)"
   ]
  },
  {
   "cell_type": "markdown",
   "id": "b93f65e4-f6e8-425e-afb6-8e74e737ae35",
   "metadata": {},
   "source": [
    "Placeholders and Modifiers"
   ]
  },
  {
   "cell_type": "code",
   "execution_count": 125,
   "id": "8049ce39-6209-49f1-9794-f8bea3ce03d2",
   "metadata": {},
   "outputs": [
    {
     "name": "stdout",
     "output_type": "stream",
     "text": [
      "The price is 56 dollars\n"
     ]
    }
   ],
   "source": [
    "price=56\n",
    "txt=f\"The price is {price} dollars\"\n",
    "print(txt)"
   ]
  },
  {
   "cell_type": "markdown",
   "id": "9bbbdd10-e178-404d-b300-81be7fe8d9a7",
   "metadata": {},
   "source": [
    "modifier to format the value."
   ]
  },
  {
   "cell_type": "code",
   "execution_count": 136,
   "id": "e3eceba2-180a-4ddd-b558-f5808aff2b99",
   "metadata": {},
   "outputs": [
    {
     "name": "stdout",
     "output_type": "stream",
     "text": [
      "The price is 56.00 dollars\n"
     ]
    }
   ],
   "source": [
    "price=56\n",
    "txt=f\"The price is {price:.2f} dollars\"\n",
    "print(txt)\n",
    "#A modifier is included by adding a colon : followed by a legal formatting type, like .2f which means fixed point number with 2 decimals:"
   ]
  },
  {
   "cell_type": "markdown",
   "id": "ec65cd8f-9f4f-4084-8672-eaca7591aaa5",
   "metadata": {},
   "source": [
    "A placeholder can contain Python code, like math operations:"
   ]
  },
  {
   "cell_type": "code",
   "execution_count": 139,
   "id": "8e61b016-183b-41f9-9523-ce9f9270dbb5",
   "metadata": {},
   "outputs": [
    {
     "name": "stdout",
     "output_type": "stream",
     "text": [
      "The price is 1120.00 dollars\n"
     ]
    }
   ],
   "source": [
    "txt=f\"The price is {(56*20):.2f} dollars\"\n",
    "print(txt)"
   ]
  },
  {
   "cell_type": "markdown",
   "id": "509839c8-9a04-4e53-8c6c-91b0b7f34c4f",
   "metadata": {},
   "source": [
    "Escape Character"
   ]
  },
  {
   "cell_type": "code",
   "execution_count": 144,
   "id": "24a06eec-601f-4dc4-b232-71382de10d4c",
   "metadata": {},
   "outputs": [
    {
     "name": "stdout",
     "output_type": "stream",
     "text": [
      "We are the so-called \"Vikings\" from the north.\n"
     ]
    }
   ],
   "source": [
    "txt = \"We are the so-called \\\"Vikings\\\" from the north.\"\n",
    "print(txt)"
   ]
  },
  {
   "cell_type": "markdown",
   "id": "6de543d3-0de9-4b5d-b75e-c46004f5ea6c",
   "metadata": {},
   "source": [
    "Error"
   ]
  },
  {
   "cell_type": "code",
   "execution_count": 147,
   "id": "31f1ebb8-e6b6-4e24-8c37-b2d9fb8419b0",
   "metadata": {},
   "outputs": [
    {
     "ename": "SyntaxError",
     "evalue": "invalid syntax (4013392309.py, line 1)",
     "output_type": "error",
     "traceback": [
      "\u001b[0;36m  Cell \u001b[0;32mIn[147], line 1\u001b[0;36m\u001b[0m\n\u001b[0;31m    txt = \"We are the so-called \"Vikings\" from the north.\"\u001b[0m\n\u001b[0m                                 ^\u001b[0m\n\u001b[0;31mSyntaxError\u001b[0m\u001b[0;31m:\u001b[0m invalid syntax\n"
     ]
    }
   ],
   "source": [
    "txt = \"We are the so-called \"Vikings\" from the north.\"\n",
    "print(txt)\n",
    "#"
   ]
  },
  {
   "cell_type": "markdown",
   "id": "61b11ca3-71aa-4b6b-bf45-cd66f7afff60",
   "metadata": {},
   "source": [
    "Single Quote"
   ]
  },
  {
   "cell_type": "code",
   "execution_count": 150,
   "id": "c59d9a82-c1fa-4fa9-b1f4-9e3ae9c3f510",
   "metadata": {},
   "outputs": [
    {
     "name": "stdout",
     "output_type": "stream",
     "text": [
      "I'm Dameli\n"
     ]
    }
   ],
   "source": [
    "txt=\"I\\'m Dameli\"\n",
    "print(txt)"
   ]
  },
  {
   "cell_type": "markdown",
   "id": "190591ac-e1f0-4e66-836e-65d7e2da716d",
   "metadata": {},
   "source": [
    "Backslash"
   ]
  },
  {
   "cell_type": "code",
   "execution_count": 157,
   "id": "a28f6310-8b46-4f04-b875-1ac754828226",
   "metadata": {},
   "outputs": [
    {
     "name": "stdout",
     "output_type": "stream",
     "text": [
      "This will insert only \\ bakcslash\n"
     ]
    }
   ],
   "source": [
    "txt=\"This will insert only \\\\ bakcslash\"\n",
    "print(txt)"
   ]
  },
  {
   "cell_type": "markdown",
   "id": "ad30b09c-a777-4cc9-b958-33a4b8fa2f94",
   "metadata": {},
   "source": [
    "New line"
   ]
  },
  {
   "cell_type": "code",
   "execution_count": 160,
   "id": "d67f7308-e1a2-454c-941c-1a8c45d81d22",
   "metadata": {},
   "outputs": [
    {
     "name": "stdout",
     "output_type": "stream",
     "text": [
      "Hello\n",
      "World\n"
     ]
    }
   ],
   "source": [
    "txt=\"Hello\\nWorld\"\n",
    "print(txt)"
   ]
  },
  {
   "cell_type": "markdown",
   "id": "9eb25bfc-d3aa-46c3-8c3b-7e2d82a9474f",
   "metadata": {},
   "source": [
    "Carriage Return"
   ]
  },
  {
   "cell_type": "code",
   "execution_count": 165,
   "id": "24b592b5-eecb-40b6-89f2-10d7eb246564",
   "metadata": {},
   "outputs": [
    {
     "name": "stdout",
     "output_type": "stream",
     "text": [
      "Dameli World, life\n"
     ]
    }
   ],
   "source": [
    "txt=\"Hello, World, life\\rDameli\"\n",
    "print(txt)\n",
    "#выставляет вместо первого string новый string"
   ]
  },
  {
   "cell_type": "markdown",
   "id": "9355c1e0-0c01-48cd-aaa7-5b7e48b5ad82",
   "metadata": {},
   "source": [
    "Tab"
   ]
  },
  {
   "cell_type": "code",
   "execution_count": 168,
   "id": "84967152-b280-497e-b8a8-aeacc5f0bc23",
   "metadata": {},
   "outputs": [
    {
     "name": "stdout",
     "output_type": "stream",
     "text": [
      "Hello\tWorld!\n"
     ]
    }
   ],
   "source": [
    "txt = \"Hello\\tWorld!\"\n",
    "print(txt)"
   ]
  },
  {
   "cell_type": "markdown",
   "id": "18747cc6-c51a-45be-9c2c-71a8395da4ef",
   "metadata": {},
   "source": [
    "Backspace"
   ]
  },
  {
   "cell_type": "code",
   "execution_count": 171,
   "id": "978ae034-293d-453e-9bbb-a1137779c5a0",
   "metadata": {},
   "outputs": [
    {
     "name": "stdout",
     "output_type": "stream",
     "text": [
      "HelloWorld!\n"
     ]
    }
   ],
   "source": [
    "#This example erases one character (backspace):\n",
    "txt = \"Hello \\bWorld!\"\n",
    "print(txt) \n"
   ]
  },
  {
   "cell_type": "markdown",
   "id": "34db2334-ae79-4d1a-9bb9-e1add9af0ef6",
   "metadata": {},
   "source": [
    "Octal value"
   ]
  },
  {
   "cell_type": "code",
   "execution_count": 174,
   "id": "3f031c72-32cc-4645-9075-2c2ae7b2b724",
   "metadata": {},
   "outputs": [
    {
     "name": "stdout",
     "output_type": "stream",
     "text": [
      "Hello\n"
     ]
    }
   ],
   "source": [
    "#A backslash followed by three integers will result in a octal value:\n",
    "txt = \"\\110\\145\\154\\154\\157\"\n",
    "print(txt)"
   ]
  },
  {
   "cell_type": "markdown",
   "id": "d34e7119-32ef-45cc-989a-f92304f1a501",
   "metadata": {},
   "source": [
    "Hex value"
   ]
  },
  {
   "cell_type": "code",
   "execution_count": 177,
   "id": "62c87fe7-ccd9-4865-b847-55fa59ed3adb",
   "metadata": {},
   "outputs": [
    {
     "name": "stdout",
     "output_type": "stream",
     "text": [
      "Hello\n"
     ]
    }
   ],
   "source": [
    "#A backslash followed by an 'x' and a hex number represents a hex value:\n",
    "txt = \"\\x48\\x65\\x6c\\x6c\\x6f\"\n",
    "print(txt) "
   ]
  }
 ],
 "metadata": {
  "kernelspec": {
   "display_name": "Python [conda env:base] *",
   "language": "python",
   "name": "conda-base-py"
  },
  "language_info": {
   "codemirror_mode": {
    "name": "ipython",
    "version": 3
   },
   "file_extension": ".py",
   "mimetype": "text/x-python",
   "name": "python",
   "nbconvert_exporter": "python",
   "pygments_lexer": "ipython3",
   "version": "3.12.7"
  }
 },
 "nbformat": 4,
 "nbformat_minor": 5
}
