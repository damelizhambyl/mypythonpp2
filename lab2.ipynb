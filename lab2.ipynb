{
 "cells": [
  {
   "cell_type": "markdown",
   "id": "d6f60e66-1b23-44e8-a789-77f05f3731f1",
   "metadata": {},
   "source": [
    "Boolean Values"
   ]
  },
  {
   "cell_type": "code",
   "execution_count": 2,
   "id": "13e50178-1fbf-43a0-913c-9deb82ffa909",
   "metadata": {},
   "outputs": [
    {
     "name": "stdout",
     "output_type": "stream",
     "text": [
      "True\n",
      "False\n",
      "False\n"
     ]
    }
   ],
   "source": [
    "print(10>9)\n",
    "print(10==9)\n",
    "print(10<9)"
   ]
  },
  {
   "cell_type": "markdown",
   "id": "0689bade-170b-4010-afc6-c4bf3b2bc56a",
   "metadata": {},
   "source": [
    "run a condition in an if statement, example"
   ]
  },
  {
   "cell_type": "code",
   "execution_count": 5,
   "id": "6459bacf-72c5-4d0a-bc46-9db56ee30cea",
   "metadata": {},
   "outputs": [
    {
     "name": "stdout",
     "output_type": "stream",
     "text": [
      "a is greater than b\n"
     ]
    }
   ],
   "source": [
    "a=200\n",
    "b=33\n",
    "if a>b:\n",
    "    print(\"a is greater than b\")\n",
    "else:\n",
    "    print(\"a is not greater than b\")"
   ]
  },
  {
   "cell_type": "markdown",
   "id": "3d53653d-278e-4e77-82c2-bb0e46411701",
   "metadata": {},
   "source": [
    "Evaluate Values and Variables\n",
    "Evaluate a string and a number:"
   ]
  },
  {
   "cell_type": "code",
   "execution_count": 7,
   "id": "91f08e0e-1f15-488a-b4b7-d72e66079a87",
   "metadata": {},
   "outputs": [
    {
     "name": "stdout",
     "output_type": "stream",
     "text": [
      "True\n",
      "True\n"
     ]
    }
   ],
   "source": [
    "print(bool(\"Hello\"))\n",
    "print(bool(15))\n",
    "\n",
    "x=\"Hello\"\n",
    "y=15\n",
    "print(bool(x))\n",
    "print(bool(y))"
   ]
  },
  {
   "cell_type": "markdown",
   "id": "f3395cdb-d117-4f37-bd95-b2d24af6ed75",
   "metadata": {},
   "source": [
    "Most Values are True"
   ]
  },
  {
   "cell_type": "code",
   "execution_count": 302,
   "id": "890652f5-82cf-4751-a04b-9b07a1af57f4",
   "metadata": {},
   "outputs": [
    {
     "name": "stdout",
     "output_type": "stream",
     "text": [
      "True\n",
      "True\n",
      "True\n",
      "False\n",
      "False\n",
      "False\n",
      "False\n"
     ]
    }
   ],
   "source": [
    "print(bool(\"abc\"))\n",
    "print(bool(123))\n",
    "print(bool([\"apple\", \"cherry\", \"banana\"]))\n",
    "print(bool(\"\"))\n",
    "print(bool(0))\n",
    "print(bool([]))\n",
    "print(bool(None))\n",
    "\n",
    "#Almost any value is evaluated to True if it has some sort of content.\n",
    "\n",
    "#Any string is True, except empty strings.\n",
    "\n",
    "#Any number is True, except 0.\n",
    "\n",
    "#Any list, tuple, set, and dictionary are True, except empty ones."
   ]
  },
  {
   "cell_type": "markdown",
   "id": "394fff57-8a2a-4f89-8e9c-2a503bc5b19b",
   "metadata": {},
   "source": [
    "Functions can Return a Boolean"
   ]
  },
  {
   "cell_type": "code",
   "execution_count": 28,
   "id": "af6439a7-8036-415b-bc95-44f32418ab8a",
   "metadata": {},
   "outputs": [
    {
     "name": "stdout",
     "output_type": "stream",
     "text": [
      "True\n"
     ]
    }
   ],
   "source": [
    "def myfunction():\n",
    "    return True\n",
    "\n",
    "print(myfunction())"
   ]
  },
  {
   "cell_type": "markdown",
   "id": "4f74b965-ca9c-43f4-a674-a258fa2ff208",
   "metadata": {},
   "source": [
    "Code based on the Boolean answer of a function:"
   ]
  },
  {
   "cell_type": "code",
   "execution_count": 30,
   "id": "888d106c-a329-4bff-8a78-6a7ae4d92862",
   "metadata": {},
   "outputs": [
    {
     "name": "stdout",
     "output_type": "stream",
     "text": [
      "YES!\n"
     ]
    }
   ],
   "source": [
    "def myfunction():\n",
    "    return True\n",
    "\n",
    "if myfunction():\n",
    "    print(\"YES!\")\n",
    "else:\n",
    "    print(\"NO!\")"
   ]
  },
  {
   "cell_type": "markdown",
   "id": "63bccec6-be3f-4323-b9fa-0a1a2f4e1ce3",
   "metadata": {},
   "source": [
    "Check if an object is an integer or not:"
   ]
  },
  {
   "cell_type": "code",
   "execution_count": 32,
   "id": "0858ae4f-fd8f-4133-815a-ad5d249800b3",
   "metadata": {},
   "outputs": [
    {
     "name": "stdout",
     "output_type": "stream",
     "text": [
      "True\n"
     ]
    }
   ],
   "source": [
    "x=125\n",
    "print(isinstance(x, int))"
   ]
  },
  {
   "cell_type": "markdown",
   "id": "38c16e6d-18d8-4200-8d50-db1ba67f6be0",
   "metadata": {},
   "source": [
    "Modulus(остаток)"
   ]
  },
  {
   "cell_type": "code",
   "execution_count": 25,
   "id": "57ccdbc2-8f78-4689-bdda-191560057bd5",
   "metadata": {},
   "outputs": [
    {
     "name": "stdout",
     "output_type": "stream",
     "text": [
      "1\n"
     ]
    }
   ],
   "source": [
    "x=5\n",
    "y=2\n",
    "print(x%y)"
   ]
  },
  {
   "cell_type": "markdown",
   "id": "7fe384d2-1430-49dd-b827-836c1cb34875",
   "metadata": {},
   "source": [
    "Exponentation"
   ]
  },
  {
   "cell_type": "code",
   "execution_count": 30,
   "id": "f7246ac1-e329-4b8a-938a-16a7baf35c4d",
   "metadata": {},
   "outputs": [
    {
     "name": "stdout",
     "output_type": "stream",
     "text": [
      "9\n"
     ]
    }
   ],
   "source": [
    "x=3\n",
    "y=2\n",
    "print(x**y)\n",
    "#like 3*3, 3 in power of 2"
   ]
  },
  {
   "cell_type": "markdown",
   "id": "74ab76b7-b820-4356-bb88-97dd6dcba254",
   "metadata": {},
   "source": [
    "Floor division"
   ]
  },
  {
   "cell_type": "code",
   "execution_count": 33,
   "id": "4345d5e0-d81d-4bc1-b0a9-6b493dcd5d92",
   "metadata": {},
   "outputs": [
    {
     "name": "stdout",
     "output_type": "stream",
     "text": [
      "7\n"
     ]
    }
   ],
   "source": [
    "x=15\n",
    "y=2\n",
    "print(x//2)\n",
    "#floor division // rounds the result down to the nearest whole number"
   ]
  },
  {
   "cell_type": "code",
   "execution_count": 56,
   "id": "dd427935-96d7-420a-baa5-2caec2aa2ac0",
   "metadata": {},
   "outputs": [
    {
     "name": "stdout",
     "output_type": "stream",
     "text": [
      "40\n"
     ]
    }
   ],
   "source": [
    "x = 5\n",
    "\n",
    "x <<= 3\n",
    "\n",
    "print(x)\n",
    "#Этот код использует операцию побитового сдвига слева с присваиванием (<<=) между числом 5 и числом 3. "
   ]
  },
  {
   "cell_type": "code",
   "execution_count": 58,
   "id": "481d4aea-9f36-4dbf-9fe2-d2846c752ea1",
   "metadata": {},
   "outputs": [
    {
     "name": "stdout",
     "output_type": "stream",
     "text": [
      "3\n"
     ]
    }
   ],
   "source": [
    "print(x:=3)\n",
    "#Код print(x := 3) присваивает значение 3 переменной x и тут же выводит его"
   ]
  },
  {
   "cell_type": "markdown",
   "id": "3617ea9b-6f3c-4eb6-b4d1-2dc8386985ca",
   "metadata": {},
   "source": [
    "Python Logical Operators"
   ]
  },
  {
   "cell_type": "markdown",
   "id": "299b146f-b8a6-4275-9ba7-d3da3f107bb8",
   "metadata": {},
   "source": [
    "and"
   ]
  },
  {
   "cell_type": "code",
   "execution_count": 64,
   "id": "3d40b373-31a1-45d4-b49a-ecaacf9967a9",
   "metadata": {},
   "outputs": [
    {
     "name": "stdout",
     "output_type": "stream",
     "text": [
      "True\n"
     ]
    }
   ],
   "source": [
    "x=5\n",
    "print(x>3 and x<10)\n",
    "# returns True because 5 is greater than 3 AND 5 is less than 10"
   ]
  },
  {
   "cell_type": "markdown",
   "id": "d5dca206-23b1-4528-bf4a-932fea23cc3c",
   "metadata": {},
   "source": [
    "or"
   ]
  },
  {
   "cell_type": "code",
   "execution_count": 67,
   "id": "440ddd36-7e14-4233-a125-3fd72e740d5b",
   "metadata": {},
   "outputs": [
    {
     "name": "stdout",
     "output_type": "stream",
     "text": [
      "True\n"
     ]
    }
   ],
   "source": [
    "x=5\n",
    "print(x>3 or x<4)\n",
    "#returns True because one of the conditions are true (5 is greater than 3, but 5 is not less than 4)"
   ]
  },
  {
   "cell_type": "markdown",
   "id": "48478a3b-572a-4b08-a7ba-c5e65f27c7da",
   "metadata": {},
   "source": [
    "not(reverse the function)"
   ]
  },
  {
   "cell_type": "code",
   "execution_count": 70,
   "id": "1e7ec281-60a3-4203-9726-6d71175b871e",
   "metadata": {},
   "outputs": [
    {
     "name": "stdout",
     "output_type": "stream",
     "text": [
      "False\n"
     ]
    }
   ],
   "source": [
    "x=5\n",
    "print(not(x>3 and x<10))\n",
    "#returns False because not is used to reverse the result"
   ]
  },
  {
   "cell_type": "markdown",
   "id": "b0666f04-50ab-4a1b-b947-5e4c4362bbcd",
   "metadata": {},
   "source": [
    "is-показывает что несколько вещей это одно и тоже\n",
    "example"
   ]
  },
  {
   "cell_type": "code",
   "execution_count": 75,
   "id": "f90af9af-90ef-46bc-afe9-1dcca463a790",
   "metadata": {},
   "outputs": [
    {
     "name": "stdout",
     "output_type": "stream",
     "text": [
      "True\n",
      "False\n",
      "True\n"
     ]
    }
   ],
   "source": [
    "x=[\"apple\", \"banana\"]\n",
    "y=[\"apple\", \"banana\"]\n",
    "z=x\n",
    "print(x is z)\n",
    "#returns True because x and z are the same things\n",
    "\n",
    "print(x is y)\n",
    "#returns False because x is not the same as the y, even they have the same content\n",
    "\n",
    "print(x==y)\n",
    "#returns True because this operator compares x and y, and there is we can see that they are identical"
   ]
  },
  {
   "cell_type": "code",
   "execution_count": 85,
   "id": "6050bff5-b804-4685-b2ea-e01ad31deab1",
   "metadata": {},
   "outputs": [
    {
     "name": "stdout",
     "output_type": "stream",
     "text": [
      "True\n"
     ]
    }
   ],
   "source": [
    "x=[\"apple\", \"banana\"]\n",
    "print(\"banana\" in x)\n",
    "#returns True because a sequence with the value \"banana\" is in the list"
   ]
  },
  {
   "cell_type": "markdown",
   "id": "6c8ec049-92d2-4cec-800d-d769d5b7bdde",
   "metadata": {},
   "source": [
    "Python Lists\n",
    "\n",
    "Lists are used to store multiple items in a single variable.\n",
    "\n",
    "Lists are created using square brackets:"
   ]
  },
  {
   "cell_type": "code",
   "execution_count": 88,
   "id": "2e52d79b-7654-4ca8-8b60-29bc3b3d18ab",
   "metadata": {},
   "outputs": [
    {
     "name": "stdout",
     "output_type": "stream",
     "text": [
      "['apple', 'banana', 'orange']\n"
     ]
    }
   ],
   "source": [
    "mylist=[\"apple\", \"banana\", \"orange\"]\n",
    "print(mylist)"
   ]
  },
  {
   "cell_type": "markdown",
   "id": "51e33562-2db8-4db5-b7c5-4c72faadb845",
   "metadata": {},
   "source": [
    "List Items\n",
    "List items are ordered, changeable, and allow duplicate values.\n",
    "\n",
    "List items are indexed, the first item has index [0], the second item has index [1] etc.\n",
    "\n",
    "If you add new items to a list, the new items will be placed at the end of the list."
   ]
  },
  {
   "cell_type": "code",
   "execution_count": 91,
   "id": "418caf21-ed64-42ef-8ad9-a66bec49769b",
   "metadata": {},
   "outputs": [
    {
     "name": "stdout",
     "output_type": "stream",
     "text": [
      "['apple', 'banana', 'cherry', 'apple', 'banana']\n"
     ]
    }
   ],
   "source": [
    "mylistwithdublicate=[\"apple\", \"banana\", \"cherry\", \"apple\", \"banana\"]\n",
    "print(mylistwithdublicate)"
   ]
  },
  {
   "cell_type": "markdown",
   "id": "5b54a10d-d138-4dcd-a2d5-00c74b462274",
   "metadata": {},
   "source": [
    "List Items - Data Types\n",
    "List items can be of any data type:\n"
   ]
  },
  {
   "cell_type": "code",
   "execution_count": 96,
   "id": "ce605e10-5619-409c-9d0f-dfdc3ca435ca",
   "metadata": {},
   "outputs": [
    {
     "name": "stdout",
     "output_type": "stream",
     "text": [
      "['apple', 'banana', 'cherry']\n",
      "[1, 2, 3, 4, 5]\n",
      "[True, False, True]\n"
     ]
    }
   ],
   "source": [
    "list1=[\"apple\", \"banana\", \"cherry\"]\n",
    "list2=[1,2,3,4,5]\n",
    "list3=[True,False,True]\n",
    "print(list1)\n",
    "print(list2)\n",
    "print(list3)"
   ]
  },
  {
   "cell_type": "markdown",
   "id": "078e8902-8fa6-49c9-8d21-ec5788783a07",
   "metadata": {},
   "source": [
    "A list can contain different data types:"
   ]
  },
  {
   "cell_type": "code",
   "execution_count": 101,
   "id": "23a02286-d185-4845-abcf-f48e2f302eb5",
   "metadata": {},
   "outputs": [
    {
     "name": "stdout",
     "output_type": "stream",
     "text": [
      "['apple', 48, True, 'female', 21, False]\n"
     ]
    }
   ],
   "source": [
    "mylist=[\"apple\", 48, True, \"female\", 21, False]\n",
    "print(mylist)"
   ]
  },
  {
   "cell_type": "markdown",
   "id": "c5d03f44-3c1c-4021-b2de-1d28b5ebfed7",
   "metadata": {},
   "source": [
    "The list() Constructor"
   ]
  },
  {
   "cell_type": "code",
   "execution_count": 104,
   "id": "9f603ebf-643c-4fe8-8ffc-ebe83fa5c850",
   "metadata": {},
   "outputs": [
    {
     "name": "stdout",
     "output_type": "stream",
     "text": [
      "['apple', 'banana', 'cherry']\n"
     ]
    }
   ],
   "source": [
    "mylist=list((\"apple\", \"banana\", \"cherry\"))\n",
    "#note the double round-brackets\n",
    "print(mylist)"
   ]
  },
  {
   "cell_type": "markdown",
   "id": "ab948bcb-8054-4ee9-b10b-6c01124e3319",
   "metadata": {},
   "source": [
    "Access Items and Negative Indexing"
   ]
  },
  {
   "cell_type": "code",
   "execution_count": 117,
   "id": "db8c6119-c37e-4fe0-93b0-c1d4379cca4c",
   "metadata": {},
   "outputs": [
    {
     "name": "stdout",
     "output_type": "stream",
     "text": [
      "banana\n",
      "cherry\n"
     ]
    }
   ],
   "source": [
    "mylist=[\"apple\", \"banana\", \"cherry\"]\n",
    "print(mylist[1])\n",
    "\n",
    "mylist2=[\"apple\", \"banana\", \"cherry\"]\n",
    "print(mylist2[-1]) #this will be the last index"
   ]
  },
  {
   "cell_type": "markdown",
   "id": "d61b39de-c028-497d-9f87-6c5a32dc0468",
   "metadata": {},
   "source": [
    "Change Item Value and Change a Range of Item Values"
   ]
  },
  {
   "cell_type": "code",
   "execution_count": 124,
   "id": "d8aa720c-63b5-4b99-b548-882c881183d0",
   "metadata": {},
   "outputs": [
    {
     "name": "stdout",
     "output_type": "stream",
     "text": [
      "['apple', 'orange', 'cherry']\n",
      "['apple', 'watermelon', 'baccurant', 'orange', 'kiwi']\n",
      "['apple', 'watermelon', 'orange', 'cherry']\n"
     ]
    }
   ],
   "source": [
    "mylist=[\"apple\", \"banana\", \"cherry\"]\n",
    "mylist[1]=\"orange\"\n",
    "print(mylist)\n",
    "#To change the value of a specific item, refer to the index number:\n",
    "\n",
    "thislist=[\"apple\", \"banana\", \"cherry\", \"orange\", \"kiwi\"]\n",
    "thislist[1:3]=[\"watermelon\", \"baccurant\"]\n",
    "print(thislist)\n",
    "\n",
    "#If you insert more items than you replace, the new items will be inserted where you specified, and the remaining items will move accordingly:\n",
    "onemorelist=[\"apple\", \"banana\", \"cherry\"]\n",
    "onemorelist[1:2]=[\"watermelon\", \"orange\"]\n",
    "print(onemorelist)\n",
    "#Change the second value by replacing it with two new values"
   ]
  },
  {
   "cell_type": "markdown",
   "id": "d198b3d9-9b5b-40c2-abb6-c29d639b3130",
   "metadata": {},
   "source": [
    "Insert Items"
   ]
  },
  {
   "cell_type": "code",
   "execution_count": 131,
   "id": "8e56c1a2-1987-436d-9291-51ed32cae325",
   "metadata": {},
   "outputs": [
    {
     "name": "stdout",
     "output_type": "stream",
     "text": [
      "['apple', 'banana', 'watermelon', 'cherry']\n"
     ]
    }
   ],
   "source": [
    "mylist=[\"apple\", \"banana\", \"cherry\"]\n",
    "mylist.insert(2, \"watermelon\")\n",
    "print(mylist)\n",
    "#to insert a new list item, without replacing any of the existing values, we can use the insert() method."
   ]
  },
  {
   "cell_type": "markdown",
   "id": "84b8de2b-c792-4eed-a18a-605389027ce3",
   "metadata": {},
   "source": [
    "Append Items\n",
    "To add an item to the end of the list, use the append() method:"
   ]
  },
  {
   "cell_type": "code",
   "execution_count": 138,
   "id": "c1ac13b3-0a0f-4622-977e-4db5926f6197",
   "metadata": {},
   "outputs": [
    {
     "name": "stdout",
     "output_type": "stream",
     "text": [
      "['apple', 'orange', 'cherry', 'banana']\n"
     ]
    }
   ],
   "source": [
    "mylist=[\"apple\",\"orange\",\"cherry\"]\n",
    "mylist.append(\"banana\")\n",
    "print(mylist)"
   ]
  },
  {
   "cell_type": "markdown",
   "id": "cc3b8635-15fa-4791-8241-798473d2ba74",
   "metadata": {},
   "source": [
    "Extend List\n",
    "To append elements from another list to the current list, use the extend() method."
   ]
  },
  {
   "cell_type": "code",
   "execution_count": 141,
   "id": "10c613cc-b462-403c-8141-f260c003fa5e",
   "metadata": {},
   "outputs": [
    {
     "name": "stdout",
     "output_type": "stream",
     "text": [
      "['apple', 'banana', 'cherry', 'orange', 'mango', 'pineapple']\n"
     ]
    }
   ],
   "source": [
    "mylist=[\"apple\", \"banana\", \"cherry\"]\n",
    "tropical=[\"orange\", \"mango\", \"pineapple\"]\n",
    "mylist.extend(tropical)\n",
    "print(mylist)"
   ]
  },
  {
   "cell_type": "markdown",
   "id": "2714a462-4635-49be-9be3-b85d5107131a",
   "metadata": {},
   "source": [
    "Add Any Iterable, The extend() method does not have to append lists, you can add any iterable object (tuples, sets, dictionaries etc.)"
   ]
  },
  {
   "cell_type": "code",
   "execution_count": 146,
   "id": "eae19075-73ef-48ac-b905-0812f6f1ea41",
   "metadata": {},
   "outputs": [
    {
     "name": "stdout",
     "output_type": "stream",
     "text": [
      "['apple', 'cherry', 'mango', 'kiwi', 'orange']\n"
     ]
    }
   ],
   "source": [
    "thislist=[\"apple\", \"cherry\", \"mango\"]\n",
    "thistuple=(\"kiwi\", \"orange\")\n",
    "thislist.extend(thistuple)\n",
    "print(thislist)"
   ]
  },
  {
   "cell_type": "markdown",
   "id": "381f4a2e-2fd3-439f-bee2-c9c8214c1de2",
   "metadata": {},
   "source": [
    "Python - Remove List Items"
   ]
  },
  {
   "cell_type": "code",
   "execution_count": 149,
   "id": "28b779fb-fdd6-4ef1-bf34-a6b81962b633",
   "metadata": {},
   "outputs": [
    {
     "name": "stdout",
     "output_type": "stream",
     "text": [
      "['apple', 'cherry']\n"
     ]
    }
   ],
   "source": [
    "thislist=[\"apple\", \"banana\", \"cherry\"]\n",
    "thislist.remove(\"banana\")\n",
    "print(thislist)"
   ]
  },
  {
   "cell_type": "markdown",
   "id": "b8d077ea-0f20-4275-a62c-e7de61c1cc6a",
   "metadata": {},
   "source": [
    "Remove Specified Index"
   ]
  },
  {
   "cell_type": "code",
   "execution_count": 152,
   "id": "075b589a-4541-4025-a6f5-728afbf1bfd9",
   "metadata": {},
   "outputs": [
    {
     "name": "stdout",
     "output_type": "stream",
     "text": [
      "['apple', 'cherry']\n"
     ]
    }
   ],
   "source": [
    "thislist=[\"apple\", \"banana\", \"cherry\"]\n",
    "thislist.pop(1)\n",
    "print(thislist)"
   ]
  },
  {
   "cell_type": "markdown",
   "id": "658e0cab-474a-425e-997d-f36400131919",
   "metadata": {},
   "source": [
    "The del keyword also removes the specified index, it also deletes the entire list:"
   ]
  },
  {
   "cell_type": "code",
   "execution_count": 169,
   "id": "19a15695-4aa6-4026-bc7a-b1ca47db658f",
   "metadata": {},
   "outputs": [
    {
     "name": "stdout",
     "output_type": "stream",
     "text": [
      "['banana', 'cherry']\n"
     ]
    }
   ],
   "source": [
    "thislist=[\"apple\", \"banana\", \"cherry\"]\n",
    "del thislist[0]\n",
    "print(thislist)\n",
    "\n",
    "thislist2=[\"apple\", \"banana\"]\n",
    "del thislist2"
   ]
  },
  {
   "cell_type": "markdown",
   "id": "011a782e-cd26-44b5-83e5-3f5b2caacfe7",
   "metadata": {},
   "source": [
    "Clear the list:"
   ]
  },
  {
   "cell_type": "code",
   "execution_count": 172,
   "id": "0745bd7a-70ef-44b7-92d5-ac4b4bea2dac",
   "metadata": {},
   "outputs": [
    {
     "name": "stdout",
     "output_type": "stream",
     "text": [
      "[]\n"
     ]
    }
   ],
   "source": [
    "thislist=[\"apple\", \"banana\", \"cherry\"]\n",
    "thislist.clear()\n",
    "print(thislist)"
   ]
  },
  {
   "cell_type": "markdown",
   "id": "b6839da6-4b15-4ee7-844f-015552e51d13",
   "metadata": {},
   "source": [
    "You can loop through the list items by using a for loop:"
   ]
  },
  {
   "cell_type": "code",
   "execution_count": 175,
   "id": "b5d15190-db27-488d-9f56-8f569e2f956a",
   "metadata": {},
   "outputs": [
    {
     "name": "stdout",
     "output_type": "stream",
     "text": [
      "apple\n",
      "banana\n",
      "cherry\n"
     ]
    }
   ],
   "source": [
    "thislist=[\"apple\", \"banana\", \"cherry\"]\n",
    "for x in thislist:\n",
    "    print(x)"
   ]
  },
  {
   "cell_type": "markdown",
   "id": "28dfc97e-bb13-4417-b16f-2dbc6918a943",
   "metadata": {},
   "source": [
    "Loop Through the Index Numbers\n",
    "You can also loop through the list items by referring to their index number.\n",
    "\n",
    "Use the range() and len() functions to create a suitable iterable."
   ]
  },
  {
   "cell_type": "code",
   "execution_count": 178,
   "id": "c881fb40-5135-4e9b-9448-2b3370983b5d",
   "metadata": {},
   "outputs": [
    {
     "name": "stdout",
     "output_type": "stream",
     "text": [
      "apple\n",
      "banana\n",
      "cherry\n"
     ]
    }
   ],
   "source": [
    "thislist=[\"apple\", \"banana\", \"cherry\"]\n",
    "for i in range(len(thislist)):\n",
    "    print(thislist[i])"
   ]
  },
  {
   "cell_type": "markdown",
   "id": "819f3634-8804-4b08-b8f2-bbcb51614b1e",
   "metadata": {},
   "source": [
    "Using a While Loop"
   ]
  },
  {
   "cell_type": "code",
   "execution_count": 183,
   "id": "66cb09a5-1b2d-41e9-b238-1926f066ffd6",
   "metadata": {},
   "outputs": [
    {
     "name": "stdout",
     "output_type": "stream",
     "text": [
      "apple\n",
      "banana\n",
      "cherry\n"
     ]
    }
   ],
   "source": [
    "thislist=[\"apple\", \"banana\", \"cherry\"]\n",
    "i=0\n",
    "while i<len(thislist):\n",
    "    print(thislist[i])\n",
    "    i=i+1"
   ]
  },
  {
   "cell_type": "markdown",
   "id": "57ddd140-dc55-4ba4-a36f-579bd5fe0c39",
   "metadata": {},
   "source": [
    "Looping Using List Comprehension (A short hand for loop that will print all items in a list)"
   ]
  },
  {
   "cell_type": "code",
   "execution_count": 187,
   "id": "dc8c580d-5d1c-49bb-b409-9359f212d0ab",
   "metadata": {},
   "outputs": [
    {
     "name": "stdout",
     "output_type": "stream",
     "text": [
      "apple\n",
      "banana\n",
      "cherry\n"
     ]
    },
    {
     "data": {
      "text/plain": [
       "[None, None, None]"
      ]
     },
     "execution_count": 187,
     "metadata": {},
     "output_type": "execute_result"
    }
   ],
   "source": [
    "thislist=[\"apple\", \"banana\", \"cherry\"]\n",
    "[print(x) for x in thislist]"
   ]
  },
  {
   "cell_type": "markdown",
   "id": "7b5b906b-0453-4fc7-862d-bc078d6112d7",
   "metadata": {},
   "source": [
    "A short hand for loop that will print all items in a list:"
   ]
  },
  {
   "cell_type": "code",
   "execution_count": 192,
   "id": "12a95f46-8a47-4a5d-a92a-d6dd60a55c88",
   "metadata": {},
   "outputs": [
    {
     "name": "stdout",
     "output_type": "stream",
     "text": [
      "['apple', 'banana']\n"
     ]
    }
   ],
   "source": [
    "fruits=[\"apple\", \"banana\", \"cherry\"]\n",
    "newlist=[]\n",
    "for x in fruits:\n",
    "    if \"a\" in x:\n",
    "        newlist.append(x)\n",
    "\n",
    "print(newlist)"
   ]
  },
  {
   "cell_type": "markdown",
   "id": "ebbaa26f-e00b-4524-9957-6837536a754b",
   "metadata": {},
   "source": [
    " with only one line of code:"
   ]
  },
  {
   "cell_type": "code",
   "execution_count": 199,
   "id": "2c387c1d-1fa6-46f4-9d02-09178b812502",
   "metadata": {},
   "outputs": [
    {
     "name": "stdout",
     "output_type": "stream",
     "text": [
      "['apple', 'banana']\n"
     ]
    }
   ],
   "source": [
    "fruits=[\"apple\", \"banana\", \"cherry\"]\n",
    "newlist=[x for x in fruits if \"a\" in x]\n",
    "print(newlist)"
   ]
  },
  {
   "cell_type": "markdown",
   "id": "12153b7c-c763-4edc-9552-c8e61ddfc09f",
   "metadata": {},
   "source": [
    "Python Tuples\n",
    "\n",
    "Tuples are used to store multiple items in a single variable.\n",
    "\n",
    "A tuple is a collection which is ordered and unchangeable.\n",
    "\n",
    "Tuples are written with round brackets.\n",
    "\n",
    "Tuple items are ordered, unchangeable, and allow duplicate values.\n",
    "\n",
    "Tuple items are indexed, the first item has index [0], the second item has index [1] etc.\n",
    "\n",
    "One item tuple, remember the comma\n",
    "\n",
    "Tuple items can be of any data type and can contain different data types"
   ]
  },
  {
   "cell_type": "code",
   "execution_count": 206,
   "id": "39a53292-d860-4bb9-95e7-71491bca2236",
   "metadata": {},
   "outputs": [
    {
     "name": "stdout",
     "output_type": "stream",
     "text": [
      "('apple', 'banana', 'cherry')\n"
     ]
    }
   ],
   "source": [
    "mytuple=(\"apple\", \"banana\", \"cherry\")\n",
    "print(mytuple)"
   ]
  },
  {
   "cell_type": "markdown",
   "id": "5d8da0b8-d4b7-46f7-8284-907314dd5e29",
   "metadata": {},
   "source": [
    "Change Tuple Values"
   ]
  },
  {
   "cell_type": "code",
   "execution_count": 210,
   "id": "a21e9f4a-435f-4be3-bdeb-be13899446df",
   "metadata": {},
   "outputs": [
    {
     "name": "stdout",
     "output_type": "stream",
     "text": [
      "('apple', 'kiwi', 'cherry')\n"
     ]
    }
   ],
   "source": [
    "x=(\"apple\", \"banana\", \"cherry\")\n",
    "y=list(x)\n",
    "y[1]=\"kiwi\"\n",
    "x=tuple(y)\n",
    "\n",
    "print(x)\n",
    "#Convert the tuple into a list to be able to change it:"
   ]
  },
  {
   "cell_type": "markdown",
   "id": "9fc18087-8aaa-4ac9-9cde-b01790f03c70",
   "metadata": {},
   "source": [
    "Add Items"
   ]
  },
  {
   "cell_type": "code",
   "execution_count": 213,
   "id": "d01e2211-f7c0-489b-beba-b5e8c3ca3573",
   "metadata": {},
   "outputs": [
    {
     "name": "stdout",
     "output_type": "stream",
     "text": [
      "('apple', 'banana', 'cherry', 'orange')\n"
     ]
    }
   ],
   "source": [
    "thistuple=(\"apple\", \"banana\", \"cherry\")\n",
    "y=list(thistuple)\n",
    "y.append(\"orange\")\n",
    "thistuple=tuple(y)\n",
    "print(thistuple)\n",
    "#Convert the tuple into a list, add \"orange\", and convert it back into a tuple:"
   ]
  },
  {
   "cell_type": "markdown",
   "id": "cefe936e-c7a0-4464-8799-a4baead96ced",
   "metadata": {},
   "source": [
    "Add tuple to a tuple"
   ]
  },
  {
   "cell_type": "code",
   "execution_count": 220,
   "id": "1f7beb50-bbb4-4d40-9e79-e3e96baf5ac0",
   "metadata": {},
   "outputs": [
    {
     "name": "stdout",
     "output_type": "stream",
     "text": [
      "('apple', 'banana', 'cherry', 'orange')\n"
     ]
    }
   ],
   "source": [
    "thistuple=(\"apple\", \"banana\", \"cherry\")\n",
    "mytuple=(\"orange\",)\n",
    "thistuple+=mytuple\n",
    "print(thistuple)"
   ]
  },
  {
   "cell_type": "markdown",
   "id": "7669e3fa-fea5-47b7-8e1a-1dfa00fd42fa",
   "metadata": {},
   "source": [
    "Remove Items(we cannot remove items in a tuple) "
   ]
  },
  {
   "cell_type": "code",
   "execution_count": 227,
   "id": "19511717-9579-4f5d-8c0c-9b0cd1025770",
   "metadata": {},
   "outputs": [
    {
     "name": "stdout",
     "output_type": "stream",
     "text": [
      "('banana', 'cherry')\n"
     ]
    }
   ],
   "source": [
    "thistuple=(\"apple\", \"banana\", \"cherry\")\n",
    "y=list(thistuple)\n",
    "y.remove(\"apple\")\n",
    "thistuple=tuple(y)\n",
    "print(thistuple)\n",
    "#Convert the tuple into a list, remove \"apple\", and convert it back into a tuple:"
   ]
  },
  {
   "cell_type": "markdown",
   "id": "b6dd8032-04e2-4bc2-adf5-d8134436424d",
   "metadata": {},
   "source": [
    "Unpacking a tuple"
   ]
  },
  {
   "cell_type": "code",
   "execution_count": 234,
   "id": "97928fbc-4149-4d86-b548-ac1de9dd1019",
   "metadata": {},
   "outputs": [
    {
     "name": "stdout",
     "output_type": "stream",
     "text": [
      "apple\n",
      "banana\n",
      "cherry\n"
     ]
    }
   ],
   "source": [
    "fruits = (\"apple\", \"banana\", \"cherry\")\n",
    "\n",
    "(green, yellow, red) = fruits\n",
    "\n",
    "print(green)\n",
    "print(yellow)\n",
    "print(red)\n",
    "#The number of variables must match the number of values in the tuple, if not, you must use an asterisk to collect the remaining values as a list."
   ]
  },
  {
   "cell_type": "markdown",
   "id": "c69132dd-9325-4831-a21e-c766fb409c87",
   "metadata": {},
   "source": [
    "Using Asterisk*"
   ]
  },
  {
   "cell_type": "code",
   "execution_count": 237,
   "id": "e6dc0217-4dba-41a4-8286-e16f8890194b",
   "metadata": {},
   "outputs": [
    {
     "name": "stdout",
     "output_type": "stream",
     "text": [
      "apple\n",
      "banana\n",
      "['cherry', 'strawberry', 'raspberry']\n"
     ]
    }
   ],
   "source": [
    "fruits = (\"apple\", \"banana\", \"cherry\", \"strawberry\", \"raspberry\")\n",
    "\n",
    "(green, yellow, *red) = fruits\n",
    "\n",
    "print(green)\n",
    "print(yellow)\n",
    "print(red)"
   ]
  },
  {
   "cell_type": "markdown",
   "id": "0276d461-3d10-47f1-99cd-3ecb3d4ce558",
   "metadata": {},
   "source": [
    "Add a list of values the \"tropic\" variable:"
   ]
  },
  {
   "cell_type": "code",
   "execution_count": 240,
   "id": "bd063c7e-68dc-4ad3-9a59-e5a83fc2da7f",
   "metadata": {},
   "outputs": [
    {
     "name": "stdout",
     "output_type": "stream",
     "text": [
      "apple\n",
      "['mango', 'papaya', 'pineapple']\n",
      "cherry\n"
     ]
    }
   ],
   "source": [
    "fruits = (\"apple\", \"mango\", \"papaya\", \"pineapple\", \"cherry\")\n",
    "\n",
    "(green, *tropic, red) = fruits\n",
    "\n",
    "print(green)\n",
    "print(tropic)\n",
    "print(red)"
   ]
  },
  {
   "cell_type": "markdown",
   "id": "d947d0e4-a7cd-4fc5-bd27-0882a2fff57b",
   "metadata": {},
   "source": [
    "Multiply Tuples"
   ]
  },
  {
   "cell_type": "code",
   "execution_count": 243,
   "id": "16ffc9ff-b475-4928-bf76-a66df477ac40",
   "metadata": {},
   "outputs": [
    {
     "name": "stdout",
     "output_type": "stream",
     "text": [
      "('apple', 'banana', 'cherry', 'apple', 'banana', 'cherry')\n"
     ]
    }
   ],
   "source": [
    "fruits = (\"apple\", \"banana\", \"cherry\")\n",
    "mytuple = fruits * 2\n",
    "\n",
    "print(mytuple)"
   ]
  },
  {
   "cell_type": "markdown",
   "id": "d79dabee-eeb7-461e-a133-7c7bb9fc24aa",
   "metadata": {},
   "source": [
    "Python Sets\n",
    "\n",
    "A set is a collection which is unordered, unchangeable*, and unindexed, but you can remove items and add new items.\n",
    "\n",
    "Duplicates Not Allowed\n",
    "\n",
    "The values True and 1 are considered the same value in sets, and are treated as duplicates\n",
    "\n",
    "False and 0 is considered the same value, and are treated as dublicates\n",
    "\n",
    "Set items can be of any data type, A set can contain different data types\n",
    "\n",
    "Once a set is created, you cannot change its items, but you can add new items.\n",
    "\n",
    "You cannot access items in a set by referring to an index or a key.\n",
    "\n"
   ]
  },
  {
   "cell_type": "code",
   "execution_count": 250,
   "id": "03f91c81-b48c-4181-8ad2-f6000daafc35",
   "metadata": {},
   "outputs": [
    {
     "name": "stdout",
     "output_type": "stream",
     "text": [
      "{'banana', 'cherry', 'apple'}\n"
     ]
    }
   ],
   "source": [
    "myset={\"apple\", \"banana\", \"cherry\"}\n",
    "print(myset)"
   ]
  },
  {
   "cell_type": "markdown",
   "id": "9400522d-32dc-4516-af91-505c18c86353",
   "metadata": {},
   "source": [
    "The set() Constructor\n"
   ]
  },
  {
   "cell_type": "code",
   "execution_count": 253,
   "id": "8d6ee983-6d5c-4512-a080-a169bfb09b5b",
   "metadata": {},
   "outputs": [
    {
     "name": "stdout",
     "output_type": "stream",
     "text": [
      "{'banana', 'cherry', 'apple'}\n"
     ]
    }
   ],
   "source": [
    "thisset = set((\"apple\", \"banana\", \"cherry\"))\n",
    "#Using the set() constructor to make a set\n",
    "# note the double round-brackets\n",
    "print(thisset)"
   ]
  },
  {
   "cell_type": "markdown",
   "id": "199b8813-8d9b-43e9-bc99-4bbee849544b",
   "metadata": {},
   "source": [
    "Access Items"
   ]
  },
  {
   "cell_type": "code",
   "execution_count": 256,
   "id": "38ba5372-236f-41e0-ae72-f5a06b2d0c5d",
   "metadata": {},
   "outputs": [
    {
     "name": "stdout",
     "output_type": "stream",
     "text": [
      "banana\n",
      "cherry\n",
      "apple\n"
     ]
    }
   ],
   "source": [
    "thisset={\"apple\", \"banana\", \"cherry\"}\n",
    "for x in thisset:\n",
    "    print(x)"
   ]
  },
  {
   "cell_type": "code",
   "execution_count": 258,
   "id": "522e829c-fa64-48e7-99a8-1e7497e123aa",
   "metadata": {},
   "outputs": [
    {
     "name": "stdout",
     "output_type": "stream",
     "text": [
      "True\n"
     ]
    }
   ],
   "source": [
    "thisset={\"apple\", \"banana\", \"cherry\"}\n",
    "print(\"banana\" in thisset)"
   ]
  },
  {
   "cell_type": "markdown",
   "id": "bafbafd3-fcf6-4cba-8943-eb25fabd9719",
   "metadata": {},
   "source": [
    "Add Items"
   ]
  },
  {
   "cell_type": "code",
   "execution_count": 261,
   "id": "5f418a5c-d472-4edb-863d-540a52214f98",
   "metadata": {},
   "outputs": [
    {
     "name": "stdout",
     "output_type": "stream",
     "text": [
      "{'orange', 'banana', 'cherry', 'apple'}\n"
     ]
    }
   ],
   "source": [
    "thisset={\"apple\", \"banana\", \"cherry\"}\n",
    "thisset.add(\"orange\")\n",
    "print(thisset)"
   ]
  },
  {
   "cell_type": "markdown",
   "id": "4620bbed-2293-4525-9118-61714ca27ce3",
   "metadata": {},
   "source": [
    "Add Sets"
   ]
  },
  {
   "cell_type": "code",
   "execution_count": 264,
   "id": "8e51e893-aefe-43d7-88a3-696c9936f5d4",
   "metadata": {},
   "outputs": [
    {
     "name": "stdout",
     "output_type": "stream",
     "text": [
      "{'pineapple', 'papaya', 'banana', 'mango', 'cherry', 'apple'}\n"
     ]
    }
   ],
   "source": [
    "thisset={\"apple\", \"banana\",\"cherry\"}\n",
    "tropical={\"mango\", \"pineapple\", \"papaya\"}\n",
    "thisset.update(tropical)\n",
    "print(thisset)"
   ]
  },
  {
   "cell_type": "markdown",
   "id": "2e8c5314-265d-405e-b4e4-d7e7e0a5ecbf",
   "metadata": {},
   "source": [
    "Add Any Iterable"
   ]
  },
  {
   "cell_type": "code",
   "execution_count": 269,
   "id": "0c691ace-e34e-4031-be6f-24a61f9024d1",
   "metadata": {},
   "outputs": [
    {
     "name": "stdout",
     "output_type": "stream",
     "text": [
      "{'orange', 'banana', 'apple', 'kiwi', 'cherry'}\n"
     ]
    }
   ],
   "source": [
    "#The object in the update() method does not have to be a set, it can be any iterable object (tuples, lists, dictionaries etc.).\n",
    "thisset={\"apple\", \"banana\", \"cherry\"}\n",
    "mylist=[\"kiwi\", \"orange\"]\n",
    "thisset.update(mylist)\n",
    "print(thisset)"
   ]
  },
  {
   "cell_type": "markdown",
   "id": "f21f9978-0ea2-410e-a564-7e1e82a2746b",
   "metadata": {},
   "source": [
    "The difference between remove and discard:\n",
    "If the item to remove does not exist, remove() will raise an error.\n",
    "\n",
    "If the item to remove does not exist, discard() will NOT raise an error.\n",
    "\n",
    "the pop() method to remove an item, but this method will remove a random item, so you cannot be sure what item that gets removed.\n",
    "\n",
    "The clear() method empties the set:"
   ]
  },
  {
   "cell_type": "markdown",
   "id": "091d7ff9-447a-4982-a37a-128a605ddc1b",
   "metadata": {},
   "source": [
    "Join Sets:\n",
    "union() and update()\n",
    "Both union() and update() will exclude any duplicate items."
   ]
  },
  {
   "cell_type": "code",
   "execution_count": 277,
   "id": "a0139247-d295-48fd-aaab-96ebbced468f",
   "metadata": {},
   "outputs": [
    {
     "name": "stdout",
     "output_type": "stream",
     "text": [
      "{1, 'b', 2, 3, 'c', 'a'}\n",
      "{1, 'b', 2, 3, 'c', 'a'}\n"
     ]
    }
   ],
   "source": [
    "set1={\"a\", \"b\", \"c\"}\n",
    "set2={1,2,3}\n",
    "set3=set1.union(set2)\n",
    "print(set3)\n",
    "\n",
    "#You can use the | operator instead of the union() method, and you will get the same result.\n",
    "set1={\"a\", \"b\", \"c\"}\n",
    "set2={1,2,3}\n",
    "set3=set1 | set2\n",
    "print(set3)\n",
    "#The  | operator only allows you to join sets with sets, and not with other data types like you can with the  union() method."
   ]
  },
  {
   "cell_type": "code",
   "execution_count": 279,
   "id": "60d9bd32-e914-4f1b-a085-6ab533c2871b",
   "metadata": {},
   "outputs": [
    {
     "name": "stdout",
     "output_type": "stream",
     "text": [
      "{1, 'b', 2, 3, 'c', 'a'}\n"
     ]
    }
   ],
   "source": [
    "set1={\"a\",\"b\",\"c\"}\n",
    "set2={1,2,3}\n",
    "set1.update(set2)\n",
    "print(set1)"
   ]
  },
  {
   "cell_type": "markdown",
   "id": "8ac35a93-54b6-4af6-8b52-0b941f66feb9",
   "metadata": {},
   "source": [
    "Intersection(Keep ONLY the duplicates)\n",
    "\n",
    "return a new set, that only contains the items that are present in both sets."
   ]
  },
  {
   "cell_type": "code",
   "execution_count": 284,
   "id": "03508d6f-6cb9-4ec2-a3b3-30274a5a8f99",
   "metadata": {},
   "outputs": [
    {
     "name": "stdout",
     "output_type": "stream",
     "text": [
      "{'apple'}\n",
      "{'apple'}\n"
     ]
    }
   ],
   "source": [
    "set1 = {\"apple\", \"banana\", \"cherry\"}\n",
    "set2 = {\"google\", \"microsoft\", \"apple\"}\n",
    "\n",
    "set3 = set1.intersection(set2)\n",
    "print(set3)\n",
    "#You can use the & operator instead of the intersection() method, and you will get the same result.\n",
    "set1 = {\"apple\", \"banana\", \"cherry\"}\n",
    "set2 = {\"google\", \"microsoft\", \"apple\"}\n",
    "\n",
    "set3 = set1 & (set2)\n",
    "print(set3)\n",
    "#The & operator only allows you to join sets with sets, and not with other data types like you can with the intersection() method."
   ]
  },
  {
   "cell_type": "markdown",
   "id": "89f121cd-969b-4413-a4a3-228bfc81f77b",
   "metadata": {},
   "source": [
    "Difference\n",
    "\n",
    "return a new set that will contain only the items from the first set that are not present in the other set."
   ]
  },
  {
   "cell_type": "code",
   "execution_count": 291,
   "id": "ecd2e3d7-6f56-4254-b338-1ba38867cf21",
   "metadata": {},
   "outputs": [
    {
     "name": "stdout",
     "output_type": "stream",
     "text": [
      "{'banana', 'cherry'}\n",
      "{'banana', 'cherry'}\n"
     ]
    }
   ],
   "source": [
    "set1 = {\"apple\", \"banana\", \"cherry\"}\n",
    "set2 = {\"google\", \"microsoft\", \"apple\"}\n",
    "\n",
    "set3 = set1.difference(set2)\n",
    "\n",
    "print(set3)\n",
    "#Keep all items from set1 that are not in set2\n",
    "\n",
    "#You can use the - operator instead of the difference() method, and you will get the same result.\n",
    "set1 = {\"apple\", \"banana\", \"cherry\"}\n",
    "set2 = {\"google\", \"microsoft\", \"apple\"}\n",
    "\n",
    "set3 = set1 - (set2)\n",
    "\n",
    "print(set3)\n",
    "#The - operator only allows you to join sets with sets, and not with other data types like you can with the difference() method."
   ]
  },
  {
   "cell_type": "markdown",
   "id": "ba60c741-08bf-42f9-9bc8-d6a004c9c38e",
   "metadata": {},
   "source": [
    "The intersection_update() method will also keep ONLY the duplicates, but it will change the original set instead of returning a new set.\n",
    "\n",
    "The difference_update() method will also keep the items from the first set that are not in the other set, but it will change the original set instead of returning a new set."
   ]
  },
  {
   "cell_type": "markdown",
   "id": "b56509a6-9eff-4abd-9838-2a84ee57c3c0",
   "metadata": {},
   "source": [
    "Symmetric Differences\n",
    "The symmetric_difference() method will keep only the elements that are NOT present in both sets."
   ]
  },
  {
   "cell_type": "code",
   "execution_count": 299,
   "id": "6ec06883-800a-4a5a-b1d5-c08a025d9aa3",
   "metadata": {},
   "outputs": [
    {
     "name": "stdout",
     "output_type": "stream",
     "text": [
      "{'microsoft', 'banana', 'google', 'cherry'}\n",
      "{'microsoft', 'banana', 'google', 'cherry'}\n"
     ]
    }
   ],
   "source": [
    "set1 = {\"apple\", \"banana\", \"cherry\"}\n",
    "set2 = {\"google\", \"microsoft\", \"apple\"}\n",
    "\n",
    "set3 = set1.symmetric_difference(set2)\n",
    "\n",
    "print(set3)\n",
    "\n",
    "#You can use the ^ operator instead of the symmetric_difference() method, and you will get the same result.\n",
    "\n",
    "set1 = {\"apple\", \"banana\", \"cherry\"}\n",
    "set2 = {\"google\", \"microsoft\", \"apple\"}\n",
    "\n",
    "set3 = set1 ^ set2\n",
    "print(set3)\n",
    "#The ^ operator only allows you to join sets with sets, and not with other data types like you can with the symmetric_difference() method."
   ]
  },
  {
   "cell_type": "markdown",
   "id": "99362e33-12ee-454b-bd42-b20d38231641",
   "metadata": {},
   "source": [
    "Accessing Items\n",
    "You can access the items of a dictionary by referring to its key name, inside square brackets"
   ]
  },
  {
   "cell_type": "code",
   "execution_count": 321,
   "id": "74b506cc-49d8-421c-9cda-455e4e9898d2",
   "metadata": {},
   "outputs": [
    {
     "name": "stdout",
     "output_type": "stream",
     "text": [
      "Mustang\n",
      "Mustang\n"
     ]
    }
   ],
   "source": [
    "thisdict = {\n",
    "  \"brand\": \"Ford\",\n",
    "  \"model\": \"Mustang\",\n",
    "  \"year\": 1964\n",
    "}\n",
    "x = thisdict[\"model\"]\n",
    "print(x)\n",
    "\n",
    "#There is also a method called get() that will give you the same result:\n",
    "\n",
    "thisdict = {\n",
    "  \"brand\": \"Ford\",\n",
    "  \"model\": \"Mustang\",\n",
    "  \"year\": 1964\n",
    "}\n",
    "x = thisdict.get(\"model\")\n",
    "print(x)"
   ]
  },
  {
   "cell_type": "markdown",
   "id": "85a5c1fb-af79-45d5-b52a-c86ae0cc6fec",
   "metadata": {},
   "source": [
    "Get keys and values"
   ]
  },
  {
   "cell_type": "code",
   "execution_count": 329,
   "id": "1759884d-b3b9-4931-9e11-c48b4b0c53c2",
   "metadata": {},
   "outputs": [
    {
     "name": "stdout",
     "output_type": "stream",
     "text": [
      "dict_keys(['brand', 'model', 'year'])\n",
      "dict_values(['Ford', 'Mustang', 1964])\n"
     ]
    }
   ],
   "source": [
    "thisdict = {\n",
    "  \"brand\": \"Ford\",\n",
    "  \"model\": \"Mustang\",\n",
    "  \"year\": 1964\n",
    "}\n",
    "\n",
    "x = thisdict.keys()\n",
    "\n",
    "print(x)\n",
    "\n",
    "thisdict = {\n",
    "  \"brand\": \"Ford\",\n",
    "  \"model\": \"Mustang\",\n",
    "  \"year\": 1964\n",
    "}\n",
    "\n",
    "x = thisdict.values()\n",
    "\n",
    "print(x)\n"
   ]
  },
  {
   "cell_type": "code",
   "execution_count": 331,
   "id": "7da11d40-5b25-4b1e-85b7-dd248557b1df",
   "metadata": {},
   "outputs": [
    {
     "name": "stdout",
     "output_type": "stream",
     "text": [
      "dict_keys(['brand', 'model', 'year'])\n",
      "dict_keys(['brand', 'model', 'year', 'color'])\n"
     ]
    }
   ],
   "source": [
    "car = {\n",
    "\"brand\": \"Ford\",\n",
    "\"model\": \"Mustang\",\n",
    "\"year\": 1964\n",
    "}\n",
    "\n",
    "x = car.keys()\n",
    "\n",
    "print(x) #before the change\n",
    "\n",
    "car[\"color\"] = \"white\"\n",
    "\n",
    "print(x) #after the change\n",
    "\n",
    "#Add a new item to the original dictionary, and see that the keys list gets updated as well, the same with value"
   ]
  },
  {
   "cell_type": "markdown",
   "id": "caab40f1-5bfc-4e45-86c8-cccbf0bcbbb8",
   "metadata": {},
   "source": [
    "Get a list of the key:value pairs"
   ]
  },
  {
   "cell_type": "code",
   "execution_count": 336,
   "id": "7eb5f326-2812-42ec-9175-59484a812482",
   "metadata": {},
   "outputs": [
    {
     "name": "stdout",
     "output_type": "stream",
     "text": [
      "dict_items([('brand', 'Ford'), ('model', 'Mustang'), ('year', 1964)])\n"
     ]
    }
   ],
   "source": [
    "thisdict = {\n",
    "  \"brand\": \"Ford\",\n",
    "  \"model\": \"Mustang\",\n",
    "  \"year\": 1964\n",
    "}\n",
    "\n",
    "x = thisdict.items()\n",
    "\n",
    "print(x)\n"
   ]
  },
  {
   "cell_type": "markdown",
   "id": "f3da7ae6-7331-4289-9da2-1470b78e77b9",
   "metadata": {},
   "source": [
    "Python If ... Else"
   ]
  },
  {
   "cell_type": "markdown",
   "id": "f502eefc-cba1-4d52-98e1-1d96f4335518",
   "metadata": {},
   "source": [
    "Elif (The elif keyword is Python's way of saying \"if the previous conditions were not true, then try this condition\")"
   ]
  },
  {
   "cell_type": "code",
   "execution_count": 341,
   "id": "5ea78adb-3ad6-4770-a7e9-0dcbbdeca784",
   "metadata": {},
   "outputs": [
    {
     "name": "stdout",
     "output_type": "stream",
     "text": [
      "a and b are equal\n"
     ]
    }
   ],
   "source": [
    "a = 33\n",
    "b = 33\n",
    "if b > a:\n",
    "  print(\"b is greater than a\")\n",
    "elif a == b:\n",
    "  print(\"a and b are equal\")"
   ]
  },
  {
   "cell_type": "markdown",
   "id": "e5896fcd-814f-4c6b-86d7-0e7d802bf324",
   "metadata": {},
   "source": [
    "Else (The else keyword catches anything which isn't caught by the preceding conditions)"
   ]
  },
  {
   "cell_type": "code",
   "execution_count": 344,
   "id": "e97e0c65-16b7-48f1-83da-c5cac9811105",
   "metadata": {},
   "outputs": [
    {
     "name": "stdout",
     "output_type": "stream",
     "text": [
      "a is greater than b\n"
     ]
    }
   ],
   "source": [
    "a = 200\n",
    "b = 33\n",
    "if b > a:\n",
    "  print(\"b is greater than a\")\n",
    "elif a == b:\n",
    "  print(\"a and b are equal\")\n",
    "else:\n",
    "  print(\"a is greater than b\")"
   ]
  },
  {
   "cell_type": "markdown",
   "id": "e6e3383f-658b-4722-ac8e-e5c7c63d6006",
   "metadata": {},
   "source": [
    "Short Hand If"
   ]
  },
  {
   "cell_type": "code",
   "execution_count": 347,
   "id": "092fadbf-f8fd-4d2b-b58a-2d797fedb34d",
   "metadata": {},
   "outputs": [
    {
     "name": "stdout",
     "output_type": "stream",
     "text": [
      "a is greater than b\n"
     ]
    }
   ],
   "source": [
    "if a > b: print(\"a is greater than b\")"
   ]
  },
  {
   "cell_type": "markdown",
   "id": "727c1638-bbbc-40ef-b39a-12d3d1118c46",
   "metadata": {},
   "source": [
    "Short Hand If ... Else"
   ]
  },
  {
   "cell_type": "code",
   "execution_count": 351,
   "id": "93b0f7ed-22e0-4074-a3f6-d03d6fd48a9d",
   "metadata": {},
   "outputs": [
    {
     "name": "stdout",
     "output_type": "stream",
     "text": [
      "B\n"
     ]
    }
   ],
   "source": [
    "a = 2\n",
    "b = 330\n",
    "print(\"A\") if a > b else print(\"B\")"
   ]
  },
  {
   "cell_type": "markdown",
   "id": "397c2c85-d179-4d1a-b5ec-3d1464930cd1",
   "metadata": {},
   "source": [
    "Nested If"
   ]
  },
  {
   "cell_type": "code",
   "execution_count": 354,
   "id": "c812a58f-cab7-4dd6-bd53-765f7f9e4814",
   "metadata": {},
   "outputs": [
    {
     "name": "stdout",
     "output_type": "stream",
     "text": [
      "Above ten,\n",
      "and also above 20!\n"
     ]
    }
   ],
   "source": [
    "x = 41\n",
    "\n",
    "if x > 10:\n",
    "  print(\"Above ten,\")\n",
    "  if x > 20:\n",
    "    print(\"and also above 20!\")\n",
    "  else:\n",
    "    print(\"but not above 20.\")"
   ]
  },
  {
   "cell_type": "markdown",
   "id": "cd5c8009-3b3e-4885-9284-86cfce587148",
   "metadata": {},
   "source": [
    "The pass Statement\n"
   ]
  },
  {
   "cell_type": "code",
   "execution_count": 357,
   "id": "79c598ec-21db-4d8b-88fc-14ad27b1bdf4",
   "metadata": {},
   "outputs": [],
   "source": [
    "a = 33\n",
    "b = 200\n",
    "\n",
    "if b > a:\n",
    "  pass\n",
    "\n",
    "#if statements cannot be empty, but if you for some reason have an if statement with no content, put in the pass statement to avoid getting an error."
   ]
  },
  {
   "cell_type": "markdown",
   "id": "31a7ff12-a401-4273-bca0-71f9240cf2d3",
   "metadata": {},
   "source": [
    "The while Loop"
   ]
  },
  {
   "cell_type": "code",
   "execution_count": 360,
   "id": "2dd5e89d-0d92-4e91-a727-7927214df393",
   "metadata": {},
   "outputs": [
    {
     "name": "stdout",
     "output_type": "stream",
     "text": [
      "1\n",
      "2\n",
      "3\n",
      "4\n",
      "5\n"
     ]
    }
   ],
   "source": [
    "i = 1\n",
    "while i < 6:\n",
    "  print(i)\n",
    "  i += 1"
   ]
  },
  {
   "cell_type": "markdown",
   "id": "0d494ad9-c40f-4ecb-9521-9e608d576f53",
   "metadata": {},
   "source": [
    "The break Statement"
   ]
  },
  {
   "cell_type": "code",
   "execution_count": 363,
   "id": "c3e2811e-43a2-4b09-bf20-28b580723329",
   "metadata": {},
   "outputs": [
    {
     "name": "stdout",
     "output_type": "stream",
     "text": [
      "1\n",
      "2\n",
      "3\n"
     ]
    }
   ],
   "source": [
    "i = 1\n",
    "while i < 6:\n",
    "  print(i)\n",
    "  if i == 3:\n",
    "    break\n",
    "  i += 1"
   ]
  },
  {
   "cell_type": "markdown",
   "id": "97148e04-21be-4176-82dc-7f8a4c532396",
   "metadata": {},
   "source": [
    "The continue Statement"
   ]
  },
  {
   "cell_type": "code",
   "execution_count": 369,
   "id": "5560f392-f50e-4fc3-b2ca-05d60a425210",
   "metadata": {},
   "outputs": [
    {
     "name": "stdout",
     "output_type": "stream",
     "text": [
      "1\n",
      "2\n",
      "4\n",
      "5\n",
      "6\n"
     ]
    }
   ],
   "source": [
    "i = 0\n",
    "while i < 6:\n",
    "  i += 1\n",
    "  if i == 3:\n",
    "    continue\n",
    "  print(i)"
   ]
  },
  {
   "cell_type": "markdown",
   "id": "bf765b5c-b9e7-403e-bde2-dd878541cde9",
   "metadata": {},
   "source": [
    "The else Statement"
   ]
  },
  {
   "cell_type": "code",
   "execution_count": 372,
   "id": "909ec1d6-7f18-40af-9a63-f981c81f96e8",
   "metadata": {},
   "outputs": [
    {
     "name": "stdout",
     "output_type": "stream",
     "text": [
      "1\n",
      "2\n",
      "3\n",
      "4\n",
      "5\n",
      "i is no longer less than 6\n"
     ]
    }
   ],
   "source": [
    "i = 1\n",
    "while i < 6:\n",
    "  print(i)\n",
    "  i += 1\n",
    "else:\n",
    "  print(\"i is no longer less than 6\")"
   ]
  }
 ],
 "metadata": {
  "kernelspec": {
   "display_name": "Python [conda env:base] *",
   "language": "python",
   "name": "conda-base-py"
  },
  "language_info": {
   "codemirror_mode": {
    "name": "ipython",
    "version": 3
   },
   "file_extension": ".py",
   "mimetype": "text/x-python",
   "name": "python",
   "nbconvert_exporter": "python",
   "pygments_lexer": "ipython3",
   "version": "3.12.7"
  }
 },
 "nbformat": 4,
 "nbformat_minor": 5
}
