{
 "cells": [
  {
   "cell_type": "markdown",
   "id": "41e0a6ad-190f-4c7b-9350-201e8bad0804",
   "metadata": {},
   "source": [
    "Builtin finctions"
   ]
  },
  {
   "cell_type": "markdown",
   "id": "e6370e3d-c7b3-4b48-b02f-9f76aca660b2",
   "metadata": {},
   "source": [
    "Exercise 1:"
   ]
  },
  {
   "cell_type": "code",
   "execution_count": 28,
   "id": "22f5a660-2115-49c7-b2eb-8607b2183f81",
   "metadata": {},
   "outputs": [
    {
     "name": "stdin",
     "output_type": "stream",
     "text": [
      " 1 2 3 4 5\n"
     ]
    },
    {
     "name": "stdout",
     "output_type": "stream",
     "text": [
      "120\n"
     ]
    }
   ],
   "source": [
    "def myfunc():\n",
    "    import math\n",
    "    mylist=list(map(int,input().split()))\n",
    "    y=math.prod(mylist)\n",
    "    print(y)\n",
    "\n",
    "myfunc()"
   ]
  },
  {
   "cell_type": "markdown",
   "id": "dcf8cf3b-d944-4d51-9182-a7d5f388eac6",
   "metadata": {},
   "source": [
    "Exercise 2:"
   ]
  },
  {
   "cell_type": "code",
   "execution_count": 47,
   "id": "5f4e3504-ad02-4d20-af10-dcffd7c586b7",
   "metadata": {},
   "outputs": [
    {
     "name": "stdin",
     "output_type": "stream",
     "text": [
      " HellOWorlD\n"
     ]
    },
    {
     "name": "stdout",
     "output_type": "stream",
     "text": [
      "4\n",
      "6\n"
     ]
    }
   ],
   "source": [
    "def myfunc():\n",
    "    txt=input()\n",
    "    sumUC=0\n",
    "    sumLC=0\n",
    "    for i in range(len(txt)):\n",
    "        if (txt[i].isupper()):\n",
    "            sumUC+=1\n",
    "        else:\n",
    "            sumLC+=1\n",
    "    print(sumUC)\n",
    "    print(sumLC)\n",
    "\n",
    "myfunc()"
   ]
  },
  {
   "cell_type": "markdown",
   "id": "bfafb949-233a-41c9-92a2-5c16098f35f6",
   "metadata": {},
   "source": [
    "Exercise 3:"
   ]
  },
  {
   "cell_type": "code",
   "execution_count": 57,
   "id": "f4d6bcf9-1026-494a-870c-2cff3e4774e4",
   "metadata": {},
   "outputs": [
    {
     "name": "stdin",
     "output_type": "stream",
     "text": [
      " mamam\n"
     ]
    },
    {
     "name": "stdout",
     "output_type": "stream",
     "text": [
      "It is a palindrome\n"
     ]
    }
   ],
   "source": [
    "def myfunc():\n",
    "    txt=input()\n",
    "    if txt==txt[::-1]:\n",
    "        print(\"It is a palindrome\")\n",
    "    else:\n",
    "        print(\"It is not a palindrome\")\n",
    "\n",
    "myfunc()"
   ]
  },
  {
   "cell_type": "markdown",
   "id": "f35a3a16-8509-4b4f-adfa-ae83cd5eab47",
   "metadata": {},
   "source": [
    "Exercise 4:"
   ]
  },
  {
   "cell_type": "code",
   "execution_count": 66,
   "id": "f9bc8db5-7c8a-4b36-93ba-be39971ba312",
   "metadata": {},
   "outputs": [
    {
     "name": "stdin",
     "output_type": "stream",
     "text": [
      " 100\n",
      " 2400\n"
     ]
    },
    {
     "name": "stdout",
     "output_type": "stream",
     "text": [
      "Square root of 100 after 2400 milliseconds is 10.0\n"
     ]
    }
   ],
   "source": [
    "import time\n",
    "import math\n",
    "num = int(input()) \n",
    "delay = int(input()) \n",
    "time.sleep(delay / 1000)\n",
    "result = math.sqrt(num)\n",
    "print(f\"Square root of {num} after {delay} milliseconds is {result}\")"
   ]
  },
  {
   "cell_type": "markdown",
   "id": "7b89bca3-0d63-4846-8b14-969ca8079037",
   "metadata": {},
   "source": [
    "Exercise 5:"
   ]
  },
  {
   "cell_type": "code",
   "execution_count": 64,
   "id": "0bee8229-fa2c-427e-a73d-156d630ff1b9",
   "metadata": {},
   "outputs": [
    {
     "name": "stdout",
     "output_type": "stream",
     "text": [
      "True\n"
     ]
    }
   ],
   "source": [
    "def myfunc():\n",
    "    a = (1, True, \"Hello\", 3.5) \n",
    "    result = all(a)\n",
    "    print(result)\n",
    "myfunc()"
   ]
  },
  {
   "cell_type": "markdown",
   "id": "9eaaee91-ee63-400e-be01-eddf9c71d926",
   "metadata": {},
   "source": [
    "Directories and Files exercises"
   ]
  },
  {
   "cell_type": "markdown",
   "id": "288b667b-8aea-4dfd-84fa-c41c97529073",
   "metadata": {},
   "source": [
    "Exercise 1:"
   ]
  },
  {
   "cell_type": "code",
   "execution_count": 4,
   "id": "7d1f0138-637e-4498-b35e-c9928b381451",
   "metadata": {},
   "outputs": [
    {
     "name": "stdout",
     "output_type": "stream",
     "text": [
      "Directories:\n",
      "['ljkkn', '.ipynb_checkpoints']\n",
      "Files:\n",
      "['.DS_Store', 'lab2.ipynb', 'lab6.ipynb', 'lab4.ipynb', 'lab3.ipynb', 'lab1.ipynb', 'lab5.ipynb', 'needed.ipynb']\n"
     ]
    }
   ],
   "source": [
    "import os\n",
    "\n",
    "path = \".\"\n",
    "\n",
    "print(\"Directories:\")\n",
    "print([d for d in os.listdir(path) if os.path.isdir(os.path.join(path, d))])\n",
    "\n",
    "print(\"Files:\")\n",
    "print([f for f in os.listdir(path) if os.path.isfile(os.path.join(path, f))])"
   ]
  },
  {
   "cell_type": "markdown",
   "id": "506020d7-dbe5-45b4-9f89-b2d94fdcea99",
   "metadata": {},
   "source": [
    "Exercise 2:"
   ]
  },
  {
   "cell_type": "code",
   "execution_count": 5,
   "id": "05ee0ac2-65e6-4c05-a8fd-7e266141c71f",
   "metadata": {},
   "outputs": [
    {
     "name": "stdin",
     "output_type": "stream",
     "text": [
      "Enter the file: dameli.txt\n"
     ]
    },
    {
     "name": "stdout",
     "output_type": "stream",
     "text": [
      "True\n",
      "True\n",
      "True\n",
      "False\n"
     ]
    }
   ],
   "source": [
    "import os\n",
    "path=str(input(\"Enter the file:\"))\n",
    "print(os.access(path, os.F_OK))\n",
    "print(os.access(path, os.R_OK))\n",
    "print(os.access(path, os.W_OK))\n",
    "print(os.access(path, os.X_OK))"
   ]
  },
  {
   "cell_type": "markdown",
   "id": "a6af2b32-c775-46bb-9e48-4e6cbd9b98eb",
   "metadata": {},
   "source": [
    "Exercise 3:"
   ]
  },
  {
   "cell_type": "code",
   "execution_count": 1,
   "id": "4a73b5f5-9d05-48d6-b775-34ba35c125c0",
   "metadata": {},
   "outputs": [
    {
     "name": "stdout",
     "output_type": "stream",
     "text": [
      "Path does not exist !\n"
     ]
    }
   ],
   "source": [
    "import os\n",
    "if os.path.exists(\"http://localhost:8888/lab/tree/Desktop/anaconda%20test/dameli.txt\"):\n",
    "    print(\"Yes it does exist !\")\n",
    "    print(os.path.dirname(\"http://localhost:8888/lab/tree/Desktop/anaconda%20test/dameli.txt\"))\n",
    "    print(os.path.basename(\"http://localhost:8888/lab/tree/Desktop/anaconda%20test/dameli.txt\"))\n",
    "else : \n",
    "    print(\"Path does not exist !\")"
   ]
  },
  {
   "cell_type": "markdown",
   "id": "03cc1f24-c75f-4f50-8ada-93da460f229f",
   "metadata": {},
   "source": [
    "Exercise 4:"
   ]
  },
  {
   "cell_type": "code",
   "execution_count": 19,
   "id": "d3aef568-c7ef-4eb2-bdf4-3907daaaa5d2",
   "metadata": {},
   "outputs": [
    {
     "name": "stdout",
     "output_type": "stream",
     "text": [
      "The number of lines is: 3\n"
     ]
    }
   ],
   "source": [
    "i=0\n",
    "f=open(\"dameli.txt\" , \"r\")\n",
    "for _ in f:\n",
    "    i=i+1\n",
    "f.close()\n",
    "print(\"The number of lines is:\" , i)\n",
    "\n",
    "#для себя:\n",
    "#_ отвечает за новую строку"
   ]
  },
  {
   "cell_type": "markdown",
   "id": "cf43e065-ec8a-45e7-b9e0-9123ac2e68c0",
   "metadata": {},
   "source": [
    "Exercise 5:"
   ]
  },
  {
   "cell_type": "code",
   "execution_count": 25,
   "id": "5b4a3cd7-1404-4d77-a171-83fe76add511",
   "metadata": {},
   "outputs": [
    {
     "name": "stdout",
     "output_type": "stream",
     "text": [
      "Hello my dear friends!\n",
      "I hope I pass the PP2 course successfully!\n",
      "Wish you all of the best!apple\n",
      "orange\n",
      "lime\n",
      "\n"
     ]
    }
   ],
   "source": [
    "mylist = [ \"apple\" , \"orange\" , \"lime\" ]\n",
    "l = open(\"dameli.txt\" , \"a\")\n",
    "\n",
    "for i in mylist : \n",
    "    l.write(i + \"\\n\")\n",
    "l.close()\n",
    "\n",
    "l = open(\"dameli.txt\" , \"r\")\n",
    "print(l.read())\n",
    "\n",
    "#для себя:\n",
    "#a-append внести изминения без удалений\n",
    "#w-очистить(удалить) полностью файл и внести новые изминения"
   ]
  },
  {
   "cell_type": "markdown",
   "id": "15948e2f-44d7-45a7-92b6-0e4e88b5060b",
   "metadata": {},
   "source": [
    "Exercise 6:"
   ]
  },
  {
   "cell_type": "code",
   "execution_count": 35,
   "id": "5d78d6ea-7b3e-4638-9060-55a5f08f31fb",
   "metadata": {},
   "outputs": [
    {
     "ename": "FileExistsError",
     "evalue": "[Errno 17] File exists: 'A.txt'",
     "output_type": "error",
     "traceback": [
      "\u001b[0;31m---------------------------------------------------------------------------\u001b[0m",
      "\u001b[0;31mFileExistsError\u001b[0m                           Traceback (most recent call last)",
      "Cell \u001b[0;32mIn[35], line 5\u001b[0m\n\u001b[1;32m      3\u001b[0m letters \u001b[38;5;241m=\u001b[39m \u001b[38;5;124m\"\u001b[39m\u001b[38;5;124mABCDEFGHIJKLMNOPQRSTUVWXYZ\u001b[39m\u001b[38;5;124m\"\u001b[39m\n\u001b[1;32m      4\u001b[0m \u001b[38;5;28;01mfor\u001b[39;00m i \u001b[38;5;129;01min\u001b[39;00m letters : \n\u001b[0;32m----> 5\u001b[0m     file \u001b[38;5;241m=\u001b[39m \u001b[38;5;28mopen\u001b[39m(\u001b[38;5;124mf\u001b[39m\u001b[38;5;124m\"\u001b[39m\u001b[38;5;132;01m{\u001b[39;00mi\u001b[38;5;132;01m}\u001b[39;00m\u001b[38;5;124m.txt\u001b[39m\u001b[38;5;124m\"\u001b[39m , \u001b[38;5;124m\"\u001b[39m\u001b[38;5;124mx\u001b[39m\u001b[38;5;124m\"\u001b[39m)\n",
      "File \u001b[0;32m/opt/anaconda3/lib/python3.12/site-packages/IPython/core/interactiveshell.py:324\u001b[0m, in \u001b[0;36m_modified_open\u001b[0;34m(file, *args, **kwargs)\u001b[0m\n\u001b[1;32m    317\u001b[0m \u001b[38;5;28;01mif\u001b[39;00m file \u001b[38;5;129;01min\u001b[39;00m {\u001b[38;5;241m0\u001b[39m, \u001b[38;5;241m1\u001b[39m, \u001b[38;5;241m2\u001b[39m}:\n\u001b[1;32m    318\u001b[0m     \u001b[38;5;28;01mraise\u001b[39;00m \u001b[38;5;167;01mValueError\u001b[39;00m(\n\u001b[1;32m    319\u001b[0m         \u001b[38;5;124mf\u001b[39m\u001b[38;5;124m\"\u001b[39m\u001b[38;5;124mIPython won\u001b[39m\u001b[38;5;124m'\u001b[39m\u001b[38;5;124mt let you open fd=\u001b[39m\u001b[38;5;132;01m{\u001b[39;00mfile\u001b[38;5;132;01m}\u001b[39;00m\u001b[38;5;124m by default \u001b[39m\u001b[38;5;124m\"\u001b[39m\n\u001b[1;32m    320\u001b[0m         \u001b[38;5;124m\"\u001b[39m\u001b[38;5;124mas it is likely to crash IPython. If you know what you are doing, \u001b[39m\u001b[38;5;124m\"\u001b[39m\n\u001b[1;32m    321\u001b[0m         \u001b[38;5;124m\"\u001b[39m\u001b[38;5;124myou can use builtins\u001b[39m\u001b[38;5;124m'\u001b[39m\u001b[38;5;124m open.\u001b[39m\u001b[38;5;124m\"\u001b[39m\n\u001b[1;32m    322\u001b[0m     )\n\u001b[0;32m--> 324\u001b[0m \u001b[38;5;28;01mreturn\u001b[39;00m io_open(file, \u001b[38;5;241m*\u001b[39margs, \u001b[38;5;241m*\u001b[39m\u001b[38;5;241m*\u001b[39mkwargs)\n",
      "\u001b[0;31mFileExistsError\u001b[0m: [Errno 17] File exists: 'A.txt'"
     ]
    }
   ],
   "source": [
    "import os \n",
    "\n",
    "letters = \"ABCDEFGHIJKLMNOPQRSTUVWXYZ\"\n",
    "for i in letters : \n",
    "    file = open(f\"{i}.txt\" , \"x\")\n",
    "\n",
    "#x воссаздает файл, но если такой файл есть выйдет ошибка, а он уже есть!!!\n",
    "#открыл в анаконде home"
   ]
  },
  {
   "cell_type": "markdown",
   "id": "8aaa184c-647a-4260-a877-3ed52c834053",
   "metadata": {},
   "source": [
    "Exercise 7:"
   ]
  },
  {
   "cell_type": "code",
   "execution_count": 37,
   "id": "16471fc1-5677-4513-a249-f58117b045e9",
   "metadata": {},
   "outputs": [
    {
     "name": "stdout",
     "output_type": "stream",
     "text": [
      "Hello my dear friends!\n",
      "I hope I pass the PP2 course successfully!\n",
      "Wish you all of the best!apple\n",
      "orange\n",
      "lime\n",
      "\n"
     ]
    }
   ],
   "source": [
    "v = open(\"dameli.txt\" , \"r\")\n",
    "g = open(\"dublicate.txt\" , \"a\")\n",
    "\n",
    "g.write(v.read())\n",
    "g.close()\n",
    "\n",
    "g = open(\"dublicate.txt\" , \"r\")\n",
    "print(g.read())"
   ]
  },
  {
   "cell_type": "markdown",
   "id": "30600acd-0d9e-4468-8dcd-915a3f082771",
   "metadata": {},
   "source": [
    "Exercise 8:"
   ]
  },
  {
   "cell_type": "code",
   "execution_count": 52,
   "id": "419b34d2-c226-4357-a344-b64b4f7c0133",
   "metadata": {},
   "outputs": [
    {
     "name": "stdout",
     "output_type": "stream",
     "text": [
      "Path does not exist\n"
     ]
    }
   ],
   "source": [
    "\n",
    "import os \n",
    "\n",
    "if os.path.exists(\"\\\\Desktop\\\\anaconda test\\\\deleteme.txt\\\\\"):\n",
    "    if os.access(\"\\\\Desktop\\\\anaconda test\\\\deleteme.txt\\\\\", os.W_OK):\n",
    "        os.remove(\"\\\\Desktop\\\\anaconda test\\\\deleteme.txt\\\\\")\n",
    "        print(\"Deleted.\")\n",
    "    else : \n",
    "        print(\"There is no access\")\n",
    "else : \n",
    "    print(\"Path does not exist\")"
   ]
  }
 ],
 "metadata": {
  "kernelspec": {
   "display_name": "Python [conda env:base] *",
   "language": "python",
   "name": "conda-base-py"
  },
  "language_info": {
   "codemirror_mode": {
    "name": "ipython",
    "version": 3
   },
   "file_extension": ".py",
   "mimetype": "text/x-python",
   "name": "python",
   "nbconvert_exporter": "python",
   "pygments_lexer": "ipython3",
   "version": "3.12.7"
  }
 },
 "nbformat": 4,
 "nbformat_minor": 5
}
